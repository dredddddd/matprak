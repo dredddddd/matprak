{
 "cells": [
  {
   "cell_type": "code",
   "execution_count": 1,
   "id": "83cffebd",
   "metadata": {},
   "outputs": [],
   "source": [
    "import numpy as np\n",
    "from sklearn.datasets import fetch_20newsgroups\n",
    "from sklearn.feature_extraction.text import CountVectorizer\n",
    "import nltk\n",
    "from sklearn.feature_extraction import _stop_words"
   ]
  },
  {
   "cell_type": "code",
   "execution_count": 3,
   "id": "421858a8",
   "metadata": {},
   "outputs": [],
   "source": [
    "newsgroups_train = fetch_20newsgroups(subset='train', remove=('headers', 'footers', 'quotes'))\n",
    "nameOfTag = newsgroups_train.target_names\n",
    "vectorizer = CountVectorizer(lowercase=True, stop_words=_stop_words.ENGLISH_STOP_WORDS,analyzer='word', binary=True,max_df=0.95, min_df=2,max_features=n_features)\n",
    "X_train = vectorizer.fit_transform(newsgroups_train.data).toarray()\n",
    "topic = 20\n",
    "n_d_k = np.zeros( topic * X_train.shape[0]).reshape(X_train.shape[0], topic)\n",
    "n_k_w = np.zeros( topic * X_train.shape[1]).reshape(topic, X_train.shape[1])\n",
    "n_k = np.zeros(topic)\n",
    "document, word = X_train.nonzero()\n",
    "z = np.random.choice(topic, len(document))"
   ]
  },
  {
   "cell_type": "code",
   "execution_count": 4,
   "id": "de6c8f9a",
   "metadata": {},
   "outputs": [],
   "source": [
    "for i in tqdm(range(max_iter)):\n",
    "    for j in range(len(_document)):\n",
    "        cur_word = _word[j]\n",
    "        cur_document = _document[j]\n",
    "        cur_topic = _z[j]\n",
    "        n_d_k[cur_document, cur_topic] -= 1\n",
    "        n_k_w[cur_topic, cur_word] -= 1\n",
    "        n_k[cur_topic] -= 1\n",
    "        p = (n_d_k[cur_document, :] + _alpha) * (n_k_w[:, cur_word] + _beta[cur_word]) / (n_k + _beta.sum())\n",
    "        _z[j] = np.random.choice(np.arange(_topic), p = p / p.sum())\n",
    "        n_d_k[cur_document, _z[j]] += 1\n",
    "        n_k_w[_z[j], cur_word] += 1\n",
    "        n_k[_z[j]] += 1"
   ]
  },
  {
   "cell_type": "code",
   "execution_count": 10,
   "id": "a29c41f6",
   "metadata": {},
   "outputs": [
    {
     "name": "stdout",
     "output_type": "stream",
     "text": [
      "Tag 1 \t10\t11\t12\t14\t15\t16\t17\t18\t20\t25\n",
      "Tag 2 \t1993\tapril\tnational\tnew\toffice\tpresident\tresearch\tstates\twashington\tyear\n",
      "Tag 3 \tdoes\tdoesn\tdon\tjust\tknow\tlike\tpeople\treally\tthink\tway\n",
      "Tag 4 \tchip\tclipper\tdata\tencryption\tgovernment\tkey\tkeys\tphone\tpublic\tuse\n",
      "Tag 5 \tavailable\tcode\tfile\tfiles\tfollowing\tftp\tprogram\tusing\tversion\twindow\n",
      "Tag 6 \tdid\tdidn\tdon\tgoing\tjust\tknow\treally\tsaid\tthink\ttime\n",
      "Tag 7 \thigh\tlow\tmake\tnasa\tpossible\tpower\tproblem\tspace\tused\tyears\n",
      "Tag 8 \tbelieve\tcause\tdon\tedu\tjust\tknow\tlike\tsoon\tsure\tve\n",
      "Tag 9 \tcard\tdos\tdrive\tmemory\tpc\tproblem\tuse\tusing\tvideo\twindows\n",
      "Tag 10 \tbike\tcar\tcars\tgood\tjust\tlike\tlook\tnew\told\tthink\n",
      "Tag 11 \tcondition\tinterested\tnew\toffer\tpower\tprice\tsale\tsell\tshipping\tused\n",
      "Tag 12 \tdoes\tfar\tknow\tlike\tmake\tneed\tproblem\tright\tuse\twant\n",
      "Tag 13 \tchildren\tgovernment\tisrael\tisraeli\tjews\tkilled\tpeople\twar\twomen\tworld\n",
      "Tag 14 \tbelieve\tbible\tchristian\tchristians\tgod\tjesus\tlife\tpeople\tpoint\tsay\n",
      "Tag 15 \tbased\texample\tgeneral\tlarge\tlevel\tprovide\tresults\tscience\tsmall\tsubject\n",
      "Tag 16 \tadvance\tdoes\thelp\thi\tknow\tlike\tlooking\tmail\tpost\tthanks\n",
      "Tag 17 \tdon\tgood\tgot\tjust\tlike\tlittle\tthink\ttry\tve\tway\n",
      "Tag 18 \tdon\tgood\tjust\tknow\tlike\tll\tpeople\tthink\ttime\tuse\n",
      "Tag 19 \tcase\tdon\tgovernment\tgun\tlaw\tpeople\tright\trights\tsay\tstate\n",
      "Tag 20 \tgame\tgames\tgood\tleague\tplay\tplayers\tseason\tteam\twin\tyear\n"
     ]
    }
   ],
   "source": [
    "result = np.argsort(n_k_w, axis=1)[:, -10:]\n",
    "for i in range(20):\n",
    "    matrix = np.zeros((1, X_train.shape[1]))\n",
    "    for j in result[i]:\n",
    "        matrix[0, j] = 1\n",
    "    print('Tag {} \\t{}'.format(i + 1, '\\t'.join(vectorizer.inverse_transform(matrix)[0])))"
   ]
  },
  {
   "cell_type": "code",
   "execution_count": null,
   "id": "4df3c3e2",
   "metadata": {},
   "outputs": [],
   "source": []
  }
 ],
 "metadata": {
  "kernelspec": {
   "display_name": "Python 3 (ipykernel)",
   "language": "python",
   "name": "python3"
  },
  "language_info": {
   "codemirror_mode": {
    "name": "ipython",
    "version": 3
   },
   "file_extension": ".py",
   "mimetype": "text/x-python",
   "name": "python",
   "nbconvert_exporter": "python",
   "pygments_lexer": "ipython3",
   "version": "3.9.12"
  }
 },
 "nbformat": 4,
 "nbformat_minor": 5
}
