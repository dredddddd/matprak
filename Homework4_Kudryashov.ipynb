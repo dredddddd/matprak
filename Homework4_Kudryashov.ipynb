{
 "cells": [
  {
   "cell_type": "markdown",
   "metadata": {
    "id": "omgbU3P9Jxno"
   },
   "source": [
    "### Learn Pandas in 10 minutes\n",
    "\n",
    "[https://pandas.pydata.org/pandas-docs/stable/10min.html](https://pandas.pydata.org/pandas-docs/stable/10min.html)"
   ]
  },
  {
   "cell_type": "code",
   "execution_count": 2,
   "metadata": {
    "id": "ic6jYFWHJxnq"
   },
   "outputs": [],
   "source": [
    "import pandas as pd\n",
    "import matplotlib.pyplot as plt"
   ]
  },
  {
   "cell_type": "markdown",
   "metadata": {
    "id": "lpRrwLtZJxns"
   },
   "source": [
    "### Датасет\n",
    "Мы будем работать с датасетом задержек авиарейсов https://www.kaggle.com/datasets/usdot/flight-delays. Скачайте файлы из этого датасета."
   ]
  },
  {
   "cell_type": "markdown",
   "metadata": {
    "id": "u9NlK87UbJPy"
   },
   "source": [
    "### Чтение данных\n",
    "\n",
    "`pd.read_csv` считает таблицу в объект типа датафрейм\n",
    "\n",
    "`df.head` покажет пять (по умолчанию) верхних строк таблицы:"
   ]
  },
  {
   "cell_type": "code",
   "execution_count": 3,
   "metadata": {
    "id": "vTn2L1EnJxnt",
    "outputId": "e9b48783-e57c-49a4-ad58-040ba3f14c95"
   },
   "outputs": [
    {
     "name": "stderr",
     "output_type": "stream",
     "text": [
      "/var/folders/wx/_29jf6715_v4vhw4nn5fqcpw0000gn/T/ipykernel_29631/2162358262.py:1: DtypeWarning: Columns (7,8) have mixed types. Specify dtype option on import or set low_memory=False.\n",
      "  df = pd.read_csv('flights.csv')\n"
     ]
    },
    {
     "data": {
      "text/html": [
       "<div>\n",
       "<style scoped>\n",
       "    .dataframe tbody tr th:only-of-type {\n",
       "        vertical-align: middle;\n",
       "    }\n",
       "\n",
       "    .dataframe tbody tr th {\n",
       "        vertical-align: top;\n",
       "    }\n",
       "\n",
       "    .dataframe thead th {\n",
       "        text-align: right;\n",
       "    }\n",
       "</style>\n",
       "<table border=\"1\" class=\"dataframe\">\n",
       "  <thead>\n",
       "    <tr style=\"text-align: right;\">\n",
       "      <th></th>\n",
       "      <th>YEAR</th>\n",
       "      <th>MONTH</th>\n",
       "      <th>DAY</th>\n",
       "      <th>DAY_OF_WEEK</th>\n",
       "      <th>AIRLINE</th>\n",
       "      <th>FLIGHT_NUMBER</th>\n",
       "      <th>TAIL_NUMBER</th>\n",
       "      <th>ORIGIN_AIRPORT</th>\n",
       "      <th>DESTINATION_AIRPORT</th>\n",
       "      <th>SCHEDULED_DEPARTURE</th>\n",
       "      <th>...</th>\n",
       "      <th>ARRIVAL_TIME</th>\n",
       "      <th>ARRIVAL_DELAY</th>\n",
       "      <th>DIVERTED</th>\n",
       "      <th>CANCELLED</th>\n",
       "      <th>CANCELLATION_REASON</th>\n",
       "      <th>AIR_SYSTEM_DELAY</th>\n",
       "      <th>SECURITY_DELAY</th>\n",
       "      <th>AIRLINE_DELAY</th>\n",
       "      <th>LATE_AIRCRAFT_DELAY</th>\n",
       "      <th>WEATHER_DELAY</th>\n",
       "    </tr>\n",
       "  </thead>\n",
       "  <tbody>\n",
       "    <tr>\n",
       "      <th>0</th>\n",
       "      <td>2015</td>\n",
       "      <td>1</td>\n",
       "      <td>1</td>\n",
       "      <td>4</td>\n",
       "      <td>AS</td>\n",
       "      <td>98</td>\n",
       "      <td>N407AS</td>\n",
       "      <td>ANC</td>\n",
       "      <td>SEA</td>\n",
       "      <td>5</td>\n",
       "      <td>...</td>\n",
       "      <td>408.0</td>\n",
       "      <td>-22.0</td>\n",
       "      <td>0</td>\n",
       "      <td>0</td>\n",
       "      <td>NaN</td>\n",
       "      <td>NaN</td>\n",
       "      <td>NaN</td>\n",
       "      <td>NaN</td>\n",
       "      <td>NaN</td>\n",
       "      <td>NaN</td>\n",
       "    </tr>\n",
       "    <tr>\n",
       "      <th>1</th>\n",
       "      <td>2015</td>\n",
       "      <td>1</td>\n",
       "      <td>1</td>\n",
       "      <td>4</td>\n",
       "      <td>AA</td>\n",
       "      <td>2336</td>\n",
       "      <td>N3KUAA</td>\n",
       "      <td>LAX</td>\n",
       "      <td>PBI</td>\n",
       "      <td>10</td>\n",
       "      <td>...</td>\n",
       "      <td>741.0</td>\n",
       "      <td>-9.0</td>\n",
       "      <td>0</td>\n",
       "      <td>0</td>\n",
       "      <td>NaN</td>\n",
       "      <td>NaN</td>\n",
       "      <td>NaN</td>\n",
       "      <td>NaN</td>\n",
       "      <td>NaN</td>\n",
       "      <td>NaN</td>\n",
       "    </tr>\n",
       "    <tr>\n",
       "      <th>2</th>\n",
       "      <td>2015</td>\n",
       "      <td>1</td>\n",
       "      <td>1</td>\n",
       "      <td>4</td>\n",
       "      <td>US</td>\n",
       "      <td>840</td>\n",
       "      <td>N171US</td>\n",
       "      <td>SFO</td>\n",
       "      <td>CLT</td>\n",
       "      <td>20</td>\n",
       "      <td>...</td>\n",
       "      <td>811.0</td>\n",
       "      <td>5.0</td>\n",
       "      <td>0</td>\n",
       "      <td>0</td>\n",
       "      <td>NaN</td>\n",
       "      <td>NaN</td>\n",
       "      <td>NaN</td>\n",
       "      <td>NaN</td>\n",
       "      <td>NaN</td>\n",
       "      <td>NaN</td>\n",
       "    </tr>\n",
       "    <tr>\n",
       "      <th>3</th>\n",
       "      <td>2015</td>\n",
       "      <td>1</td>\n",
       "      <td>1</td>\n",
       "      <td>4</td>\n",
       "      <td>AA</td>\n",
       "      <td>258</td>\n",
       "      <td>N3HYAA</td>\n",
       "      <td>LAX</td>\n",
       "      <td>MIA</td>\n",
       "      <td>20</td>\n",
       "      <td>...</td>\n",
       "      <td>756.0</td>\n",
       "      <td>-9.0</td>\n",
       "      <td>0</td>\n",
       "      <td>0</td>\n",
       "      <td>NaN</td>\n",
       "      <td>NaN</td>\n",
       "      <td>NaN</td>\n",
       "      <td>NaN</td>\n",
       "      <td>NaN</td>\n",
       "      <td>NaN</td>\n",
       "    </tr>\n",
       "    <tr>\n",
       "      <th>4</th>\n",
       "      <td>2015</td>\n",
       "      <td>1</td>\n",
       "      <td>1</td>\n",
       "      <td>4</td>\n",
       "      <td>AS</td>\n",
       "      <td>135</td>\n",
       "      <td>N527AS</td>\n",
       "      <td>SEA</td>\n",
       "      <td>ANC</td>\n",
       "      <td>25</td>\n",
       "      <td>...</td>\n",
       "      <td>259.0</td>\n",
       "      <td>-21.0</td>\n",
       "      <td>0</td>\n",
       "      <td>0</td>\n",
       "      <td>NaN</td>\n",
       "      <td>NaN</td>\n",
       "      <td>NaN</td>\n",
       "      <td>NaN</td>\n",
       "      <td>NaN</td>\n",
       "      <td>NaN</td>\n",
       "    </tr>\n",
       "  </tbody>\n",
       "</table>\n",
       "<p>5 rows × 31 columns</p>\n",
       "</div>"
      ],
      "text/plain": [
       "   YEAR  MONTH  DAY  DAY_OF_WEEK AIRLINE  FLIGHT_NUMBER TAIL_NUMBER  \\\n",
       "0  2015      1    1            4      AS             98      N407AS   \n",
       "1  2015      1    1            4      AA           2336      N3KUAA   \n",
       "2  2015      1    1            4      US            840      N171US   \n",
       "3  2015      1    1            4      AA            258      N3HYAA   \n",
       "4  2015      1    1            4      AS            135      N527AS   \n",
       "\n",
       "  ORIGIN_AIRPORT DESTINATION_AIRPORT  SCHEDULED_DEPARTURE  ...  ARRIVAL_TIME  \\\n",
       "0            ANC                 SEA                    5  ...         408.0   \n",
       "1            LAX                 PBI                   10  ...         741.0   \n",
       "2            SFO                 CLT                   20  ...         811.0   \n",
       "3            LAX                 MIA                   20  ...         756.0   \n",
       "4            SEA                 ANC                   25  ...         259.0   \n",
       "\n",
       "   ARRIVAL_DELAY  DIVERTED  CANCELLED  CANCELLATION_REASON  AIR_SYSTEM_DELAY  \\\n",
       "0          -22.0         0          0                  NaN               NaN   \n",
       "1           -9.0         0          0                  NaN               NaN   \n",
       "2            5.0         0          0                  NaN               NaN   \n",
       "3           -9.0         0          0                  NaN               NaN   \n",
       "4          -21.0         0          0                  NaN               NaN   \n",
       "\n",
       "   SECURITY_DELAY  AIRLINE_DELAY  LATE_AIRCRAFT_DELAY  WEATHER_DELAY  \n",
       "0             NaN            NaN                  NaN            NaN  \n",
       "1             NaN            NaN                  NaN            NaN  \n",
       "2             NaN            NaN                  NaN            NaN  \n",
       "3             NaN            NaN                  NaN            NaN  \n",
       "4             NaN            NaN                  NaN            NaN  \n",
       "\n",
       "[5 rows x 31 columns]"
      ]
     },
     "execution_count": 3,
     "metadata": {},
     "output_type": "execute_result"
    }
   ],
   "source": [
    "df = pd.read_csv('flights.csv')\n",
    "df.head()"
   ]
  },
  {
   "cell_type": "markdown",
   "metadata": {
    "id": "4dKj4lZxbJPz"
   },
   "source": [
    "Из чего состоит таблица"
   ]
  },
  {
   "cell_type": "markdown",
   "metadata": {
    "id": "EcmBubQCbJPz"
   },
   "source": [
    "![](https://media.geeksforgeeks.org/wp-content/cdn-uploads/creating_dataframe1.png)"
   ]
  },
  {
   "cell_type": "markdown",
   "metadata": {
    "id": "g7f3oJ5RbJP0"
   },
   "source": [
    "Индексация строк/столбцов"
   ]
  },
  {
   "cell_type": "markdown",
   "metadata": {
    "id": "4m42u64_bJP0"
   },
   "source": [
    "![](https://i0.wp.com/sparkbyexamples.com/wp-content/uploads/2021/10/pandas-difference-loc-vs-iloc.png?resize=840%2C353&ssl=1)"
   ]
  },
  {
   "cell_type": "markdown",
   "metadata": {
    "id": "LdmFbzwRbJP0"
   },
   "source": [
    "Размеры таблицы"
   ]
  },
  {
   "cell_type": "code",
   "execution_count": 4,
   "metadata": {
    "colab": {
     "base_uri": "https://localhost:8080/",
     "height": 198
    },
    "id": "PzQ24nzM8c_y",
    "outputId": "c8fc5f76-34e3-4569-8068-9b6343831102"
   },
   "outputs": [
    {
     "data": {
      "text/plain": [
       "(5819079, (5819079, 31))"
      ]
     },
     "execution_count": 4,
     "metadata": {},
     "output_type": "execute_result"
    }
   ],
   "source": [
    "len(df), df.shape"
   ]
  },
  {
   "cell_type": "markdown",
   "metadata": {
    "id": "xukZwhNcbJP0"
   },
   "source": [
    "Список названий колонок"
   ]
  },
  {
   "cell_type": "code",
   "execution_count": 5,
   "metadata": {
    "colab": {
     "base_uri": "https://localhost:8080/",
     "height": 69
    },
    "id": "6Xe63qvYJxn1",
    "outputId": "a120addb-5338-4b2c-c91e-20d5d8871142"
   },
   "outputs": [
    {
     "data": {
      "text/plain": [
       "Index(['YEAR', 'MONTH', 'DAY', 'DAY_OF_WEEK', 'AIRLINE', 'FLIGHT_NUMBER',\n",
       "       'TAIL_NUMBER', 'ORIGIN_AIRPORT', 'DESTINATION_AIRPORT',\n",
       "       'SCHEDULED_DEPARTURE', 'DEPARTURE_TIME', 'DEPARTURE_DELAY', 'TAXI_OUT',\n",
       "       'WHEELS_OFF', 'SCHEDULED_TIME', 'ELAPSED_TIME', 'AIR_TIME', 'DISTANCE',\n",
       "       'WHEELS_ON', 'TAXI_IN', 'SCHEDULED_ARRIVAL', 'ARRIVAL_TIME',\n",
       "       'ARRIVAL_DELAY', 'DIVERTED', 'CANCELLED', 'CANCELLATION_REASON',\n",
       "       'AIR_SYSTEM_DELAY', 'SECURITY_DELAY', 'AIRLINE_DELAY',\n",
       "       'LATE_AIRCRAFT_DELAY', 'WEATHER_DELAY'],\n",
       "      dtype='object')"
      ]
     },
     "execution_count": 5,
     "metadata": {},
     "output_type": "execute_result"
    }
   ],
   "source": [
    "df.columns"
   ]
  },
  {
   "cell_type": "markdown",
   "metadata": {
    "id": "dGnE4BMVbJP1"
   },
   "source": [
    "Базовая информация по колонкам"
   ]
  },
  {
   "cell_type": "code",
   "execution_count": 6,
   "metadata": {
    "id": "uBLxSlu5bJP1",
    "outputId": "6d9a9368-7c97-43f6-be79-3bc98bd63398"
   },
   "outputs": [
    {
     "name": "stderr",
     "output_type": "stream",
     "text": [
      "/var/folders/wx/_29jf6715_v4vhw4nn5fqcpw0000gn/T/ipykernel_29631/3928017299.py:1: FutureWarning: null_counts is deprecated. Use show_counts instead\n",
      "  print(df.info(null_counts=True))\n"
     ]
    },
    {
     "name": "stdout",
     "output_type": "stream",
     "text": [
      "<class 'pandas.core.frame.DataFrame'>\n",
      "RangeIndex: 5819079 entries, 0 to 5819078\n",
      "Data columns (total 31 columns):\n",
      " #   Column               Non-Null Count    Dtype  \n",
      "---  ------               --------------    -----  \n",
      " 0   YEAR                 5819079 non-null  int64  \n",
      " 1   MONTH                5819079 non-null  int64  \n",
      " 2   DAY                  5819079 non-null  int64  \n",
      " 3   DAY_OF_WEEK          5819079 non-null  int64  \n",
      " 4   AIRLINE              5819079 non-null  object \n",
      " 5   FLIGHT_NUMBER        5819079 non-null  int64  \n",
      " 6   TAIL_NUMBER          5804358 non-null  object \n",
      " 7   ORIGIN_AIRPORT       5819079 non-null  object \n",
      " 8   DESTINATION_AIRPORT  5819079 non-null  object \n",
      " 9   SCHEDULED_DEPARTURE  5819079 non-null  int64  \n",
      " 10  DEPARTURE_TIME       5732926 non-null  float64\n",
      " 11  DEPARTURE_DELAY      5732926 non-null  float64\n",
      " 12  TAXI_OUT             5730032 non-null  float64\n",
      " 13  WHEELS_OFF           5730032 non-null  float64\n",
      " 14  SCHEDULED_TIME       5819073 non-null  float64\n",
      " 15  ELAPSED_TIME         5714008 non-null  float64\n",
      " 16  AIR_TIME             5714008 non-null  float64\n",
      " 17  DISTANCE             5819079 non-null  int64  \n",
      " 18  WHEELS_ON            5726566 non-null  float64\n",
      " 19  TAXI_IN              5726566 non-null  float64\n",
      " 20  SCHEDULED_ARRIVAL    5819079 non-null  int64  \n",
      " 21  ARRIVAL_TIME         5726566 non-null  float64\n",
      " 22  ARRIVAL_DELAY        5714008 non-null  float64\n",
      " 23  DIVERTED             5819079 non-null  int64  \n",
      " 24  CANCELLED            5819079 non-null  int64  \n",
      " 25  CANCELLATION_REASON  89884 non-null    object \n",
      " 26  AIR_SYSTEM_DELAY     1063439 non-null  float64\n",
      " 27  SECURITY_DELAY       1063439 non-null  float64\n",
      " 28  AIRLINE_DELAY        1063439 non-null  float64\n",
      " 29  LATE_AIRCRAFT_DELAY  1063439 non-null  float64\n",
      " 30  WEATHER_DELAY        1063439 non-null  float64\n",
      "dtypes: float64(16), int64(10), object(5)\n",
      "memory usage: 1.3+ GB\n",
      "None\n"
     ]
    }
   ],
   "source": [
    "print(df.info(null_counts=True))"
   ]
  },
  {
   "cell_type": "markdown",
   "metadata": {
    "id": "v3LUtm84bJP2"
   },
   "source": [
    "Обратите внимание: колонки, в которых по смыслу стоит время, преобразовались в тип float. В результате запись 0005 превратилась в число 5. Чтобы избежать таких проблем, будем считывать данные как строковые переменные:"
   ]
  },
  {
   "cell_type": "code",
   "execution_count": 7,
   "metadata": {
    "id": "5N5DcZ0mbJP2",
    "outputId": "e2d68f9d-34cd-46a7-c618-01e92613c419"
   },
   "outputs": [
    {
     "data": {
      "text/html": [
       "<div>\n",
       "<style scoped>\n",
       "    .dataframe tbody tr th:only-of-type {\n",
       "        vertical-align: middle;\n",
       "    }\n",
       "\n",
       "    .dataframe tbody tr th {\n",
       "        vertical-align: top;\n",
       "    }\n",
       "\n",
       "    .dataframe thead th {\n",
       "        text-align: right;\n",
       "    }\n",
       "</style>\n",
       "<table border=\"1\" class=\"dataframe\">\n",
       "  <thead>\n",
       "    <tr style=\"text-align: right;\">\n",
       "      <th></th>\n",
       "      <th>YEAR</th>\n",
       "      <th>MONTH</th>\n",
       "      <th>DAY</th>\n",
       "      <th>DAY_OF_WEEK</th>\n",
       "      <th>AIRLINE</th>\n",
       "      <th>FLIGHT_NUMBER</th>\n",
       "      <th>TAIL_NUMBER</th>\n",
       "      <th>ORIGIN_AIRPORT</th>\n",
       "      <th>DESTINATION_AIRPORT</th>\n",
       "      <th>SCHEDULED_DEPARTURE</th>\n",
       "      <th>...</th>\n",
       "      <th>ARRIVAL_TIME</th>\n",
       "      <th>ARRIVAL_DELAY</th>\n",
       "      <th>DIVERTED</th>\n",
       "      <th>CANCELLED</th>\n",
       "      <th>CANCELLATION_REASON</th>\n",
       "      <th>AIR_SYSTEM_DELAY</th>\n",
       "      <th>SECURITY_DELAY</th>\n",
       "      <th>AIRLINE_DELAY</th>\n",
       "      <th>LATE_AIRCRAFT_DELAY</th>\n",
       "      <th>WEATHER_DELAY</th>\n",
       "    </tr>\n",
       "  </thead>\n",
       "  <tbody>\n",
       "    <tr>\n",
       "      <th>0</th>\n",
       "      <td>2015</td>\n",
       "      <td>1</td>\n",
       "      <td>1</td>\n",
       "      <td>4</td>\n",
       "      <td>AS</td>\n",
       "      <td>98</td>\n",
       "      <td>N407AS</td>\n",
       "      <td>ANC</td>\n",
       "      <td>SEA</td>\n",
       "      <td>0005</td>\n",
       "      <td>...</td>\n",
       "      <td>0408</td>\n",
       "      <td>-22</td>\n",
       "      <td>0</td>\n",
       "      <td>0</td>\n",
       "      <td>NaN</td>\n",
       "      <td>NaN</td>\n",
       "      <td>NaN</td>\n",
       "      <td>NaN</td>\n",
       "      <td>NaN</td>\n",
       "      <td>NaN</td>\n",
       "    </tr>\n",
       "    <tr>\n",
       "      <th>1</th>\n",
       "      <td>2015</td>\n",
       "      <td>1</td>\n",
       "      <td>1</td>\n",
       "      <td>4</td>\n",
       "      <td>AA</td>\n",
       "      <td>2336</td>\n",
       "      <td>N3KUAA</td>\n",
       "      <td>LAX</td>\n",
       "      <td>PBI</td>\n",
       "      <td>0010</td>\n",
       "      <td>...</td>\n",
       "      <td>0741</td>\n",
       "      <td>-9</td>\n",
       "      <td>0</td>\n",
       "      <td>0</td>\n",
       "      <td>NaN</td>\n",
       "      <td>NaN</td>\n",
       "      <td>NaN</td>\n",
       "      <td>NaN</td>\n",
       "      <td>NaN</td>\n",
       "      <td>NaN</td>\n",
       "    </tr>\n",
       "    <tr>\n",
       "      <th>2</th>\n",
       "      <td>2015</td>\n",
       "      <td>1</td>\n",
       "      <td>1</td>\n",
       "      <td>4</td>\n",
       "      <td>US</td>\n",
       "      <td>840</td>\n",
       "      <td>N171US</td>\n",
       "      <td>SFO</td>\n",
       "      <td>CLT</td>\n",
       "      <td>0020</td>\n",
       "      <td>...</td>\n",
       "      <td>0811</td>\n",
       "      <td>5</td>\n",
       "      <td>0</td>\n",
       "      <td>0</td>\n",
       "      <td>NaN</td>\n",
       "      <td>NaN</td>\n",
       "      <td>NaN</td>\n",
       "      <td>NaN</td>\n",
       "      <td>NaN</td>\n",
       "      <td>NaN</td>\n",
       "    </tr>\n",
       "    <tr>\n",
       "      <th>3</th>\n",
       "      <td>2015</td>\n",
       "      <td>1</td>\n",
       "      <td>1</td>\n",
       "      <td>4</td>\n",
       "      <td>AA</td>\n",
       "      <td>258</td>\n",
       "      <td>N3HYAA</td>\n",
       "      <td>LAX</td>\n",
       "      <td>MIA</td>\n",
       "      <td>0020</td>\n",
       "      <td>...</td>\n",
       "      <td>0756</td>\n",
       "      <td>-9</td>\n",
       "      <td>0</td>\n",
       "      <td>0</td>\n",
       "      <td>NaN</td>\n",
       "      <td>NaN</td>\n",
       "      <td>NaN</td>\n",
       "      <td>NaN</td>\n",
       "      <td>NaN</td>\n",
       "      <td>NaN</td>\n",
       "    </tr>\n",
       "    <tr>\n",
       "      <th>4</th>\n",
       "      <td>2015</td>\n",
       "      <td>1</td>\n",
       "      <td>1</td>\n",
       "      <td>4</td>\n",
       "      <td>AS</td>\n",
       "      <td>135</td>\n",
       "      <td>N527AS</td>\n",
       "      <td>SEA</td>\n",
       "      <td>ANC</td>\n",
       "      <td>0025</td>\n",
       "      <td>...</td>\n",
       "      <td>0259</td>\n",
       "      <td>-21</td>\n",
       "      <td>0</td>\n",
       "      <td>0</td>\n",
       "      <td>NaN</td>\n",
       "      <td>NaN</td>\n",
       "      <td>NaN</td>\n",
       "      <td>NaN</td>\n",
       "      <td>NaN</td>\n",
       "      <td>NaN</td>\n",
       "    </tr>\n",
       "  </tbody>\n",
       "</table>\n",
       "<p>5 rows × 31 columns</p>\n",
       "</div>"
      ],
      "text/plain": [
       "   YEAR MONTH DAY DAY_OF_WEEK AIRLINE FLIGHT_NUMBER TAIL_NUMBER  \\\n",
       "0  2015     1   1           4      AS            98      N407AS   \n",
       "1  2015     1   1           4      AA          2336      N3KUAA   \n",
       "2  2015     1   1           4      US           840      N171US   \n",
       "3  2015     1   1           4      AA           258      N3HYAA   \n",
       "4  2015     1   1           4      AS           135      N527AS   \n",
       "\n",
       "  ORIGIN_AIRPORT DESTINATION_AIRPORT SCHEDULED_DEPARTURE  ... ARRIVAL_TIME  \\\n",
       "0            ANC                 SEA                0005  ...         0408   \n",
       "1            LAX                 PBI                0010  ...         0741   \n",
       "2            SFO                 CLT                0020  ...         0811   \n",
       "3            LAX                 MIA                0020  ...         0756   \n",
       "4            SEA                 ANC                0025  ...         0259   \n",
       "\n",
       "  ARRIVAL_DELAY DIVERTED CANCELLED CANCELLATION_REASON AIR_SYSTEM_DELAY  \\\n",
       "0           -22        0         0                 NaN              NaN   \n",
       "1            -9        0         0                 NaN              NaN   \n",
       "2             5        0         0                 NaN              NaN   \n",
       "3            -9        0         0                 NaN              NaN   \n",
       "4           -21        0         0                 NaN              NaN   \n",
       "\n",
       "  SECURITY_DELAY AIRLINE_DELAY LATE_AIRCRAFT_DELAY WEATHER_DELAY  \n",
       "0            NaN           NaN                 NaN           NaN  \n",
       "1            NaN           NaN                 NaN           NaN  \n",
       "2            NaN           NaN                 NaN           NaN  \n",
       "3            NaN           NaN                 NaN           NaN  \n",
       "4            NaN           NaN                 NaN           NaN  \n",
       "\n",
       "[5 rows x 31 columns]"
      ]
     },
     "execution_count": 7,
     "metadata": {},
     "output_type": "execute_result"
    }
   ],
   "source": [
    "df = pd.read_csv('flights.csv', dtype=str)\n",
    "df.head()"
   ]
  },
  {
   "cell_type": "markdown",
   "metadata": {
    "id": "pITGpa6abJP2"
   },
   "source": [
    "Определим колонки с пропущенными значениями"
   ]
  },
  {
   "cell_type": "code",
   "execution_count": 8,
   "metadata": {
    "id": "xxIbYcdJbJP2",
    "outputId": "ed86a0fa-0491-4471-9974-842f191b891d"
   },
   "outputs": [
    {
     "data": {
      "text/plain": [
       "YEAR                   False\n",
       "MONTH                  False\n",
       "DAY                    False\n",
       "DAY_OF_WEEK            False\n",
       "AIRLINE                False\n",
       "FLIGHT_NUMBER          False\n",
       "TAIL_NUMBER             True\n",
       "ORIGIN_AIRPORT         False\n",
       "DESTINATION_AIRPORT    False\n",
       "SCHEDULED_DEPARTURE    False\n",
       "DEPARTURE_TIME          True\n",
       "DEPARTURE_DELAY         True\n",
       "TAXI_OUT                True\n",
       "WHEELS_OFF              True\n",
       "SCHEDULED_TIME          True\n",
       "ELAPSED_TIME            True\n",
       "AIR_TIME                True\n",
       "DISTANCE               False\n",
       "WHEELS_ON               True\n",
       "TAXI_IN                 True\n",
       "SCHEDULED_ARRIVAL      False\n",
       "ARRIVAL_TIME            True\n",
       "ARRIVAL_DELAY           True\n",
       "DIVERTED               False\n",
       "CANCELLED              False\n",
       "CANCELLATION_REASON     True\n",
       "AIR_SYSTEM_DELAY        True\n",
       "SECURITY_DELAY          True\n",
       "AIRLINE_DELAY           True\n",
       "LATE_AIRCRAFT_DELAY     True\n",
       "WEATHER_DELAY           True\n",
       "dtype: bool"
      ]
     },
     "execution_count": 8,
     "metadata": {},
     "output_type": "execute_result"
    }
   ],
   "source": [
    "df.isna().any(axis=0)"
   ]
  },
  {
   "cell_type": "markdown",
   "metadata": {
    "id": "nl7CJto6bJP3"
   },
   "source": [
    "Найдем строки, для которых не указано время отправления или прибытия"
   ]
  },
  {
   "cell_type": "code",
   "execution_count": 9,
   "metadata": {
    "id": "-HphV0EEbJP3",
    "outputId": "fc22854a-6ae8-4c98-9ce1-dd96b5060706"
   },
   "outputs": [
    {
     "data": {
      "text/plain": [
       "0          False\n",
       "1          False\n",
       "2          False\n",
       "3          False\n",
       "4          False\n",
       "           ...  \n",
       "5819074    False\n",
       "5819075    False\n",
       "5819076    False\n",
       "5819077    False\n",
       "5819078    False\n",
       "Length: 5819079, dtype: bool"
      ]
     },
     "execution_count": 9,
     "metadata": {},
     "output_type": "execute_result"
    }
   ],
   "source": [
    "df[['DEPARTURE_TIME', 'ARRIVAL_TIME']].isna().any(axis=1)"
   ]
  },
  {
   "cell_type": "markdown",
   "metadata": {
    "id": "ab7LwUmHbJP3"
   },
   "source": [
    "Найдем количество таких строк"
   ]
  },
  {
   "cell_type": "code",
   "execution_count": 10,
   "metadata": {
    "id": "VgHnAj34bJP3",
    "outputId": "59c642a0-bc6a-4b72-816f-d06b2ff37250"
   },
   "outputs": [
    {
     "data": {
      "text/plain": [
       "92513"
      ]
     },
     "execution_count": 10,
     "metadata": {},
     "output_type": "execute_result"
    }
   ],
   "source": [
    "df[['DEPARTURE_TIME', 'ARRIVAL_TIME']].isna().any(axis=1).sum()"
   ]
  },
  {
   "cell_type": "markdown",
   "metadata": {
    "id": "cNsopRl1bJP3"
   },
   "source": [
    "и выбросим их"
   ]
  },
  {
   "cell_type": "code",
   "execution_count": 11,
   "metadata": {
    "id": "NrbFVSk7bJP4"
   },
   "outputs": [],
   "source": [
    "df = df.loc[~df[['DEPARTURE_TIME', 'ARRIVAL_TIME']].isna().any(axis=1)]"
   ]
  },
  {
   "cell_type": "markdown",
   "metadata": {
    "id": "Af6ihfDybJP4"
   },
   "source": [
    "Пример подсчета уникальных элементов в столбце"
   ]
  },
  {
   "cell_type": "code",
   "execution_count": 12,
   "metadata": {
    "id": "ts-eyryRbJP4",
    "outputId": "13a104d4-d776-419e-f47c-162a06557126"
   },
   "outputs": [
    {
     "data": {
      "text/plain": [
       "WN    1245053\n",
       "DL     871946\n",
       "AA     714855\n",
       "OO     577943\n",
       "EV     556425\n",
       "UA     508916\n",
       "MQ     279431\n",
       "B6     262687\n",
       "US     194586\n",
       "AS     171692\n",
       "NK     115343\n",
       "F9      90231\n",
       "HA      76093\n",
       "VX      61365\n",
       "Name: AIRLINE, dtype: int64"
      ]
     },
     "execution_count": 12,
     "metadata": {},
     "output_type": "execute_result"
    }
   ],
   "source": [
    "df['AIRLINE'].value_counts()\n",
    "df.AIRLINE.value_counts()"
   ]
  },
  {
   "cell_type": "markdown",
   "metadata": {
    "id": "0drC1hN4bJP5"
   },
   "source": [
    "Плохой пример построения гистограмм по значениям в столбце"
   ]
  },
  {
   "cell_type": "code",
   "execution_count": 13,
   "metadata": {
    "id": "kRnX9M1FbJP5",
    "outputId": "c58170f7-d67d-4ce0-d173-40b2e91d5fce"
   },
   "outputs": [
    {
     "data": {
      "image/png": "[encoded data removed]",
      "text/plain": [
       "<Figure size 432x288 with 1 Axes>"
      ]
     },
     "metadata": {},
     "output_type": "display_data"
    }
   ],
   "source": [
    "fig = plt.figure()\n",
    "fig.patch.set_facecolor('xkcd:white')\n",
    "\n",
    "df.DEPARTURE_DELAY = df.DEPARTURE_DELAY.astype(float)\n",
    "df.DEPARTURE_DELAY.hist()\n",
    "plt.show()"
   ]
  },
  {
   "cell_type": "markdown",
   "metadata": {
    "id": "pJyjEqCfbJP5"
   },
   "source": [
    "Более показательный график"
   ]
  },
  {
   "cell_type": "code",
   "execution_count": 14,
   "metadata": {
    "id": "CelMzmVLbJP6",
    "outputId": "0d49a0d4-4ddc-45b9-c8a2-3d41628220f2"
   },
   "outputs": [
    {
     "data": {
      "image/png": "[encoded data removed]",
      "text/plain": [
       "<Figure size 432x288 with 1 Axes>"
      ]
     },
     "metadata": {},
     "output_type": "display_data"
    }
   ],
   "source": [
    "fig = plt.figure()\n",
    "fig.patch.set_facecolor('xkcd:white')\n",
    "\n",
    "df.DEPARTURE_DELAY.hist(bins=20, range=(0, 300))\n",
    "plt.xlabel('Delay (min)')\n",
    "plt.show()"
   ]
  },
  {
   "cell_type": "markdown",
   "metadata": {
    "id": "pdVW1EQqbJP6"
   },
   "source": [
    "Базовые статистики"
   ]
  },
  {
   "cell_type": "code",
   "execution_count": 15,
   "metadata": {
    "id": "b_6g0DeabJP6",
    "outputId": "1d4964b5-d781-4694-e36a-339f17b265f3"
   },
   "outputs": [
    {
     "data": {
      "text/plain": [
       "32.56361401062445"
      ]
     },
     "execution_count": 15,
     "metadata": {},
     "output_type": "execute_result"
    }
   ],
   "source": [
    "df.loc[df.DEPARTURE_DELAY > 0, 'DEPARTURE_DELAY'].mean()"
   ]
  },
  {
   "cell_type": "code",
   "execution_count": 16,
   "metadata": {
    "id": "93ctQP0bbJP8",
    "outputId": "d491264a-2d9c-48ef-886f-4b6ff7bb4719"
   },
   "outputs": [
    {
     "data": {
      "text/plain": [
       "52.97401649681914"
      ]
     },
     "execution_count": 16,
     "metadata": {},
     "output_type": "execute_result"
    }
   ],
   "source": [
    "df.loc[df.DEPARTURE_DELAY > 0, 'DEPARTURE_DELAY'].std()"
   ]
  },
  {
   "cell_type": "code",
   "execution_count": 17,
   "metadata": {
    "id": "ZRht3f6RbJP9",
    "outputId": "938ee28f-3ce9-4c75-88f1-2c4c4320a732"
   },
   "outputs": [
    {
     "data": {
      "text/plain": [
       "14.0"
      ]
     },
     "execution_count": 17,
     "metadata": {},
     "output_type": "execute_result"
    }
   ],
   "source": [
    "df.loc[df.DEPARTURE_DELAY > 0, 'DEPARTURE_DELAY'].median()"
   ]
  },
  {
   "cell_type": "markdown",
   "metadata": {
    "id": "0rjTvIa0bJP-"
   },
   "source": [
    "Создание колонки с датой, вместо трех отдельных колонок"
   ]
  },
  {
   "cell_type": "code",
   "execution_count": 18,
   "metadata": {
    "id": "ZxpnLjibbJP-",
    "outputId": "c743d5ea-6100-47e7-c7da-55e6cf01c82a"
   },
   "outputs": [
    {
     "data": {
      "text/plain": [
       "0         2015-01-01\n",
       "1         2015-01-01\n",
       "2         2015-01-01\n",
       "3         2015-01-01\n",
       "4         2015-01-01\n",
       "             ...    \n",
       "5819074   2015-12-31\n",
       "5819075   2015-12-31\n",
       "5819076   2015-12-31\n",
       "5819077   2015-12-31\n",
       "5819078   2015-12-31\n",
       "Length: 5726566, dtype: datetime64[ns]"
      ]
     },
     "execution_count": 18,
     "metadata": {},
     "output_type": "execute_result"
    }
   ],
   "source": [
    "pd.to_datetime(df[['YEAR', 'MONTH', 'DAY']])"
   ]
  },
  {
   "cell_type": "markdown",
   "metadata": {
    "id": "t8iG6pjrbJP-"
   },
   "source": [
    "Создание новой колонки в таблице"
   ]
  },
  {
   "cell_type": "code",
   "execution_count": 19,
   "metadata": {
    "id": "sLKvNvYSbJP-",
    "outputId": "463a3f04-7b26-4e3b-b273-31ce512efeed"
   },
   "outputs": [
    {
     "data": {
      "text/html": [
       "<div>\n",
       "<style scoped>\n",
       "    .dataframe tbody tr th:only-of-type {\n",
       "        vertical-align: middle;\n",
       "    }\n",
       "\n",
       "    .dataframe tbody tr th {\n",
       "        vertical-align: top;\n",
       "    }\n",
       "\n",
       "    .dataframe thead th {\n",
       "        text-align: right;\n",
       "    }\n",
       "</style>\n",
       "<table border=\"1\" class=\"dataframe\">\n",
       "  <thead>\n",
       "    <tr style=\"text-align: right;\">\n",
       "      <th></th>\n",
       "      <th>YEAR</th>\n",
       "      <th>MONTH</th>\n",
       "      <th>DAY</th>\n",
       "      <th>DAY_OF_WEEK</th>\n",
       "      <th>AIRLINE</th>\n",
       "      <th>FLIGHT_NUMBER</th>\n",
       "      <th>TAIL_NUMBER</th>\n",
       "      <th>ORIGIN_AIRPORT</th>\n",
       "      <th>DESTINATION_AIRPORT</th>\n",
       "      <th>SCHEDULED_DEPARTURE</th>\n",
       "      <th>...</th>\n",
       "      <th>ARRIVAL_DELAY</th>\n",
       "      <th>DIVERTED</th>\n",
       "      <th>CANCELLED</th>\n",
       "      <th>CANCELLATION_REASON</th>\n",
       "      <th>AIR_SYSTEM_DELAY</th>\n",
       "      <th>SECURITY_DELAY</th>\n",
       "      <th>AIRLINE_DELAY</th>\n",
       "      <th>LATE_AIRCRAFT_DELAY</th>\n",
       "      <th>WEATHER_DELAY</th>\n",
       "      <th>DATE</th>\n",
       "    </tr>\n",
       "  </thead>\n",
       "  <tbody>\n",
       "    <tr>\n",
       "      <th>0</th>\n",
       "      <td>2015</td>\n",
       "      <td>1</td>\n",
       "      <td>1</td>\n",
       "      <td>4</td>\n",
       "      <td>AS</td>\n",
       "      <td>98</td>\n",
       "      <td>N407AS</td>\n",
       "      <td>ANC</td>\n",
       "      <td>SEA</td>\n",
       "      <td>0005</td>\n",
       "      <td>...</td>\n",
       "      <td>-22</td>\n",
       "      <td>0</td>\n",
       "      <td>0</td>\n",
       "      <td>NaN</td>\n",
       "      <td>NaN</td>\n",
       "      <td>NaN</td>\n",
       "      <td>NaN</td>\n",
       "      <td>NaN</td>\n",
       "      <td>NaN</td>\n",
       "      <td>2015-01-01</td>\n",
       "    </tr>\n",
       "    <tr>\n",
       "      <th>1</th>\n",
       "      <td>2015</td>\n",
       "      <td>1</td>\n",
       "      <td>1</td>\n",
       "      <td>4</td>\n",
       "      <td>AA</td>\n",
       "      <td>2336</td>\n",
       "      <td>N3KUAA</td>\n",
       "      <td>LAX</td>\n",
       "      <td>PBI</td>\n",
       "      <td>0010</td>\n",
       "      <td>...</td>\n",
       "      <td>-9</td>\n",
       "      <td>0</td>\n",
       "      <td>0</td>\n",
       "      <td>NaN</td>\n",
       "      <td>NaN</td>\n",
       "      <td>NaN</td>\n",
       "      <td>NaN</td>\n",
       "      <td>NaN</td>\n",
       "      <td>NaN</td>\n",
       "      <td>2015-01-01</td>\n",
       "    </tr>\n",
       "    <tr>\n",
       "      <th>2</th>\n",
       "      <td>2015</td>\n",
       "      <td>1</td>\n",
       "      <td>1</td>\n",
       "      <td>4</td>\n",
       "      <td>US</td>\n",
       "      <td>840</td>\n",
       "      <td>N171US</td>\n",
       "      <td>SFO</td>\n",
       "      <td>CLT</td>\n",
       "      <td>0020</td>\n",
       "      <td>...</td>\n",
       "      <td>5</td>\n",
       "      <td>0</td>\n",
       "      <td>0</td>\n",
       "      <td>NaN</td>\n",
       "      <td>NaN</td>\n",
       "      <td>NaN</td>\n",
       "      <td>NaN</td>\n",
       "      <td>NaN</td>\n",
       "      <td>NaN</td>\n",
       "      <td>2015-01-01</td>\n",
       "    </tr>\n",
       "    <tr>\n",
       "      <th>3</th>\n",
       "      <td>2015</td>\n",
       "      <td>1</td>\n",
       "      <td>1</td>\n",
       "      <td>4</td>\n",
       "      <td>AA</td>\n",
       "      <td>258</td>\n",
       "      <td>N3HYAA</td>\n",
       "      <td>LAX</td>\n",
       "      <td>MIA</td>\n",
       "      <td>0020</td>\n",
       "      <td>...</td>\n",
       "      <td>-9</td>\n",
       "      <td>0</td>\n",
       "      <td>0</td>\n",
       "      <td>NaN</td>\n",
       "      <td>NaN</td>\n",
       "      <td>NaN</td>\n",
       "      <td>NaN</td>\n",
       "      <td>NaN</td>\n",
       "      <td>NaN</td>\n",
       "      <td>2015-01-01</td>\n",
       "    </tr>\n",
       "    <tr>\n",
       "      <th>4</th>\n",
       "      <td>2015</td>\n",
       "      <td>1</td>\n",
       "      <td>1</td>\n",
       "      <td>4</td>\n",
       "      <td>AS</td>\n",
       "      <td>135</td>\n",
       "      <td>N527AS</td>\n",
       "      <td>SEA</td>\n",
       "      <td>ANC</td>\n",
       "      <td>0025</td>\n",
       "      <td>...</td>\n",
       "      <td>-21</td>\n",
       "      <td>0</td>\n",
       "      <td>0</td>\n",
       "      <td>NaN</td>\n",
       "      <td>NaN</td>\n",
       "      <td>NaN</td>\n",
       "      <td>NaN</td>\n",
       "      <td>NaN</td>\n",
       "      <td>NaN</td>\n",
       "      <td>2015-01-01</td>\n",
       "    </tr>\n",
       "  </tbody>\n",
       "</table>\n",
       "<p>5 rows × 32 columns</p>\n",
       "</div>"
      ],
      "text/plain": [
       "   YEAR MONTH DAY DAY_OF_WEEK AIRLINE FLIGHT_NUMBER TAIL_NUMBER  \\\n",
       "0  2015     1   1           4      AS            98      N407AS   \n",
       "1  2015     1   1           4      AA          2336      N3KUAA   \n",
       "2  2015     1   1           4      US           840      N171US   \n",
       "3  2015     1   1           4      AA           258      N3HYAA   \n",
       "4  2015     1   1           4      AS           135      N527AS   \n",
       "\n",
       "  ORIGIN_AIRPORT DESTINATION_AIRPORT SCHEDULED_DEPARTURE  ... ARRIVAL_DELAY  \\\n",
       "0            ANC                 SEA                0005  ...           -22   \n",
       "1            LAX                 PBI                0010  ...            -9   \n",
       "2            SFO                 CLT                0020  ...             5   \n",
       "3            LAX                 MIA                0020  ...            -9   \n",
       "4            SEA                 ANC                0025  ...           -21   \n",
       "\n",
       "   DIVERTED CANCELLED CANCELLATION_REASON AIR_SYSTEM_DELAY SECURITY_DELAY  \\\n",
       "0         0         0                 NaN              NaN            NaN   \n",
       "1         0         0                 NaN              NaN            NaN   \n",
       "2         0         0                 NaN              NaN            NaN   \n",
       "3         0         0                 NaN              NaN            NaN   \n",
       "4         0         0                 NaN              NaN            NaN   \n",
       "\n",
       "  AIRLINE_DELAY LATE_AIRCRAFT_DELAY WEATHER_DELAY       DATE  \n",
       "0           NaN                 NaN           NaN 2015-01-01  \n",
       "1           NaN                 NaN           NaN 2015-01-01  \n",
       "2           NaN                 NaN           NaN 2015-01-01  \n",
       "3           NaN                 NaN           NaN 2015-01-01  \n",
       "4           NaN                 NaN           NaN 2015-01-01  \n",
       "\n",
       "[5 rows x 32 columns]"
      ]
     },
     "execution_count": 19,
     "metadata": {},
     "output_type": "execute_result"
    }
   ],
   "source": [
    "df['DATE'] = pd.to_datetime(df[['YEAR', 'MONTH', 'DAY']])\n",
    "df.head()"
   ]
  },
  {
   "cell_type": "markdown",
   "metadata": {
    "id": "98QvMc3obJP_"
   },
   "source": [
    "Пример использования:"
   ]
  },
  {
   "cell_type": "code",
   "execution_count": 20,
   "metadata": {
    "id": "WbxDR6PjbJP_",
    "outputId": "bbf6025b-efa5-41b8-934c-6f3a4bc59dae"
   },
   "outputs": [
    {
     "data": {
      "text/html": [
       "<div>\n",
       "<style scoped>\n",
       "    .dataframe tbody tr th:only-of-type {\n",
       "        vertical-align: middle;\n",
       "    }\n",
       "\n",
       "    .dataframe tbody tr th {\n",
       "        vertical-align: top;\n",
       "    }\n",
       "\n",
       "    .dataframe thead th {\n",
       "        text-align: right;\n",
       "    }\n",
       "</style>\n",
       "<table border=\"1\" class=\"dataframe\">\n",
       "  <thead>\n",
       "    <tr style=\"text-align: right;\">\n",
       "      <th></th>\n",
       "      <th>YEAR</th>\n",
       "      <th>MONTH</th>\n",
       "      <th>DAY</th>\n",
       "      <th>DAY_OF_WEEK</th>\n",
       "      <th>AIRLINE</th>\n",
       "      <th>FLIGHT_NUMBER</th>\n",
       "      <th>TAIL_NUMBER</th>\n",
       "      <th>ORIGIN_AIRPORT</th>\n",
       "      <th>DESTINATION_AIRPORT</th>\n",
       "      <th>SCHEDULED_DEPARTURE</th>\n",
       "      <th>...</th>\n",
       "      <th>ARRIVAL_DELAY</th>\n",
       "      <th>DIVERTED</th>\n",
       "      <th>CANCELLED</th>\n",
       "      <th>CANCELLATION_REASON</th>\n",
       "      <th>AIR_SYSTEM_DELAY</th>\n",
       "      <th>SECURITY_DELAY</th>\n",
       "      <th>AIRLINE_DELAY</th>\n",
       "      <th>LATE_AIRCRAFT_DELAY</th>\n",
       "      <th>WEATHER_DELAY</th>\n",
       "      <th>DATE</th>\n",
       "    </tr>\n",
       "  </thead>\n",
       "  <tbody>\n",
       "    <tr>\n",
       "      <th>0</th>\n",
       "      <td>2015</td>\n",
       "      <td>1</td>\n",
       "      <td>1</td>\n",
       "      <td>4</td>\n",
       "      <td>AS</td>\n",
       "      <td>98</td>\n",
       "      <td>N407AS</td>\n",
       "      <td>ANC</td>\n",
       "      <td>SEA</td>\n",
       "      <td>0005</td>\n",
       "      <td>...</td>\n",
       "      <td>-22</td>\n",
       "      <td>0</td>\n",
       "      <td>0</td>\n",
       "      <td>NaN</td>\n",
       "      <td>NaN</td>\n",
       "      <td>NaN</td>\n",
       "      <td>NaN</td>\n",
       "      <td>NaN</td>\n",
       "      <td>NaN</td>\n",
       "      <td>2015-01-01</td>\n",
       "    </tr>\n",
       "    <tr>\n",
       "      <th>1</th>\n",
       "      <td>2015</td>\n",
       "      <td>1</td>\n",
       "      <td>1</td>\n",
       "      <td>4</td>\n",
       "      <td>AA</td>\n",
       "      <td>2336</td>\n",
       "      <td>N3KUAA</td>\n",
       "      <td>LAX</td>\n",
       "      <td>PBI</td>\n",
       "      <td>0010</td>\n",
       "      <td>...</td>\n",
       "      <td>-9</td>\n",
       "      <td>0</td>\n",
       "      <td>0</td>\n",
       "      <td>NaN</td>\n",
       "      <td>NaN</td>\n",
       "      <td>NaN</td>\n",
       "      <td>NaN</td>\n",
       "      <td>NaN</td>\n",
       "      <td>NaN</td>\n",
       "      <td>2015-01-01</td>\n",
       "    </tr>\n",
       "    <tr>\n",
       "      <th>2</th>\n",
       "      <td>2015</td>\n",
       "      <td>1</td>\n",
       "      <td>1</td>\n",
       "      <td>4</td>\n",
       "      <td>US</td>\n",
       "      <td>840</td>\n",
       "      <td>N171US</td>\n",
       "      <td>SFO</td>\n",
       "      <td>CLT</td>\n",
       "      <td>0020</td>\n",
       "      <td>...</td>\n",
       "      <td>5</td>\n",
       "      <td>0</td>\n",
       "      <td>0</td>\n",
       "      <td>NaN</td>\n",
       "      <td>NaN</td>\n",
       "      <td>NaN</td>\n",
       "      <td>NaN</td>\n",
       "      <td>NaN</td>\n",
       "      <td>NaN</td>\n",
       "      <td>2015-01-01</td>\n",
       "    </tr>\n",
       "    <tr>\n",
       "      <th>3</th>\n",
       "      <td>2015</td>\n",
       "      <td>1</td>\n",
       "      <td>1</td>\n",
       "      <td>4</td>\n",
       "      <td>AA</td>\n",
       "      <td>258</td>\n",
       "      <td>N3HYAA</td>\n",
       "      <td>LAX</td>\n",
       "      <td>MIA</td>\n",
       "      <td>0020</td>\n",
       "      <td>...</td>\n",
       "      <td>-9</td>\n",
       "      <td>0</td>\n",
       "      <td>0</td>\n",
       "      <td>NaN</td>\n",
       "      <td>NaN</td>\n",
       "      <td>NaN</td>\n",
       "      <td>NaN</td>\n",
       "      <td>NaN</td>\n",
       "      <td>NaN</td>\n",
       "      <td>2015-01-01</td>\n",
       "    </tr>\n",
       "    <tr>\n",
       "      <th>4</th>\n",
       "      <td>2015</td>\n",
       "      <td>1</td>\n",
       "      <td>1</td>\n",
       "      <td>4</td>\n",
       "      <td>AS</td>\n",
       "      <td>135</td>\n",
       "      <td>N527AS</td>\n",
       "      <td>SEA</td>\n",
       "      <td>ANC</td>\n",
       "      <td>0025</td>\n",
       "      <td>...</td>\n",
       "      <td>-21</td>\n",
       "      <td>0</td>\n",
       "      <td>0</td>\n",
       "      <td>NaN</td>\n",
       "      <td>NaN</td>\n",
       "      <td>NaN</td>\n",
       "      <td>NaN</td>\n",
       "      <td>NaN</td>\n",
       "      <td>NaN</td>\n",
       "      <td>2015-01-01</td>\n",
       "    </tr>\n",
       "    <tr>\n",
       "      <th>...</th>\n",
       "      <td>...</td>\n",
       "      <td>...</td>\n",
       "      <td>...</td>\n",
       "      <td>...</td>\n",
       "      <td>...</td>\n",
       "      <td>...</td>\n",
       "      <td>...</td>\n",
       "      <td>...</td>\n",
       "      <td>...</td>\n",
       "      <td>...</td>\n",
       "      <td>...</td>\n",
       "      <td>...</td>\n",
       "      <td>...</td>\n",
       "      <td>...</td>\n",
       "      <td>...</td>\n",
       "      <td>...</td>\n",
       "      <td>...</td>\n",
       "      <td>...</td>\n",
       "      <td>...</td>\n",
       "      <td>...</td>\n",
       "      <td>...</td>\n",
       "    </tr>\n",
       "    <tr>\n",
       "      <th>681023</th>\n",
       "      <td>2015</td>\n",
       "      <td>2</td>\n",
       "      <td>14</td>\n",
       "      <td>6</td>\n",
       "      <td>B6</td>\n",
       "      <td>1503</td>\n",
       "      <td>N547JB</td>\n",
       "      <td>JFK</td>\n",
       "      <td>SJU</td>\n",
       "      <td>2359</td>\n",
       "      <td>...</td>\n",
       "      <td>45</td>\n",
       "      <td>0</td>\n",
       "      <td>0</td>\n",
       "      <td>NaN</td>\n",
       "      <td>45</td>\n",
       "      <td>0</td>\n",
       "      <td>0</td>\n",
       "      <td>0</td>\n",
       "      <td>0</td>\n",
       "      <td>2015-02-14</td>\n",
       "    </tr>\n",
       "    <tr>\n",
       "      <th>681024</th>\n",
       "      <td>2015</td>\n",
       "      <td>2</td>\n",
       "      <td>14</td>\n",
       "      <td>6</td>\n",
       "      <td>US</td>\n",
       "      <td>1770</td>\n",
       "      <td>N825AW</td>\n",
       "      <td>SLC</td>\n",
       "      <td>PHL</td>\n",
       "      <td>2359</td>\n",
       "      <td>...</td>\n",
       "      <td>-13</td>\n",
       "      <td>0</td>\n",
       "      <td>0</td>\n",
       "      <td>NaN</td>\n",
       "      <td>NaN</td>\n",
       "      <td>NaN</td>\n",
       "      <td>NaN</td>\n",
       "      <td>NaN</td>\n",
       "      <td>NaN</td>\n",
       "      <td>2015-02-14</td>\n",
       "    </tr>\n",
       "    <tr>\n",
       "      <th>681025</th>\n",
       "      <td>2015</td>\n",
       "      <td>2</td>\n",
       "      <td>14</td>\n",
       "      <td>6</td>\n",
       "      <td>US</td>\n",
       "      <td>467</td>\n",
       "      <td>N642AW</td>\n",
       "      <td>PHX</td>\n",
       "      <td>MSP</td>\n",
       "      <td>2359</td>\n",
       "      <td>...</td>\n",
       "      <td>86</td>\n",
       "      <td>0</td>\n",
       "      <td>0</td>\n",
       "      <td>NaN</td>\n",
       "      <td>0</td>\n",
       "      <td>0</td>\n",
       "      <td>86</td>\n",
       "      <td>0</td>\n",
       "      <td>0</td>\n",
       "      <td>2015-02-14</td>\n",
       "    </tr>\n",
       "    <tr>\n",
       "      <th>681026</th>\n",
       "      <td>2015</td>\n",
       "      <td>2</td>\n",
       "      <td>14</td>\n",
       "      <td>6</td>\n",
       "      <td>F9</td>\n",
       "      <td>300</td>\n",
       "      <td>N204FR</td>\n",
       "      <td>DEN</td>\n",
       "      <td>TPA</td>\n",
       "      <td>2359</td>\n",
       "      <td>...</td>\n",
       "      <td>-16</td>\n",
       "      <td>0</td>\n",
       "      <td>0</td>\n",
       "      <td>NaN</td>\n",
       "      <td>NaN</td>\n",
       "      <td>NaN</td>\n",
       "      <td>NaN</td>\n",
       "      <td>NaN</td>\n",
       "      <td>NaN</td>\n",
       "      <td>2015-02-14</td>\n",
       "    </tr>\n",
       "    <tr>\n",
       "      <th>681027</th>\n",
       "      <td>2015</td>\n",
       "      <td>2</td>\n",
       "      <td>14</td>\n",
       "      <td>6</td>\n",
       "      <td>F9</td>\n",
       "      <td>422</td>\n",
       "      <td>N926FR</td>\n",
       "      <td>DEN</td>\n",
       "      <td>ATL</td>\n",
       "      <td>2359</td>\n",
       "      <td>...</td>\n",
       "      <td>-25</td>\n",
       "      <td>0</td>\n",
       "      <td>0</td>\n",
       "      <td>NaN</td>\n",
       "      <td>NaN</td>\n",
       "      <td>NaN</td>\n",
       "      <td>NaN</td>\n",
       "      <td>NaN</td>\n",
       "      <td>NaN</td>\n",
       "      <td>2015-02-14</td>\n",
       "    </tr>\n",
       "  </tbody>\n",
       "</table>\n",
       "<p>659812 rows × 32 columns</p>\n",
       "</div>"
      ],
      "text/plain": [
       "        YEAR MONTH DAY DAY_OF_WEEK AIRLINE FLIGHT_NUMBER TAIL_NUMBER  \\\n",
       "0       2015     1   1           4      AS            98      N407AS   \n",
       "1       2015     1   1           4      AA          2336      N3KUAA   \n",
       "2       2015     1   1           4      US           840      N171US   \n",
       "3       2015     1   1           4      AA           258      N3HYAA   \n",
       "4       2015     1   1           4      AS           135      N527AS   \n",
       "...      ...   ...  ..         ...     ...           ...         ...   \n",
       "681023  2015     2  14           6      B6          1503      N547JB   \n",
       "681024  2015     2  14           6      US          1770      N825AW   \n",
       "681025  2015     2  14           6      US           467      N642AW   \n",
       "681026  2015     2  14           6      F9           300      N204FR   \n",
       "681027  2015     2  14           6      F9           422      N926FR   \n",
       "\n",
       "       ORIGIN_AIRPORT DESTINATION_AIRPORT SCHEDULED_DEPARTURE  ...  \\\n",
       "0                 ANC                 SEA                0005  ...   \n",
       "1                 LAX                 PBI                0010  ...   \n",
       "2                 SFO                 CLT                0020  ...   \n",
       "3                 LAX                 MIA                0020  ...   \n",
       "4                 SEA                 ANC                0025  ...   \n",
       "...               ...                 ...                 ...  ...   \n",
       "681023            JFK                 SJU                2359  ...   \n",
       "681024            SLC                 PHL                2359  ...   \n",
       "681025            PHX                 MSP                2359  ...   \n",
       "681026            DEN                 TPA                2359  ...   \n",
       "681027            DEN                 ATL                2359  ...   \n",
       "\n",
       "       ARRIVAL_DELAY  DIVERTED CANCELLED CANCELLATION_REASON AIR_SYSTEM_DELAY  \\\n",
       "0                -22         0         0                 NaN              NaN   \n",
       "1                 -9         0         0                 NaN              NaN   \n",
       "2                  5         0         0                 NaN              NaN   \n",
       "3                 -9         0         0                 NaN              NaN   \n",
       "4                -21         0         0                 NaN              NaN   \n",
       "...              ...       ...       ...                 ...              ...   \n",
       "681023            45         0         0                 NaN               45   \n",
       "681024           -13         0         0                 NaN              NaN   \n",
       "681025            86         0         0                 NaN                0   \n",
       "681026           -16         0         0                 NaN              NaN   \n",
       "681027           -25         0         0                 NaN              NaN   \n",
       "\n",
       "       SECURITY_DELAY AIRLINE_DELAY LATE_AIRCRAFT_DELAY WEATHER_DELAY  \\\n",
       "0                 NaN           NaN                 NaN           NaN   \n",
       "1                 NaN           NaN                 NaN           NaN   \n",
       "2                 NaN           NaN                 NaN           NaN   \n",
       "3                 NaN           NaN                 NaN           NaN   \n",
       "4                 NaN           NaN                 NaN           NaN   \n",
       "...               ...           ...                 ...           ...   \n",
       "681023              0             0                   0             0   \n",
       "681024            NaN           NaN                 NaN           NaN   \n",
       "681025              0            86                   0             0   \n",
       "681026            NaN           NaN                 NaN           NaN   \n",
       "681027            NaN           NaN                 NaN           NaN   \n",
       "\n",
       "             DATE  \n",
       "0      2015-01-01  \n",
       "1      2015-01-01  \n",
       "2      2015-01-01  \n",
       "3      2015-01-01  \n",
       "4      2015-01-01  \n",
       "...           ...  \n",
       "681023 2015-02-14  \n",
       "681024 2015-02-14  \n",
       "681025 2015-02-14  \n",
       "681026 2015-02-14  \n",
       "681027 2015-02-14  \n",
       "\n",
       "[659812 rows x 32 columns]"
      ]
     },
     "execution_count": 20,
     "metadata": {},
     "output_type": "execute_result"
    }
   ],
   "source": [
    "df.loc[df.DATE <= pd.to_datetime('2015-02-14')]"
   ]
  },
  {
   "cell_type": "markdown",
   "metadata": {
    "id": "0J5GpkUKbJP_"
   },
   "source": [
    "Удалим ненужные более столбцы "
   ]
  },
  {
   "cell_type": "code",
   "execution_count": 21,
   "metadata": {
    "id": "pI9ZcnB7bJQA",
    "outputId": "56d10136-272f-445b-91e3-b874832dbba3"
   },
   "outputs": [
    {
     "data": {
      "text/html": [
       "<div>\n",
       "<style scoped>\n",
       "    .dataframe tbody tr th:only-of-type {\n",
       "        vertical-align: middle;\n",
       "    }\n",
       "\n",
       "    .dataframe tbody tr th {\n",
       "        vertical-align: top;\n",
       "    }\n",
       "\n",
       "    .dataframe thead th {\n",
       "        text-align: right;\n",
       "    }\n",
       "</style>\n",
       "<table border=\"1\" class=\"dataframe\">\n",
       "  <thead>\n",
       "    <tr style=\"text-align: right;\">\n",
       "      <th></th>\n",
       "      <th>DAY_OF_WEEK</th>\n",
       "      <th>AIRLINE</th>\n",
       "      <th>FLIGHT_NUMBER</th>\n",
       "      <th>TAIL_NUMBER</th>\n",
       "      <th>ORIGIN_AIRPORT</th>\n",
       "      <th>DESTINATION_AIRPORT</th>\n",
       "      <th>SCHEDULED_DEPARTURE</th>\n",
       "      <th>DEPARTURE_TIME</th>\n",
       "      <th>DEPARTURE_DELAY</th>\n",
       "      <th>TAXI_OUT</th>\n",
       "      <th>...</th>\n",
       "      <th>ARRIVAL_DELAY</th>\n",
       "      <th>DIVERTED</th>\n",
       "      <th>CANCELLED</th>\n",
       "      <th>CANCELLATION_REASON</th>\n",
       "      <th>AIR_SYSTEM_DELAY</th>\n",
       "      <th>SECURITY_DELAY</th>\n",
       "      <th>AIRLINE_DELAY</th>\n",
       "      <th>LATE_AIRCRAFT_DELAY</th>\n",
       "      <th>WEATHER_DELAY</th>\n",
       "      <th>DATE</th>\n",
       "    </tr>\n",
       "  </thead>\n",
       "  <tbody>\n",
       "    <tr>\n",
       "      <th>0</th>\n",
       "      <td>4</td>\n",
       "      <td>AS</td>\n",
       "      <td>98</td>\n",
       "      <td>N407AS</td>\n",
       "      <td>ANC</td>\n",
       "      <td>SEA</td>\n",
       "      <td>0005</td>\n",
       "      <td>2354</td>\n",
       "      <td>-11.0</td>\n",
       "      <td>21</td>\n",
       "      <td>...</td>\n",
       "      <td>-22</td>\n",
       "      <td>0</td>\n",
       "      <td>0</td>\n",
       "      <td>NaN</td>\n",
       "      <td>NaN</td>\n",
       "      <td>NaN</td>\n",
       "      <td>NaN</td>\n",
       "      <td>NaN</td>\n",
       "      <td>NaN</td>\n",
       "      <td>2015-01-01</td>\n",
       "    </tr>\n",
       "    <tr>\n",
       "      <th>1</th>\n",
       "      <td>4</td>\n",
       "      <td>AA</td>\n",
       "      <td>2336</td>\n",
       "      <td>N3KUAA</td>\n",
       "      <td>LAX</td>\n",
       "      <td>PBI</td>\n",
       "      <td>0010</td>\n",
       "      <td>0002</td>\n",
       "      <td>-8.0</td>\n",
       "      <td>12</td>\n",
       "      <td>...</td>\n",
       "      <td>-9</td>\n",
       "      <td>0</td>\n",
       "      <td>0</td>\n",
       "      <td>NaN</td>\n",
       "      <td>NaN</td>\n",
       "      <td>NaN</td>\n",
       "      <td>NaN</td>\n",
       "      <td>NaN</td>\n",
       "      <td>NaN</td>\n",
       "      <td>2015-01-01</td>\n",
       "    </tr>\n",
       "    <tr>\n",
       "      <th>2</th>\n",
       "      <td>4</td>\n",
       "      <td>US</td>\n",
       "      <td>840</td>\n",
       "      <td>N171US</td>\n",
       "      <td>SFO</td>\n",
       "      <td>CLT</td>\n",
       "      <td>0020</td>\n",
       "      <td>0018</td>\n",
       "      <td>-2.0</td>\n",
       "      <td>16</td>\n",
       "      <td>...</td>\n",
       "      <td>5</td>\n",
       "      <td>0</td>\n",
       "      <td>0</td>\n",
       "      <td>NaN</td>\n",
       "      <td>NaN</td>\n",
       "      <td>NaN</td>\n",
       "      <td>NaN</td>\n",
       "      <td>NaN</td>\n",
       "      <td>NaN</td>\n",
       "      <td>2015-01-01</td>\n",
       "    </tr>\n",
       "    <tr>\n",
       "      <th>3</th>\n",
       "      <td>4</td>\n",
       "      <td>AA</td>\n",
       "      <td>258</td>\n",
       "      <td>N3HYAA</td>\n",
       "      <td>LAX</td>\n",
       "      <td>MIA</td>\n",
       "      <td>0020</td>\n",
       "      <td>0015</td>\n",
       "      <td>-5.0</td>\n",
       "      <td>15</td>\n",
       "      <td>...</td>\n",
       "      <td>-9</td>\n",
       "      <td>0</td>\n",
       "      <td>0</td>\n",
       "      <td>NaN</td>\n",
       "      <td>NaN</td>\n",
       "      <td>NaN</td>\n",
       "      <td>NaN</td>\n",
       "      <td>NaN</td>\n",
       "      <td>NaN</td>\n",
       "      <td>2015-01-01</td>\n",
       "    </tr>\n",
       "    <tr>\n",
       "      <th>4</th>\n",
       "      <td>4</td>\n",
       "      <td>AS</td>\n",
       "      <td>135</td>\n",
       "      <td>N527AS</td>\n",
       "      <td>SEA</td>\n",
       "      <td>ANC</td>\n",
       "      <td>0025</td>\n",
       "      <td>0024</td>\n",
       "      <td>-1.0</td>\n",
       "      <td>11</td>\n",
       "      <td>...</td>\n",
       "      <td>-21</td>\n",
       "      <td>0</td>\n",
       "      <td>0</td>\n",
       "      <td>NaN</td>\n",
       "      <td>NaN</td>\n",
       "      <td>NaN</td>\n",
       "      <td>NaN</td>\n",
       "      <td>NaN</td>\n",
       "      <td>NaN</td>\n",
       "      <td>2015-01-01</td>\n",
       "    </tr>\n",
       "  </tbody>\n",
       "</table>\n",
       "<p>5 rows × 29 columns</p>\n",
       "</div>"
      ],
      "text/plain": [
       "  DAY_OF_WEEK AIRLINE FLIGHT_NUMBER TAIL_NUMBER ORIGIN_AIRPORT  \\\n",
       "0           4      AS            98      N407AS            ANC   \n",
       "1           4      AA          2336      N3KUAA            LAX   \n",
       "2           4      US           840      N171US            SFO   \n",
       "3           4      AA           258      N3HYAA            LAX   \n",
       "4           4      AS           135      N527AS            SEA   \n",
       "\n",
       "  DESTINATION_AIRPORT SCHEDULED_DEPARTURE DEPARTURE_TIME  DEPARTURE_DELAY  \\\n",
       "0                 SEA                0005           2354            -11.0   \n",
       "1                 PBI                0010           0002             -8.0   \n",
       "2                 CLT                0020           0018             -2.0   \n",
       "3                 MIA                0020           0015             -5.0   \n",
       "4                 ANC                0025           0024             -1.0   \n",
       "\n",
       "  TAXI_OUT  ... ARRIVAL_DELAY DIVERTED CANCELLED CANCELLATION_REASON  \\\n",
       "0       21  ...           -22        0         0                 NaN   \n",
       "1       12  ...            -9        0         0                 NaN   \n",
       "2       16  ...             5        0         0                 NaN   \n",
       "3       15  ...            -9        0         0                 NaN   \n",
       "4       11  ...           -21        0         0                 NaN   \n",
       "\n",
       "  AIR_SYSTEM_DELAY SECURITY_DELAY AIRLINE_DELAY LATE_AIRCRAFT_DELAY  \\\n",
       "0              NaN            NaN           NaN                 NaN   \n",
       "1              NaN            NaN           NaN                 NaN   \n",
       "2              NaN            NaN           NaN                 NaN   \n",
       "3              NaN            NaN           NaN                 NaN   \n",
       "4              NaN            NaN           NaN                 NaN   \n",
       "\n",
       "  WEATHER_DELAY       DATE  \n",
       "0           NaN 2015-01-01  \n",
       "1           NaN 2015-01-01  \n",
       "2           NaN 2015-01-01  \n",
       "3           NaN 2015-01-01  \n",
       "4           NaN 2015-01-01  \n",
       "\n",
       "[5 rows x 29 columns]"
      ]
     },
     "execution_count": 21,
     "metadata": {},
     "output_type": "execute_result"
    }
   ],
   "source": [
    "df = df.drop(columns=['YEAR', 'MONTH', 'DAY'])\n",
    "df.head()"
   ]
  },
  {
   "cell_type": "markdown",
   "metadata": {
    "id": "3DF2N8mNbJQB"
   },
   "source": [
    "Как поменять порядок столбцов?"
   ]
  },
  {
   "cell_type": "code",
   "execution_count": 22,
   "metadata": {
    "id": "Gtk5F0CzbJQB",
    "outputId": "138a1b89-6ed9-42bb-bf48-bfea9255dcac"
   },
   "outputs": [
    {
     "data": {
      "text/plain": [
       "['DATE',\n",
       " 'DAY_OF_WEEK',\n",
       " 'AIRLINE',\n",
       " 'FLIGHT_NUMBER',\n",
       " 'TAIL_NUMBER',\n",
       " 'ORIGIN_AIRPORT',\n",
       " 'DESTINATION_AIRPORT',\n",
       " 'SCHEDULED_DEPARTURE',\n",
       " 'DEPARTURE_TIME',\n",
       " 'DEPARTURE_DELAY',\n",
       " 'TAXI_OUT',\n",
       " 'WHEELS_OFF',\n",
       " 'SCHEDULED_TIME',\n",
       " 'ELAPSED_TIME',\n",
       " 'AIR_TIME',\n",
       " 'DISTANCE',\n",
       " 'WHEELS_ON',\n",
       " 'TAXI_IN',\n",
       " 'SCHEDULED_ARRIVAL',\n",
       " 'ARRIVAL_TIME',\n",
       " 'ARRIVAL_DELAY',\n",
       " 'DIVERTED',\n",
       " 'CANCELLED',\n",
       " 'CANCELLATION_REASON',\n",
       " 'AIR_SYSTEM_DELAY',\n",
       " 'SECURITY_DELAY',\n",
       " 'AIRLINE_DELAY',\n",
       " 'LATE_AIRCRAFT_DELAY',\n",
       " 'WEATHER_DELAY']"
      ]
     },
     "execution_count": 22,
     "metadata": {},
     "output_type": "execute_result"
    }
   ],
   "source": [
    "cols = list(df.columns)\n",
    "cols[-1:] + cols[:-1]"
   ]
  },
  {
   "cell_type": "markdown",
   "metadata": {
    "id": "W53cUtR9bJQB"
   },
   "source": [
    "Переместим последний столбец на первое место"
   ]
  },
  {
   "cell_type": "code",
   "execution_count": 23,
   "metadata": {
    "id": "A-vsms5hbJQB",
    "outputId": "0e957aea-2d45-4a62-a950-871891949f1d"
   },
   "outputs": [
    {
     "data": {
      "text/html": [
       "<div>\n",
       "<style scoped>\n",
       "    .dataframe tbody tr th:only-of-type {\n",
       "        vertical-align: middle;\n",
       "    }\n",
       "\n",
       "    .dataframe tbody tr th {\n",
       "        vertical-align: top;\n",
       "    }\n",
       "\n",
       "    .dataframe thead th {\n",
       "        text-align: right;\n",
       "    }\n",
       "</style>\n",
       "<table border=\"1\" class=\"dataframe\">\n",
       "  <thead>\n",
       "    <tr style=\"text-align: right;\">\n",
       "      <th></th>\n",
       "      <th>DATE</th>\n",
       "      <th>DAY_OF_WEEK</th>\n",
       "      <th>AIRLINE</th>\n",
       "      <th>FLIGHT_NUMBER</th>\n",
       "      <th>TAIL_NUMBER</th>\n",
       "      <th>ORIGIN_AIRPORT</th>\n",
       "      <th>DESTINATION_AIRPORT</th>\n",
       "      <th>SCHEDULED_DEPARTURE</th>\n",
       "      <th>DEPARTURE_TIME</th>\n",
       "      <th>DEPARTURE_DELAY</th>\n",
       "      <th>...</th>\n",
       "      <th>ARRIVAL_TIME</th>\n",
       "      <th>ARRIVAL_DELAY</th>\n",
       "      <th>DIVERTED</th>\n",
       "      <th>CANCELLED</th>\n",
       "      <th>CANCELLATION_REASON</th>\n",
       "      <th>AIR_SYSTEM_DELAY</th>\n",
       "      <th>SECURITY_DELAY</th>\n",
       "      <th>AIRLINE_DELAY</th>\n",
       "      <th>LATE_AIRCRAFT_DELAY</th>\n",
       "      <th>WEATHER_DELAY</th>\n",
       "    </tr>\n",
       "  </thead>\n",
       "  <tbody>\n",
       "    <tr>\n",
       "      <th>0</th>\n",
       "      <td>2015-01-01</td>\n",
       "      <td>4</td>\n",
       "      <td>AS</td>\n",
       "      <td>98</td>\n",
       "      <td>N407AS</td>\n",
       "      <td>ANC</td>\n",
       "      <td>SEA</td>\n",
       "      <td>0005</td>\n",
       "      <td>2354</td>\n",
       "      <td>-11.0</td>\n",
       "      <td>...</td>\n",
       "      <td>0408</td>\n",
       "      <td>-22</td>\n",
       "      <td>0</td>\n",
       "      <td>0</td>\n",
       "      <td>NaN</td>\n",
       "      <td>NaN</td>\n",
       "      <td>NaN</td>\n",
       "      <td>NaN</td>\n",
       "      <td>NaN</td>\n",
       "      <td>NaN</td>\n",
       "    </tr>\n",
       "    <tr>\n",
       "      <th>1</th>\n",
       "      <td>2015-01-01</td>\n",
       "      <td>4</td>\n",
       "      <td>AA</td>\n",
       "      <td>2336</td>\n",
       "      <td>N3KUAA</td>\n",
       "      <td>LAX</td>\n",
       "      <td>PBI</td>\n",
       "      <td>0010</td>\n",
       "      <td>0002</td>\n",
       "      <td>-8.0</td>\n",
       "      <td>...</td>\n",
       "      <td>0741</td>\n",
       "      <td>-9</td>\n",
       "      <td>0</td>\n",
       "      <td>0</td>\n",
       "      <td>NaN</td>\n",
       "      <td>NaN</td>\n",
       "      <td>NaN</td>\n",
       "      <td>NaN</td>\n",
       "      <td>NaN</td>\n",
       "      <td>NaN</td>\n",
       "    </tr>\n",
       "    <tr>\n",
       "      <th>2</th>\n",
       "      <td>2015-01-01</td>\n",
       "      <td>4</td>\n",
       "      <td>US</td>\n",
       "      <td>840</td>\n",
       "      <td>N171US</td>\n",
       "      <td>SFO</td>\n",
       "      <td>CLT</td>\n",
       "      <td>0020</td>\n",
       "      <td>0018</td>\n",
       "      <td>-2.0</td>\n",
       "      <td>...</td>\n",
       "      <td>0811</td>\n",
       "      <td>5</td>\n",
       "      <td>0</td>\n",
       "      <td>0</td>\n",
       "      <td>NaN</td>\n",
       "      <td>NaN</td>\n",
       "      <td>NaN</td>\n",
       "      <td>NaN</td>\n",
       "      <td>NaN</td>\n",
       "      <td>NaN</td>\n",
       "    </tr>\n",
       "    <tr>\n",
       "      <th>3</th>\n",
       "      <td>2015-01-01</td>\n",
       "      <td>4</td>\n",
       "      <td>AA</td>\n",
       "      <td>258</td>\n",
       "      <td>N3HYAA</td>\n",
       "      <td>LAX</td>\n",
       "      <td>MIA</td>\n",
       "      <td>0020</td>\n",
       "      <td>0015</td>\n",
       "      <td>-5.0</td>\n",
       "      <td>...</td>\n",
       "      <td>0756</td>\n",
       "      <td>-9</td>\n",
       "      <td>0</td>\n",
       "      <td>0</td>\n",
       "      <td>NaN</td>\n",
       "      <td>NaN</td>\n",
       "      <td>NaN</td>\n",
       "      <td>NaN</td>\n",
       "      <td>NaN</td>\n",
       "      <td>NaN</td>\n",
       "    </tr>\n",
       "    <tr>\n",
       "      <th>4</th>\n",
       "      <td>2015-01-01</td>\n",
       "      <td>4</td>\n",
       "      <td>AS</td>\n",
       "      <td>135</td>\n",
       "      <td>N527AS</td>\n",
       "      <td>SEA</td>\n",
       "      <td>ANC</td>\n",
       "      <td>0025</td>\n",
       "      <td>0024</td>\n",
       "      <td>-1.0</td>\n",
       "      <td>...</td>\n",
       "      <td>0259</td>\n",
       "      <td>-21</td>\n",
       "      <td>0</td>\n",
       "      <td>0</td>\n",
       "      <td>NaN</td>\n",
       "      <td>NaN</td>\n",
       "      <td>NaN</td>\n",
       "      <td>NaN</td>\n",
       "      <td>NaN</td>\n",
       "      <td>NaN</td>\n",
       "    </tr>\n",
       "  </tbody>\n",
       "</table>\n",
       "<p>5 rows × 29 columns</p>\n",
       "</div>"
      ],
      "text/plain": [
       "        DATE DAY_OF_WEEK AIRLINE FLIGHT_NUMBER TAIL_NUMBER ORIGIN_AIRPORT  \\\n",
       "0 2015-01-01           4      AS            98      N407AS            ANC   \n",
       "1 2015-01-01           4      AA          2336      N3KUAA            LAX   \n",
       "2 2015-01-01           4      US           840      N171US            SFO   \n",
       "3 2015-01-01           4      AA           258      N3HYAA            LAX   \n",
       "4 2015-01-01           4      AS           135      N527AS            SEA   \n",
       "\n",
       "  DESTINATION_AIRPORT SCHEDULED_DEPARTURE DEPARTURE_TIME  DEPARTURE_DELAY  \\\n",
       "0                 SEA                0005           2354            -11.0   \n",
       "1                 PBI                0010           0002             -8.0   \n",
       "2                 CLT                0020           0018             -2.0   \n",
       "3                 MIA                0020           0015             -5.0   \n",
       "4                 ANC                0025           0024             -1.0   \n",
       "\n",
       "   ... ARRIVAL_TIME ARRIVAL_DELAY DIVERTED CANCELLED CANCELLATION_REASON  \\\n",
       "0  ...         0408           -22        0         0                 NaN   \n",
       "1  ...         0741            -9        0         0                 NaN   \n",
       "2  ...         0811             5        0         0                 NaN   \n",
       "3  ...         0756            -9        0         0                 NaN   \n",
       "4  ...         0259           -21        0         0                 NaN   \n",
       "\n",
       "  AIR_SYSTEM_DELAY SECURITY_DELAY AIRLINE_DELAY LATE_AIRCRAFT_DELAY  \\\n",
       "0              NaN            NaN           NaN                 NaN   \n",
       "1              NaN            NaN           NaN                 NaN   \n",
       "2              NaN            NaN           NaN                 NaN   \n",
       "3              NaN            NaN           NaN                 NaN   \n",
       "4              NaN            NaN           NaN                 NaN   \n",
       "\n",
       "  WEATHER_DELAY  \n",
       "0           NaN  \n",
       "1           NaN  \n",
       "2           NaN  \n",
       "3           NaN  \n",
       "4           NaN  \n",
       "\n",
       "[5 rows x 29 columns]"
      ]
     },
     "execution_count": 23,
     "metadata": {},
     "output_type": "execute_result"
    }
   ],
   "source": [
    "df = df[cols[-1:] + cols[:-1]]\n",
    "df.head()"
   ]
  },
  {
   "cell_type": "markdown",
   "metadata": {
    "id": "-7rPFV7CbJQC"
   },
   "source": [
    "Посмотрим на столбец ORIGIN_AIRPORT. В нем много непонятных значений"
   ]
  },
  {
   "cell_type": "code",
   "execution_count": 24,
   "metadata": {
    "id": "8uk_PiyXbJQC",
    "outputId": "c7ad5ae7-cf46-4269-a7e5-a16541646099"
   },
   "outputs": [
    {
     "data": {
      "text/plain": [
       "array(['ANC', 'LAX', 'SFO', 'SEA', 'LAS', 'DEN', 'SLC', 'PDX', 'FAI',\n",
       "       'MSP', 'PHX', 'SJU', 'PBG', 'IAG', 'PSE', 'BQN', 'ORD', 'GEG',\n",
       "       'HNL', 'ONT', 'MCO', 'BOS', 'HIB', 'ABR', 'DFW', 'MKE', 'IAH',\n",
       "       'BNA', 'BRO', 'VPS', 'BOI', 'BJI', 'PHL', 'SBN', 'EUG', 'IAD',\n",
       "       'BUF', 'PWM', 'JFK', 'CRP', 'PIA', 'FAT', 'SMF', 'AUS', 'MCI',\n",
       "       'ATL', 'JAX', 'MFR', 'IDA', 'MSN', 'DCA', 'SAT', 'CHS', 'SBA',\n",
       "       'IND', 'CLE', 'GSP', 'BDL', 'RIC', 'BFL', 'OMA', 'RDM', 'FLL',\n",
       "       'CID', 'TPA', 'SYR', 'ROC', 'TYR', 'LAN', 'GSO', 'EWR', 'PBI',\n",
       "       'RSW', 'OAK', 'PVD', 'RNO', 'PIT', 'ABQ', 'MIA', 'BWI', 'TUL',\n",
       "       'LGA', 'LIT', 'MSY', 'OKC', 'ATW', 'PNS', 'MEM', 'TYS', 'MHT',\n",
       "       'SAV', 'CLT', 'GRB', 'ABE', 'JAN', 'OAJ', 'FAR', 'ERI', 'LEX',\n",
       "       'CWA', 'TTN', 'RDU', 'CVG', 'BHM', 'ACY', 'DTW', 'RAP', 'TUS',\n",
       "       'EAU', 'DLH', 'FSD', 'INL', 'SPI', 'CLD', 'COD', 'CMH', 'PSC',\n",
       "       'CPR', 'ACV', 'DAL', 'PAH', 'MRY', 'ESC', 'ISN', 'PSP', 'CAE',\n",
       "       'STL', 'BTV', 'MTJ', 'GCC', 'OGG', 'SJC', 'GUC', 'ORF', 'MOT',\n",
       "       'MLU', 'KOA', 'HOU', 'MOB', 'SAN', 'LAW', 'PIB', 'MGM', 'SBP',\n",
       "       'COS', 'LAR', 'DRO', 'BIS', 'ITO', 'BTR', 'HLN', 'BZN', 'MDW',\n",
       "       'MDT', 'SCE', 'LIH', 'TWF', 'BPT', 'GPT', 'STC', 'HPN', 'MLB',\n",
       "       'PLN', 'CIU', 'CAK', 'DSM', 'BLI', 'SHV', 'SNA', 'ALB', 'LNK',\n",
       "       'CMI', 'GTF', 'EKO', 'LGB', 'AVL', 'HSV', 'XNA', 'SUX', 'HYS',\n",
       "       'MFE', 'ISP', 'BUR', 'DAB', 'DAY', 'LFT', 'LBE', 'ASE', 'GUM',\n",
       "       'TVC', 'ALO', 'TLH', 'ELP', 'MHK', 'IMT', 'JNU', 'JAC', 'MEI',\n",
       "       'DBQ', 'GNV', 'BRD', 'DIK', 'SDF', 'LBB', 'AVP', 'SGF', 'COU',\n",
       "       'BTM', 'ELM', 'RKS', 'PIH', 'SUN', 'LWS', 'VEL', 'STT', 'SAF',\n",
       "       'YUM', 'FCA', 'GRR', 'HDN', 'ROA', 'CHA', 'EYW', 'MYR', 'CRW',\n",
       "       'MQT', 'CHO', 'GJT', 'FWA', 'ECP', 'EVV', 'MSO', 'EGE', 'AMA',\n",
       "       'MLI', 'MBS', 'GFK', 'GRK', 'BIL', 'OTZ', 'KTN', 'STX', 'ILM',\n",
       "       'PUB', 'RHI', 'CDC', 'HRL', 'SCC', 'FNT', 'LSE', 'MMH', 'ACT',\n",
       "       'FSM', 'AGS', 'CEC', 'ICT', 'AEX', 'DHN', 'LRD', 'WRG', 'PHF',\n",
       "       'CNY', 'BRW', 'GGG', 'AZO', 'CLL', 'SRQ', 'ORH', 'FLG', 'TRI',\n",
       "       'VLD', 'SIT', 'BQK', 'BMI', 'PSG', 'FAY', 'MKG', 'CSG', 'MAF',\n",
       "       'EWN', 'OME', 'CMX', 'JMS', 'SGU', 'RST', 'GTR', 'BET', 'TOL',\n",
       "       'APN', 'SMX', 'LCH', 'RDD', 'GCK', 'DVL', 'GRI', 'ABY', 'SWF',\n",
       "       'ILG', 'JLN', 'ADK', 'UST', 'TXK', 'SPS', 'ABI', 'YAK', 'SJT',\n",
       "       'CDV', 'OTH', 'ADQ', 'PPG', 'ROW', 'HOB', 'BGM', 'BGR', 'ITH',\n",
       "       'ACK', 'MVY', 'WYS', 'DLG', 'AKN', 'GST', 'HYA', '14747', '14771',\n",
       "       '12889', '12892', '14869', '10299', '11292', '14107', '11630',\n",
       "       '10732', '14254', '10141', '10627', '11982', '12173', '13930',\n",
       "       '14683', '12266', '11618', '10721', '13487', '11884', '15919',\n",
       "       '13851', '11111', '10693', '12191', '14783', '15016', '14487',\n",
       "       '10423', '15370', '11953', '13891', '15376', '11778', '11278',\n",
       "       '14100', '13204', '15304', '11637', '14842', '10155', '11775',\n",
       "       '11298', '11057', '13931', '10821', '14122', '11049', '10990',\n",
       "       '10631', '13158', '14108', '13198', '11447', '12206', '13495',\n",
       "       '14057', '15624', '10747', '15411', '12891', '10994', '13256',\n",
       "       '10792', '14492', '12451', '13127', '10781', '14960', '12278',\n",
       "       '14685', '11995', '13485', '11977', '10257', '13796', '13232',\n",
       "       '13296', '14570', '14893', '14524', '12217', '10713', '10208',\n",
       "       '10136', '11603', '14689', '11471', '11315', '13264', '12478',\n",
       "       '14814', '11308', '11066', '12896', '10397', '14307', '11721',\n",
       "       '11140', '10185', '13277', '11203', '13342', '11433', '11697',\n",
       "       '12953', '10599', '12156', '14952', '10620', '11042', '15096',\n",
       "       '10408', '15249', '11423', '12915', '12264', '12339', '10140',\n",
       "       '13871', '14027', '13244', '11267', '11540', '14576', '10868',\n",
       "       '13486', '13476', '14489', '12945', '15607', '10529', '11986',\n",
       "       '14635', '13303', '10785', '15380', '11996', '10561', '10874',\n",
       "       '13367', '10146', '10431', '11973', '10980', '12197', '14098',\n",
       "       '12323', '10577', '11150', '10135', '11617', '13795', '13029',\n",
       "       '11003', '11146', '11577', '15356', '11259', '10279', '14321',\n",
       "       '14843', '11638', '14828', '11481', '12951', '10434', '12448',\n",
       "       '14730', '15323', '14252', '11193', '10849', '14193', '14986',\n",
       "       '11641', '12992', '13422', '11612', '11823', '11980', '13290',\n",
       "       '10158', '10685', '13377', '11109', '11076', '11122', '11865',\n",
       "       '14543', '14905', '11587', '14457', '12335', '12343', '12003',\n",
       "       '10157', '12884', '14633', '15048', '10268', '15295', '12389',\n",
       "       '11525', '14262', '12888', '12391', '11648', '14696', '12758',\n",
       "       '13830', '10469', '15412', '10731', '14679', '14831', '11413',\n",
       "       '13433', '12982', '11867', '14698', '11537', '15389', '12402',\n",
       "       '11337', '13360', '13076', '14006', '10728', '15401', '13230',\n",
       "       '12016', '11067', '11274', '11921', '12519', '11013', '10779',\n",
       "       '14150', '14794', '12511', '12177', '12523', '14908', '12007',\n",
       "       '14588', '13577', '13061', '15041', '14109', '10800', '12954',\n",
       "       '12441', '12898', '16218', '14113', '11624', '11503', '10739',\n",
       "       '14574', '14711', '12129', '15070', '14520', '13184', '11252',\n",
       "       '12280', '13241', '11898', '15024', '14674', '10551', '12819',\n",
       "       '13459', '10581', '13970', '10372', '10918', '14709', '12255',\n",
       "       '11905', '10333', '11695', '15841', '13344', '13933', '15991',\n",
       "       '10754', '14256', '12094', '13873', '11097', '10154', '10926',\n",
       "       '13964', '13541', '15027', '10170', '10165', '15497', '12265',\n",
       "       '14222', '14025', '13502'], dtype=object)"
      ]
     },
     "execution_count": 24,
     "metadata": {},
     "output_type": "execute_result"
    }
   ],
   "source": [
    "df.ORIGIN_AIRPORT.unique()"
   ]
  },
  {
   "cell_type": "markdown",
   "metadata": {
    "id": "m3TSlzJDbJQC"
   },
   "source": [
    "Как отделить нормальные значения от ненормальных? Например, по длине строки:"
   ]
  },
  {
   "cell_type": "code",
   "execution_count": 25,
   "metadata": {
    "id": "ookAe6jJbJQC",
    "outputId": "50f2d344-2451-428b-aafe-9448028f51d6"
   },
   "outputs": [
    {
     "data": {
      "text/plain": [
       "0          3\n",
       "1          3\n",
       "2          3\n",
       "3          3\n",
       "4          3\n",
       "          ..\n",
       "5819074    3\n",
       "5819075    3\n",
       "5819076    3\n",
       "5819077    3\n",
       "5819078    3\n",
       "Name: ORIGIN_AIRPORT, Length: 5726566, dtype: int64"
      ]
     },
     "execution_count": 25,
     "metadata": {},
     "output_type": "execute_result"
    }
   ],
   "source": [
    "df.ORIGIN_AIRPORT.apply(len)"
   ]
  },
  {
   "cell_type": "markdown",
   "metadata": {
    "id": "7lQ9vc0pbJQC"
   },
   "source": [
    "Фильтруем датасет (комментарий: на практике не нужно доверять признаку длина строки, лучше непосредственно проверять, если ли данная запись в справочнике аэропортов)"
   ]
  },
  {
   "cell_type": "code",
   "execution_count": 26,
   "metadata": {
    "id": "CB_JqW2JbJQC"
   },
   "outputs": [],
   "source": [
    "df = df.loc[(df.ORIGIN_AIRPORT.apply(len) == 3) &\n",
    "            (df.DESTINATION_AIRPORT.apply(len) == 3)]"
   ]
  },
  {
   "cell_type": "code",
   "execution_count": 27,
   "metadata": {
    "id": "_Ji-4SSxbJQC",
    "outputId": "18798d74-724f-4adb-c85c-76226bb44ffb"
   },
   "outputs": [
    {
     "data": {
      "text/plain": [
       "array(['AS', 'AA', 'US', 'DL', 'NK', 'UA', 'HA', 'B6', 'OO', 'EV', 'F9',\n",
       "       'WN', 'MQ', 'VX'], dtype=object)"
      ]
     },
     "execution_count": 27,
     "metadata": {},
     "output_type": "execute_result"
    }
   ],
   "source": [
    "df.AIRLINE.unique()"
   ]
  },
  {
   "cell_type": "markdown",
   "metadata": {
    "id": "BwfFkIXQbJQD"
   },
   "source": [
    "Метод loc позволяет получать срезы датасета. Например, найдем из каких городов летает авиакомпание АА:"
   ]
  },
  {
   "cell_type": "code",
   "execution_count": 28,
   "metadata": {
    "id": "TzplSwVlbJQD",
    "outputId": "4393158b-e71d-4678-9316-81e9cd1ecdd0"
   },
   "outputs": [
    {
     "data": {
      "text/plain": [
       "array(['LAX', 'SFO', 'LAS', 'SEA', 'DEN', 'PHX', 'MCO', 'DFW', 'BOS',\n",
       "       'IAH', 'SAT', 'JFK', 'AUS', 'EWR', 'MIA', 'SLC', 'BWI', 'MCI',\n",
       "       'TUL', 'LGA', 'LIT', 'PDX', 'TPA', 'SMF', 'MSY', 'OMA', 'OKC',\n",
       "       'DCA', 'STL', 'SJU', 'MKE', 'BNA', 'MSP', 'SAN', 'RDU', 'IAD',\n",
       "       'CLT', 'PHL', 'PBI', 'JAX', 'PIT', 'COS', 'DSM', 'RIC', 'BDL',\n",
       "       'SNA', 'BHM', 'MEM', 'CLE', 'ATL', 'FAT', 'DAY', 'ORF', 'IND',\n",
       "       'CMH', 'ELP', 'ONT', 'RNO', 'SJC', 'ABQ', 'PSP', 'RSW', 'FLL',\n",
       "       'JAC', 'TUS', 'HNL', 'ORD', 'EGE', 'DTW', 'STT', 'MFE', 'STX',\n",
       "       'HDN', 'ICT', 'KOA', 'HOU', 'OGG', 'GUC', 'LIH', 'SDF', 'MTJ',\n",
       "       'PNS', 'LBB', 'XNA', 'ANC', 'OAK', 'PVD', 'BUF', 'BOI', 'ALB',\n",
       "       'PWM', 'SYR', 'GEG', 'GSO', 'CHS', 'ILM', 'ROC', 'MDT'],\n",
       "      dtype=object)"
      ]
     },
     "execution_count": 28,
     "metadata": {},
     "output_type": "execute_result"
    }
   ],
   "source": [
    "df.loc[df.AIRLINE == 'AA', 'ORIGIN_AIRPORT'].unique()"
   ]
  },
  {
   "cell_type": "markdown",
   "metadata": {
    "id": "HnsuDmPwbJQD"
   },
   "source": [
    "Также легко найти из каких городов АА делает наибольшее число рейсов"
   ]
  },
  {
   "cell_type": "code",
   "execution_count": 29,
   "metadata": {
    "id": "kexOUwG4bJQD",
    "outputId": "2f7ab355-093b-4ed1-90c6-4ffefc741149"
   },
   "outputs": [
    {
     "data": {
      "text/plain": [
       "DFW    131464\n",
       "ORD     49688\n",
       "MIA     47792\n",
       "CLT     41512\n",
       "LAX     32409\n",
       "        ...  \n",
       "GUC       113\n",
       "MDT        49\n",
       "MTJ        29\n",
       "XNA        18\n",
       "LIT         9\n",
       "Name: ORIGIN_AIRPORT, Length: 98, dtype: int64"
      ]
     },
     "execution_count": 29,
     "metadata": {},
     "output_type": "execute_result"
    }
   ],
   "source": [
    "df.loc[df.AIRLINE == 'AA', 'ORIGIN_AIRPORT'].value_counts()"
   ]
  },
  {
   "cell_type": "markdown",
   "metadata": {
    "id": "aa0DJl2DbJQD"
   },
   "source": [
    "Иногда вместо таблиц удобно смотреть на графики. У датафрейма и серии есть встроенный метод plot"
   ]
  },
  {
   "cell_type": "code",
   "execution_count": 30,
   "metadata": {
    "id": "IZCHyYDMbJQD",
    "outputId": "6ae97585-d27d-4a67-a299-7eb92374700f"
   },
   "outputs": [
    {
     "data": {
      "image/png": "[encoded data removed]",
      "text/plain": [
       "<Figure size 432x288 with 1 Axes>"
      ]
     },
     "metadata": {},
     "output_type": "display_data"
    }
   ],
   "source": [
    "fig = plt.figure()\n",
    "fig.patch.set_facecolor('xkcd:white')\n",
    "\n",
    "df.loc[df.AIRLINE == 'AA', 'ORIGIN_AIRPORT'].value_counts()[:10].plot(kind='bar')\n",
    "plt.show()"
   ]
  },
  {
   "cell_type": "markdown",
   "metadata": {
    "id": "UavMunfGbJQE"
   },
   "source": [
    "Еще один способ как найти перевозчика с наибольшим числом рейсов. Методом groupby"
   ]
  },
  {
   "cell_type": "code",
   "execution_count": 31,
   "metadata": {
    "id": "au-dms1HbJQE",
    "outputId": "1ca381c3-e865-4b54-d977-9c17b7276a20"
   },
   "outputs": [
    {
     "data": {
      "text/plain": [
       "AIRLINE\n",
       "WN    1140890\n",
       "DL     796418\n",
       "AA     638313\n",
       "OO     529394\n",
       "EV     511186\n",
       "UA     463158\n",
       "MQ     257726\n",
       "B6     240906\n",
       "US     194586\n",
       "AS     157268\n",
       "NK     105198\n",
       "F9      82142\n",
       "HA      69863\n",
       "VX      55924\n",
       "dtype: int64"
      ]
     },
     "execution_count": 31,
     "metadata": {},
     "output_type": "execute_result"
    }
   ],
   "source": [
    "df.groupby('AIRLINE').size().sort_values()[::-1]"
   ]
  },
  {
   "cell_type": "markdown",
   "metadata": {
    "id": "xIC9arWhbJQE"
   },
   "source": [
    "Найдем, сколько времени самолеты каждой авиакомпании проводят в воздухе. Обратите внимание, что сначала строковые значения нужно привести в числовой тип:"
   ]
  },
  {
   "cell_type": "code",
   "execution_count": 32,
   "metadata": {
    "id": "vJ0x2dLUbJQE",
    "outputId": "534d82cd-65f3-4fa0-ab01-1f0688c4bc3a"
   },
   "outputs": [
    {
     "data": {
      "text/plain": [
       "AIRLINE\n",
       "AA     89473152.0\n",
       "AS     24786823.0\n",
       "B6     34637886.0\n",
       "DL     92137719.0\n",
       "EV     37151025.0\n",
       "F9     10691374.0\n",
       "HA      5931683.0\n",
       "MQ     17292639.0\n",
       "NK     13905437.0\n",
       "OO     39974767.0\n",
       "UA     76413094.0\n",
       "US     24428249.0\n",
       "VX     10214217.0\n",
       "WN    117560358.0\n",
       "Name: AIR_TIME, dtype: float64"
      ]
     },
     "execution_count": 32,
     "metadata": {},
     "output_type": "execute_result"
    }
   ],
   "source": [
    "df.AIR_TIME = df.AIR_TIME.astype(float)\n",
    "df.groupby('AIRLINE')['AIR_TIME'].sum()"
   ]
  },
  {
   "cell_type": "markdown",
   "metadata": {
    "id": "RBR5b2VrbJQE"
   },
   "source": [
    "Найдем авиакомпанию, у которой больше всего география вылетов (как еще можно решить эту задачу?)"
   ]
  },
  {
   "cell_type": "code",
   "execution_count": 33,
   "metadata": {
    "id": "8uFgTFOObJQE",
    "outputId": "3b846ae5-1868-4e0f-9de3-a832156057d2"
   },
   "outputs": [
    {
     "data": {
      "text/plain": [
       "AIRLINE\n",
       "OO    211\n",
       "EV    181\n",
       "DL    156\n",
       "MQ    133\n",
       "AA     98\n",
       "UA     94\n",
       "WN     86\n",
       "US     79\n",
       "AS     67\n",
       "B6     64\n",
       "F9     63\n",
       "NK     34\n",
       "VX     21\n",
       "HA     17\n",
       "Name: ORIGIN_AIRPORT, dtype: int64"
      ]
     },
     "execution_count": 33,
     "metadata": {},
     "output_type": "execute_result"
    }
   ],
   "source": [
    "df.groupby('AIRLINE')['ORIGIN_AIRPORT'].nunique().sort_values()[::-1]"
   ]
  },
  {
   "cell_type": "markdown",
   "metadata": {
    "id": "QZCuWtRYbJQE"
   },
   "source": [
    "У какой авиакомпании больше всего маршрутов?"
   ]
  },
  {
   "cell_type": "code",
   "execution_count": 34,
   "metadata": {
    "id": "37RF8KINbJQE",
    "outputId": "105e2f00-929a-4993-a182-3399379e48db"
   },
   "outputs": [
    {
     "data": {
      "text/plain": [
       "AIRLINE\n",
       "EV    1381\n",
       "WN    1333\n",
       "OO    1322\n",
       "DL     963\n",
       "AA     707\n",
       "UA     702\n",
       "MQ     428\n",
       "B6     341\n",
       "US     340\n",
       "F9     333\n",
       "NK     316\n",
       "AS     251\n",
       "VX      71\n",
       "HA      56\n",
       "Name: ROUTE, dtype: int64"
      ]
     },
     "execution_count": 34,
     "metadata": {},
     "output_type": "execute_result"
    }
   ],
   "source": [
    "df['ROUTE'] = df['ORIGIN_AIRPORT'] + df['DESTINATION_AIRPORT']\n",
    "df.groupby('AIRLINE')['ROUTE'].nunique().sort_values()[::-1]"
   ]
  },
  {
   "cell_type": "markdown",
   "metadata": {
    "id": "oxQanpP_bJQE"
   },
   "source": [
    "Пора заменить кодовые названия авиакомпаний и аэропортов на полные названия. Для этого нужно соединять таблицы из датасета. Есть как минимум 4 способа это сделать:"
   ]
  },
  {
   "cell_type": "markdown",
   "metadata": {
    "id": "rHDo4O-FbJQF"
   },
   "source": [
    "![](https://www.tektutorialshub.com/wp-content/uploads/2019/12/Differences-in-inner-and-left-right-and-full-outer-joins.png)"
   ]
  },
  {
   "cell_type": "markdown",
   "metadata": {
    "id": "lXyRAjiAbJQF"
   },
   "source": [
    "Таблица перевозчиков"
   ]
  },
  {
   "cell_type": "code",
   "execution_count": 35,
   "metadata": {
    "id": "ei-bUPjCbJQF",
    "outputId": "22820ad6-d242-4c95-c910-ec05a6029163"
   },
   "outputs": [
    {
     "data": {
      "text/html": [
       "<div>\n",
       "<style scoped>\n",
       "    .dataframe tbody tr th:only-of-type {\n",
       "        vertical-align: middle;\n",
       "    }\n",
       "\n",
       "    .dataframe tbody tr th {\n",
       "        vertical-align: top;\n",
       "    }\n",
       "\n",
       "    .dataframe thead th {\n",
       "        text-align: right;\n",
       "    }\n",
       "</style>\n",
       "<table border=\"1\" class=\"dataframe\">\n",
       "  <thead>\n",
       "    <tr style=\"text-align: right;\">\n",
       "      <th></th>\n",
       "      <th>IATA_CODE</th>\n",
       "      <th>AIRLINE</th>\n",
       "    </tr>\n",
       "  </thead>\n",
       "  <tbody>\n",
       "    <tr>\n",
       "      <th>0</th>\n",
       "      <td>UA</td>\n",
       "      <td>United Air Lines Inc.</td>\n",
       "    </tr>\n",
       "    <tr>\n",
       "      <th>1</th>\n",
       "      <td>AA</td>\n",
       "      <td>American Airlines Inc.</td>\n",
       "    </tr>\n",
       "    <tr>\n",
       "      <th>2</th>\n",
       "      <td>US</td>\n",
       "      <td>US Airways Inc.</td>\n",
       "    </tr>\n",
       "    <tr>\n",
       "      <th>3</th>\n",
       "      <td>F9</td>\n",
       "      <td>Frontier Airlines Inc.</td>\n",
       "    </tr>\n",
       "    <tr>\n",
       "      <th>4</th>\n",
       "      <td>B6</td>\n",
       "      <td>JetBlue Airways</td>\n",
       "    </tr>\n",
       "  </tbody>\n",
       "</table>\n",
       "</div>"
      ],
      "text/plain": [
       "  IATA_CODE                 AIRLINE\n",
       "0        UA   United Air Lines Inc.\n",
       "1        AA  American Airlines Inc.\n",
       "2        US         US Airways Inc.\n",
       "3        F9  Frontier Airlines Inc.\n",
       "4        B6         JetBlue Airways"
      ]
     },
     "execution_count": 35,
     "metadata": {},
     "output_type": "execute_result"
    }
   ],
   "source": [
    "df_air = pd.read_csv('airlines.csv')\n",
    "df_air.head()"
   ]
  },
  {
   "cell_type": "markdown",
   "metadata": {
    "id": "qe40yRTpbJQF"
   },
   "source": [
    "Подготовим левую таблицу"
   ]
  },
  {
   "cell_type": "code",
   "execution_count": 36,
   "metadata": {
    "id": "V1j4HDDcbJQF",
    "outputId": "bdc744aa-b0f1-411e-c890-87c3c95afd90"
   },
   "outputs": [
    {
     "data": {
      "text/html": [
       "<div>\n",
       "<style scoped>\n",
       "    .dataframe tbody tr th:only-of-type {\n",
       "        vertical-align: middle;\n",
       "    }\n",
       "\n",
       "    .dataframe tbody tr th {\n",
       "        vertical-align: top;\n",
       "    }\n",
       "\n",
       "    .dataframe thead th {\n",
       "        text-align: right;\n",
       "    }\n",
       "</style>\n",
       "<table border=\"1\" class=\"dataframe\">\n",
       "  <thead>\n",
       "    <tr style=\"text-align: right;\">\n",
       "      <th></th>\n",
       "      <th>AIRLINE</th>\n",
       "      <th>ROUTE</th>\n",
       "    </tr>\n",
       "  </thead>\n",
       "  <tbody>\n",
       "    <tr>\n",
       "      <th>0</th>\n",
       "      <td>EV</td>\n",
       "      <td>1381</td>\n",
       "    </tr>\n",
       "    <tr>\n",
       "      <th>1</th>\n",
       "      <td>WN</td>\n",
       "      <td>1333</td>\n",
       "    </tr>\n",
       "    <tr>\n",
       "      <th>2</th>\n",
       "      <td>OO</td>\n",
       "      <td>1322</td>\n",
       "    </tr>\n",
       "    <tr>\n",
       "      <th>3</th>\n",
       "      <td>DL</td>\n",
       "      <td>963</td>\n",
       "    </tr>\n",
       "    <tr>\n",
       "      <th>4</th>\n",
       "      <td>AA</td>\n",
       "      <td>707</td>\n",
       "    </tr>\n",
       "  </tbody>\n",
       "</table>\n",
       "</div>"
      ],
      "text/plain": [
       "  AIRLINE  ROUTE\n",
       "0      EV   1381\n",
       "1      WN   1333\n",
       "2      OO   1322\n",
       "3      DL    963\n",
       "4      AA    707"
      ]
     },
     "execution_count": 36,
     "metadata": {},
     "output_type": "execute_result"
    }
   ],
   "source": [
    "tmp = df.groupby('AIRLINE')['ROUTE'].nunique().sort_values()[::-1].to_frame().reset_index()\n",
    "tmp.head()"
   ]
  },
  {
   "cell_type": "markdown",
   "metadata": {
    "id": "LPaOImpsbJQF"
   },
   "source": [
    "Сделаем одно необязательное действие по переименованию колонок"
   ]
  },
  {
   "cell_type": "code",
   "execution_count": 37,
   "metadata": {
    "id": "tQkagFRrbJQF",
    "outputId": "49b82d98-e7ef-44ba-bb9a-f88f100b25c5"
   },
   "outputs": [
    {
     "data": {
      "text/html": [
       "<div>\n",
       "<style scoped>\n",
       "    .dataframe tbody tr th:only-of-type {\n",
       "        vertical-align: middle;\n",
       "    }\n",
       "\n",
       "    .dataframe tbody tr th {\n",
       "        vertical-align: top;\n",
       "    }\n",
       "\n",
       "    .dataframe thead th {\n",
       "        text-align: right;\n",
       "    }\n",
       "</style>\n",
       "<table border=\"1\" class=\"dataframe\">\n",
       "  <thead>\n",
       "    <tr style=\"text-align: right;\">\n",
       "      <th></th>\n",
       "      <th>IATA_CODE</th>\n",
       "      <th>ROUTE</th>\n",
       "    </tr>\n",
       "  </thead>\n",
       "  <tbody>\n",
       "    <tr>\n",
       "      <th>0</th>\n",
       "      <td>EV</td>\n",
       "      <td>1381</td>\n",
       "    </tr>\n",
       "    <tr>\n",
       "      <th>1</th>\n",
       "      <td>WN</td>\n",
       "      <td>1333</td>\n",
       "    </tr>\n",
       "    <tr>\n",
       "      <th>2</th>\n",
       "      <td>OO</td>\n",
       "      <td>1322</td>\n",
       "    </tr>\n",
       "    <tr>\n",
       "      <th>3</th>\n",
       "      <td>DL</td>\n",
       "      <td>963</td>\n",
       "    </tr>\n",
       "    <tr>\n",
       "      <th>4</th>\n",
       "      <td>AA</td>\n",
       "      <td>707</td>\n",
       "    </tr>\n",
       "  </tbody>\n",
       "</table>\n",
       "</div>"
      ],
      "text/plain": [
       "  IATA_CODE  ROUTE\n",
       "0        EV   1381\n",
       "1        WN   1333\n",
       "2        OO   1322\n",
       "3        DL    963\n",
       "4        AA    707"
      ]
     },
     "execution_count": 37,
     "metadata": {},
     "output_type": "execute_result"
    }
   ],
   "source": [
    "tmp = tmp.rename(columns={'AIRLINE': 'IATA_CODE'})\n",
    "tmp.head()"
   ]
  },
  {
   "cell_type": "markdown",
   "metadata": {
    "id": "35F36uOybJQF"
   },
   "source": [
    "Соединим две таблицы по ключу IATA_CODE"
   ]
  },
  {
   "cell_type": "code",
   "execution_count": 38,
   "metadata": {
    "id": "55bQ9l4ybJQG",
    "outputId": "9144ffc3-8ba3-41d2-f672-778e04f3264e"
   },
   "outputs": [
    {
     "data": {
      "text/html": [
       "<div>\n",
       "<style scoped>\n",
       "    .dataframe tbody tr th:only-of-type {\n",
       "        vertical-align: middle;\n",
       "    }\n",
       "\n",
       "    .dataframe tbody tr th {\n",
       "        vertical-align: top;\n",
       "    }\n",
       "\n",
       "    .dataframe thead th {\n",
       "        text-align: right;\n",
       "    }\n",
       "</style>\n",
       "<table border=\"1\" class=\"dataframe\">\n",
       "  <thead>\n",
       "    <tr style=\"text-align: right;\">\n",
       "      <th></th>\n",
       "      <th>IATA_CODE</th>\n",
       "      <th>ROUTE</th>\n",
       "      <th>AIRLINE</th>\n",
       "    </tr>\n",
       "  </thead>\n",
       "  <tbody>\n",
       "    <tr>\n",
       "      <th>0</th>\n",
       "      <td>EV</td>\n",
       "      <td>1381</td>\n",
       "      <td>Atlantic Southeast Airlines</td>\n",
       "    </tr>\n",
       "    <tr>\n",
       "      <th>1</th>\n",
       "      <td>WN</td>\n",
       "      <td>1333</td>\n",
       "      <td>Southwest Airlines Co.</td>\n",
       "    </tr>\n",
       "    <tr>\n",
       "      <th>2</th>\n",
       "      <td>OO</td>\n",
       "      <td>1322</td>\n",
       "      <td>Skywest Airlines Inc.</td>\n",
       "    </tr>\n",
       "    <tr>\n",
       "      <th>3</th>\n",
       "      <td>DL</td>\n",
       "      <td>963</td>\n",
       "      <td>Delta Air Lines Inc.</td>\n",
       "    </tr>\n",
       "    <tr>\n",
       "      <th>4</th>\n",
       "      <td>AA</td>\n",
       "      <td>707</td>\n",
       "      <td>American Airlines Inc.</td>\n",
       "    </tr>\n",
       "    <tr>\n",
       "      <th>5</th>\n",
       "      <td>UA</td>\n",
       "      <td>702</td>\n",
       "      <td>United Air Lines Inc.</td>\n",
       "    </tr>\n",
       "    <tr>\n",
       "      <th>6</th>\n",
       "      <td>MQ</td>\n",
       "      <td>428</td>\n",
       "      <td>American Eagle Airlines Inc.</td>\n",
       "    </tr>\n",
       "    <tr>\n",
       "      <th>7</th>\n",
       "      <td>B6</td>\n",
       "      <td>341</td>\n",
       "      <td>JetBlue Airways</td>\n",
       "    </tr>\n",
       "    <tr>\n",
       "      <th>8</th>\n",
       "      <td>US</td>\n",
       "      <td>340</td>\n",
       "      <td>US Airways Inc.</td>\n",
       "    </tr>\n",
       "    <tr>\n",
       "      <th>9</th>\n",
       "      <td>F9</td>\n",
       "      <td>333</td>\n",
       "      <td>Frontier Airlines Inc.</td>\n",
       "    </tr>\n",
       "    <tr>\n",
       "      <th>10</th>\n",
       "      <td>NK</td>\n",
       "      <td>316</td>\n",
       "      <td>Spirit Air Lines</td>\n",
       "    </tr>\n",
       "    <tr>\n",
       "      <th>11</th>\n",
       "      <td>AS</td>\n",
       "      <td>251</td>\n",
       "      <td>Alaska Airlines Inc.</td>\n",
       "    </tr>\n",
       "    <tr>\n",
       "      <th>12</th>\n",
       "      <td>VX</td>\n",
       "      <td>71</td>\n",
       "      <td>Virgin America</td>\n",
       "    </tr>\n",
       "    <tr>\n",
       "      <th>13</th>\n",
       "      <td>HA</td>\n",
       "      <td>56</td>\n",
       "      <td>Hawaiian Airlines Inc.</td>\n",
       "    </tr>\n",
       "  </tbody>\n",
       "</table>\n",
       "</div>"
      ],
      "text/plain": [
       "   IATA_CODE  ROUTE                       AIRLINE\n",
       "0         EV   1381   Atlantic Southeast Airlines\n",
       "1         WN   1333        Southwest Airlines Co.\n",
       "2         OO   1322         Skywest Airlines Inc.\n",
       "3         DL    963          Delta Air Lines Inc.\n",
       "4         AA    707        American Airlines Inc.\n",
       "5         UA    702         United Air Lines Inc.\n",
       "6         MQ    428  American Eagle Airlines Inc.\n",
       "7         B6    341               JetBlue Airways\n",
       "8         US    340               US Airways Inc.\n",
       "9         F9    333        Frontier Airlines Inc.\n",
       "10        NK    316              Spirit Air Lines\n",
       "11        AS    251          Alaska Airlines Inc.\n",
       "12        VX     71                Virgin America\n",
       "13        HA     56        Hawaiian Airlines Inc."
      ]
     },
     "execution_count": 38,
     "metadata": {},
     "output_type": "execute_result"
    }
   ],
   "source": [
    "tmp.merge(df_air, on='IATA_CODE')"
   ]
  },
  {
   "cell_type": "markdown",
   "metadata": {
    "id": "k9oIUWohbJQG"
   },
   "source": [
    "Теперь поработаем с аэропортами и изобразим на георгрфической карты все маршруты одной из компаний"
   ]
  },
  {
   "cell_type": "markdown",
   "metadata": {
    "id": "Ouwmoc5wbJQG"
   },
   "source": [
    "Считаем таблицу аэропортов"
   ]
  },
  {
   "cell_type": "code",
   "execution_count": 39,
   "metadata": {
    "id": "FrGH0pQ1bJQG",
    "outputId": "b0e7d525-8563-4268-a38c-b188362f6a1b"
   },
   "outputs": [
    {
     "data": {
      "text/html": [
       "<div>\n",
       "<style scoped>\n",
       "    .dataframe tbody tr th:only-of-type {\n",
       "        vertical-align: middle;\n",
       "    }\n",
       "\n",
       "    .dataframe tbody tr th {\n",
       "        vertical-align: top;\n",
       "    }\n",
       "\n",
       "    .dataframe thead th {\n",
       "        text-align: right;\n",
       "    }\n",
       "</style>\n",
       "<table border=\"1\" class=\"dataframe\">\n",
       "  <thead>\n",
       "    <tr style=\"text-align: right;\">\n",
       "      <th></th>\n",
       "      <th>IATA_CODE</th>\n",
       "      <th>AIRPORT</th>\n",
       "      <th>CITY</th>\n",
       "      <th>STATE</th>\n",
       "      <th>COUNTRY</th>\n",
       "      <th>LATITUDE</th>\n",
       "      <th>LONGITUDE</th>\n",
       "    </tr>\n",
       "  </thead>\n",
       "  <tbody>\n",
       "    <tr>\n",
       "      <th>0</th>\n",
       "      <td>ABE</td>\n",
       "      <td>Lehigh Valley International Airport</td>\n",
       "      <td>Allentown</td>\n",
       "      <td>PA</td>\n",
       "      <td>USA</td>\n",
       "      <td>40.65236</td>\n",
       "      <td>-75.44040</td>\n",
       "    </tr>\n",
       "    <tr>\n",
       "      <th>1</th>\n",
       "      <td>ABI</td>\n",
       "      <td>Abilene Regional Airport</td>\n",
       "      <td>Abilene</td>\n",
       "      <td>TX</td>\n",
       "      <td>USA</td>\n",
       "      <td>32.41132</td>\n",
       "      <td>-99.68190</td>\n",
       "    </tr>\n",
       "    <tr>\n",
       "      <th>2</th>\n",
       "      <td>ABQ</td>\n",
       "      <td>Albuquerque International Sunport</td>\n",
       "      <td>Albuquerque</td>\n",
       "      <td>NM</td>\n",
       "      <td>USA</td>\n",
       "      <td>35.04022</td>\n",
       "      <td>-106.60919</td>\n",
       "    </tr>\n",
       "    <tr>\n",
       "      <th>3</th>\n",
       "      <td>ABR</td>\n",
       "      <td>Aberdeen Regional Airport</td>\n",
       "      <td>Aberdeen</td>\n",
       "      <td>SD</td>\n",
       "      <td>USA</td>\n",
       "      <td>45.44906</td>\n",
       "      <td>-98.42183</td>\n",
       "    </tr>\n",
       "    <tr>\n",
       "      <th>4</th>\n",
       "      <td>ABY</td>\n",
       "      <td>Southwest Georgia Regional Airport</td>\n",
       "      <td>Albany</td>\n",
       "      <td>GA</td>\n",
       "      <td>USA</td>\n",
       "      <td>31.53552</td>\n",
       "      <td>-84.19447</td>\n",
       "    </tr>\n",
       "  </tbody>\n",
       "</table>\n",
       "</div>"
      ],
      "text/plain": [
       "  IATA_CODE                              AIRPORT         CITY STATE COUNTRY  \\\n",
       "0       ABE  Lehigh Valley International Airport    Allentown    PA     USA   \n",
       "1       ABI             Abilene Regional Airport      Abilene    TX     USA   \n",
       "2       ABQ    Albuquerque International Sunport  Albuquerque    NM     USA   \n",
       "3       ABR            Aberdeen Regional Airport     Aberdeen    SD     USA   \n",
       "4       ABY   Southwest Georgia Regional Airport       Albany    GA     USA   \n",
       "\n",
       "   LATITUDE  LONGITUDE  \n",
       "0  40.65236  -75.44040  \n",
       "1  32.41132  -99.68190  \n",
       "2  35.04022 -106.60919  \n",
       "3  45.44906  -98.42183  \n",
       "4  31.53552  -84.19447  "
      ]
     },
     "execution_count": 39,
     "metadata": {},
     "output_type": "execute_result"
    }
   ],
   "source": [
    "df_arp = pd.read_csv('airports.csv')\n",
    "df_arp.head()"
   ]
  },
  {
   "cell_type": "markdown",
   "metadata": {
    "id": "dQf2uo2AbJQG"
   },
   "source": [
    "Нам потребуется библиотека basemap. Скорее всего, ее придется установить с помощью команды pip install basemap в терминале или в ячейке ноутбука"
   ]
  },
  {
   "cell_type": "code",
   "execution_count": 40,
   "metadata": {
    "id": "NWL0Qek1bJQG"
   },
   "outputs": [
    {
     "name": "stdout",
     "output_type": "stream",
     "text": [
      "Collecting basemap\n",
      "  Using cached basemap-1.3.6.zip (156 kB)\n",
      "  Installing build dependencies ... \u001b[?25ldone\n",
      "\u001b[?25h  Getting requirements to build wheel ... \u001b[?25ldone\n",
      "\u001b[?25h    Preparing wheel metadata ... \u001b[?25ldone\n",
      "\u001b[?25hCollecting basemap-data<1.4,>=1.3.2\n",
      "  Using cached basemap_data-1.3.2-py2.py3-none-any.whl (30.5 MB)\n",
      "Requirement already satisfied: pyproj<3.5.0,>=1.9.3 in ./opt/anaconda3/lib/python3.9/site-packages (from basemap) (3.4.0)\n",
      "Requirement already satisfied: numpy<1.24,>=1.22 in ./opt/anaconda3/lib/python3.9/site-packages (from basemap) (1.22.4)\n",
      "Collecting pyshp<2.4,>=1.2\n",
      "  Using cached pyshp-2.3.1-py2.py3-none-any.whl (46 kB)\n",
      "Requirement already satisfied: matplotlib<3.7,>=1.5 in ./opt/anaconda3/lib/python3.9/site-packages (from basemap) (3.5.1)\n",
      "Requirement already satisfied: python-dateutil>=2.7 in ./opt/anaconda3/lib/python3.9/site-packages (from matplotlib<3.7,>=1.5->basemap) (2.8.2)\n",
      "Requirement already satisfied: pillow>=6.2.0 in ./opt/anaconda3/lib/python3.9/site-packages (from matplotlib<3.7,>=1.5->basemap) (9.0.1)\n",
      "Requirement already satisfied: fonttools>=4.22.0 in ./opt/anaconda3/lib/python3.9/site-packages (from matplotlib<3.7,>=1.5->basemap) (4.25.0)\n",
      "Requirement already satisfied: packaging>=20.0 in ./opt/anaconda3/lib/python3.9/site-packages (from matplotlib<3.7,>=1.5->basemap) (21.3)\n",
      "Requirement already satisfied: pyparsing>=2.2.1 in ./opt/anaconda3/lib/python3.9/site-packages (from matplotlib<3.7,>=1.5->basemap) (3.0.4)\n",
      "Requirement already satisfied: kiwisolver>=1.0.1 in ./opt/anaconda3/lib/python3.9/site-packages (from matplotlib<3.7,>=1.5->basemap) (1.3.2)\n",
      "Requirement already satisfied: cycler>=0.10 in ./opt/anaconda3/lib/python3.9/site-packages (from matplotlib<3.7,>=1.5->basemap) (0.11.0)\n",
      "Requirement already satisfied: certifi in ./opt/anaconda3/lib/python3.9/site-packages (from pyproj<3.5.0,>=1.9.3->basemap) (2021.10.8)\n",
      "Requirement already satisfied: six>=1.5 in ./opt/anaconda3/lib/python3.9/site-packages (from python-dateutil>=2.7->matplotlib<3.7,>=1.5->basemap) (1.16.0)\n",
      "Building wheels for collected packages: basemap\n",
      "  Building wheel for basemap (PEP 517) ... \u001b[?25lerror\n",
      "\u001b[31m  ERROR: Command errored out with exit status 1:\n",
      "   command: /Users/dmitrijkudrasov/opt/anaconda3/bin/python /Users/dmitrijkudrasov/opt/anaconda3/lib/python3.9/site-packages/pip/_vendor/pep517/in_process/_in_process.py build_wheel /var/folders/wx/_29jf6715_v4vhw4nn5fqcpw0000gn/T/tmpac2gz0rz\n",
      "       cwd: /private/var/folders/wx/_29jf6715_v4vhw4nn5fqcpw0000gn/T/pip-install-iqxjz58c/basemap_0017803e97454c0fa084abcd01c2d254\n",
      "  Complete output (35 lines):\n",
      "  <string>:58: RuntimeWarning: Cannot find GEOS library and/or headers in standard locations ('/Users/dmitrijkudrasov/local', '/Users/dmitrijkudrasov', '/usr/local', '/usr', '/opt/local', '/opt', '/sw'). Please install the corresponding packages using your software management system or set the environment variable GEOS_DIR to point to the location where GEOS is installed (for example, if 'geos_c.h' is in '/usr/local/include' and 'libgeos_c' is in '/usr/local/lib', then you need to set GEOS_DIR to '/usr/local'\n",
      "  /private/var/folders/wx/_29jf6715_v4vhw4nn5fqcpw0000gn/T/pip-build-env-iyguyjn8/overlay/lib/python3.9/site-packages/setuptools/dist.py:285: SetuptoolsDeprecationWarning: The namespace_packages parameter is deprecated, consider using implicit namespaces instead (PEP 420).\n",
      "    warnings.warn(msg, SetuptoolsDeprecationWarning)\n",
      "  running bdist_wheel\n",
      "  running build\n",
      "  running build_py\n",
      "  creating build\n",
      "  creating build/lib.macosx-10.9-x86_64-cpython-39\n",
      "  creating build/lib.macosx-10.9-x86_64-cpython-39/mpl_toolkits\n",
      "  copying src/mpl_toolkits/__init__.py -> build/lib.macosx-10.9-x86_64-cpython-39/mpl_toolkits\n",
      "  creating build/lib.macosx-10.9-x86_64-cpython-39/mpl_toolkits/basemap\n",
      "  copying src/mpl_toolkits/basemap/cm.py -> build/lib.macosx-10.9-x86_64-cpython-39/mpl_toolkits/basemap\n",
      "  copying src/mpl_toolkits/basemap/__init__.py -> build/lib.macosx-10.9-x86_64-cpython-39/mpl_toolkits/basemap\n",
      "  copying src/mpl_toolkits/basemap/test.py -> build/lib.macosx-10.9-x86_64-cpython-39/mpl_toolkits/basemap\n",
      "  copying src/mpl_toolkits/basemap/diagnostic.py -> build/lib.macosx-10.9-x86_64-cpython-39/mpl_toolkits/basemap\n",
      "  copying src/mpl_toolkits/basemap/proj.py -> build/lib.macosx-10.9-x86_64-cpython-39/mpl_toolkits/basemap\n",
      "  copying src/mpl_toolkits/basemap/solar.py -> build/lib.macosx-10.9-x86_64-cpython-39/mpl_toolkits/basemap\n",
      "  running build_ext\n",
      "  cythoning src/_geoslib.pyx to src/_geoslib.c\n",
      "  building '_geoslib' extension\n",
      "  creating build/temp.macosx-10.9-x86_64-cpython-39\n",
      "  creating build/temp.macosx-10.9-x86_64-cpython-39/src\n",
      "  clang -Wno-unused-result -Wsign-compare -Wunreachable-code -DNDEBUG -fwrapv -O2 -Wall -fPIC -O2 -isystem /Users/dmitrijkudrasov/opt/anaconda3/include -arch x86_64 -I/Users/dmitrijkudrasov/opt/anaconda3/include -fPIC -O2 -isystem /Users/dmitrijkudrasov/opt/anaconda3/include -arch x86_64 -I/private/var/folders/wx/_29jf6715_v4vhw4nn5fqcpw0000gn/T/pip-build-env-iyguyjn8/overlay/lib/python3.9/site-packages/numpy/core/include -I/Users/dmitrijkudrasov/opt/anaconda3/include/python3.9 -c src/_geoslib.c -o build/temp.macosx-10.9-x86_64-cpython-39/src/_geoslib.o\n",
      "  In file included from src/_geoslib.c:744:\n",
      "  In file included from /private/var/folders/wx/_29jf6715_v4vhw4nn5fqcpw0000gn/T/pip-build-env-iyguyjn8/overlay/lib/python3.9/site-packages/numpy/core/include/numpy/arrayobject.h:4:\n",
      "  In file included from /private/var/folders/wx/_29jf6715_v4vhw4nn5fqcpw0000gn/T/pip-build-env-iyguyjn8/overlay/lib/python3.9/site-packages/numpy/core/include/numpy/ndarrayobject.h:12:\n",
      "  In file included from /private/var/folders/wx/_29jf6715_v4vhw4nn5fqcpw0000gn/T/pip-build-env-iyguyjn8/overlay/lib/python3.9/site-packages/numpy/core/include/numpy/ndarraytypes.h:1969:\n",
      "  /private/var/folders/wx/_29jf6715_v4vhw4nn5fqcpw0000gn/T/pip-build-env-iyguyjn8/overlay/lib/python3.9/site-packages/numpy/core/include/numpy/npy_1_7_deprecated_api.h:17:2: warning: \"Using deprecated NumPy API, disable it with \"          \"#define NPY_NO_DEPRECATED_API NPY_1_7_API_VERSION\" [-W#warnings]\n",
      "  #warning \"Using deprecated NumPy API, disable it with \" \\\n",
      "   ^\n",
      "  src/_geoslib.c:745:10: fatal error: 'geos_c.h' file not found\n",
      "  #include \"geos_c.h\"\n",
      "           ^~~~~~~~~~\n",
      "  1 warning and 1 error generated.\n",
      "  error: command '/usr/bin/clang' failed with exit code 1\n",
      "  ----------------------------------------\u001b[0m\n",
      "\u001b[31m  ERROR: Failed building wheel for basemap\u001b[0m\n",
      "\u001b[?25hFailed to build basemap\n",
      "\u001b[31mERROR: Could not build wheels for basemap which use PEP 517 and cannot be installed directly\u001b[0m\n"
     ]
    }
   ],
   "source": [
    "!pip install basemap"
   ]
  },
  {
   "cell_type": "markdown",
   "metadata": {
    "id": "w_Au7fmjbJQG"
   },
   "source": [
    "Отрисуем карту"
   ]
  },
  {
   "cell_type": "code",
   "execution_count": 41,
   "metadata": {
    "id": "37uNFFBNbJQG",
    "outputId": "30415d6f-7416-49f5-bf56-67bac371f9de"
   },
   "outputs": [
    {
     "ename": "ModuleNotFoundError",
     "evalue": "No module named 'mpl_toolkits.basemap'",
     "output_type": "error",
     "traceback": [
      "\u001b[0;31m---------------------------------------------------------------------------\u001b[0m",
      "\u001b[0;31mModuleNotFoundError\u001b[0m                       Traceback (most recent call last)",
      "Input \u001b[0;32mIn [41]\u001b[0m, in \u001b[0;36m<cell line: 1>\u001b[0;34m()\u001b[0m\n\u001b[0;32m----> 1\u001b[0m \u001b[38;5;28;01mfrom\u001b[39;00m \u001b[38;5;21;01mmpl_toolkits\u001b[39;00m\u001b[38;5;21;01m.\u001b[39;00m\u001b[38;5;21;01mbasemap\u001b[39;00m \u001b[38;5;28;01mimport\u001b[39;00m Basemap\n\u001b[1;32m      3\u001b[0m fig \u001b[38;5;241m=\u001b[39m plt\u001b[38;5;241m.\u001b[39mfigure(figsize\u001b[38;5;241m=\u001b[39m(\u001b[38;5;241m15\u001b[39m, \u001b[38;5;241m10\u001b[39m))\n\u001b[1;32m      4\u001b[0m land \u001b[38;5;241m=\u001b[39m Basemap(projection\u001b[38;5;241m=\u001b[39m\u001b[38;5;124m'\u001b[39m\u001b[38;5;124mlcc\u001b[39m\u001b[38;5;124m'\u001b[39m, resolution\u001b[38;5;241m=\u001b[39m\u001b[38;5;28;01mNone\u001b[39;00m,\n\u001b[1;32m      5\u001b[0m                width\u001b[38;5;241m=\u001b[39m\u001b[38;5;241m15E6\u001b[39m, height\u001b[38;5;241m=\u001b[39m\u001b[38;5;241m8E6\u001b[39m, \n\u001b[1;32m      6\u001b[0m                lat_0\u001b[38;5;241m=\u001b[39m\u001b[38;5;241m45\u001b[39m, lon_0\u001b[38;5;241m=\u001b[39m\u001b[38;5;241m-\u001b[39m\u001b[38;5;241m100\u001b[39m,)\n",
      "\u001b[0;31mModuleNotFoundError\u001b[0m: No module named 'mpl_toolkits.basemap'"
     ]
    }
   ],
   "source": [
    "from mpl_toolkits.basemap import Basemap\n",
    "\n",
    "fig = plt.figure(figsize=(15, 10))\n",
    "land = Basemap(projection='lcc', resolution=None,\n",
    "               width=15E6, height=8E6, \n",
    "               lat_0=45, lon_0=-100,)\n",
    "land.etopo(scale=0.5, alpha=0.9)\n",
    "plt.show()"
   ]
  },
  {
   "cell_type": "markdown",
   "metadata": {
    "id": "zMXSafF-bJQG"
   },
   "source": [
    "Теперь выберем одного перевозчика и все его маршруты:"
   ]
  },
  {
   "cell_type": "code",
   "execution_count": null,
   "metadata": {
    "id": "RF-yfpLGbJQG",
    "outputId": "0e82e9e9-b82a-4c63-ee2f-beba11f459b2"
   },
   "outputs": [],
   "source": [
    "routes = df.loc[df.AIRLINE == 'AA', ['ORIGIN_AIRPORT', 'DESTINATION_AIRPORT']].drop_duplicates()\n",
    "routes"
   ]
  },
  {
   "cell_type": "markdown",
   "metadata": {
    "id": "BEaapEEgbJQH"
   },
   "source": [
    "Нам нужно создать два массива с координатами городом вылета и приземления"
   ]
  },
  {
   "cell_type": "code",
   "execution_count": null,
   "metadata": {
    "id": "7p25VIV8bJQH",
    "outputId": "bda68886-35f9-4f27-b1bf-f7ce5f2eee47"
   },
   "outputs": [],
   "source": [
    "orig = routes[['ORIGIN_AIRPORT']].merge(df_arp,\n",
    "                                        left_on='ORIGIN_AIRPORT',\n",
    "                                        right_on='IATA_CODE',\n",
    "                                        how='left')\n",
    "dest = routes[['DESTINATION_AIRPORT']].merge(df_arp,\n",
    "                                             left_on='DESTINATION_AIRPORT',\n",
    "                                             right_on='IATA_CODE',\n",
    "                                             how='left')\n",
    "orig"
   ]
  },
  {
   "cell_type": "markdown",
   "metadata": {
    "id": "UsRPO6ZPbJQH"
   },
   "source": [
    "Чтобы нанести точку с заданной широтой/долготой на карту, георгафические координаты нужно перевести в x, y. Технически, это делается так: \n",
    "```python\n",
    "x, y = land(long, lat)```"
   ]
  },
  {
   "cell_type": "markdown",
   "metadata": {
    "id": "yUCT3w0pbJQH"
   },
   "source": [
    "Практически, это можно реализовать несколькоми способами. Ниже показано два варианта:"
   ]
  },
  {
   "cell_type": "code",
   "execution_count": null,
   "metadata": {
    "id": "_Aez8zJWbJQH",
    "outputId": "1bc3b51d-4704-47fc-ad38-4cfa649f7ac2"
   },
   "outputs": [],
   "source": [
    "orig_xy = orig[['LONGITUDE', 'LATITUDE']].apply(lambda x: land(*x), axis=1).values\n",
    "orig_xy = np.stack(orig_xy) #делаем из списка пар координат двумерный массив:\n",
    "orig_xy"
   ]
  },
  {
   "cell_type": "markdown",
   "metadata": {
    "id": "CO1dhL3wbJQH"
   },
   "source": [
    "А можно было сделать так"
   ]
  },
  {
   "cell_type": "code",
   "execution_count": null,
   "metadata": {
    "id": "ASSNFIfrbJQH",
    "outputId": "ec44f368-c821-4109-a52d-9b8589c2338d"
   },
   "outputs": [],
   "source": [
    "dest_xy = np.array(land(dest['LONGITUDE'], dest['LATITUDE'])).T\n",
    "dest_xy"
   ]
  },
  {
   "cell_type": "markdown",
   "metadata": {
    "id": "WjjDWlo1bJQH"
   },
   "source": [
    "Отрисуем линии на карте:"
   ]
  },
  {
   "cell_type": "code",
   "execution_count": null,
   "metadata": {
    "id": "oNqG0UjBbJQH",
    "outputId": "277c791a-68ca-44e9-8906-d6aad66efc5f"
   },
   "outputs": [],
   "source": [
    "fig = plt.figure(figsize=(15, 10))\n",
    "m = Basemap(projection='lcc', resolution=None,\n",
    "            width=15E6, height=8E6, \n",
    "            lat_0=45, lon_0=-100,)\n",
    "m.etopo(scale=0.5, alpha=0.9)\n",
    "\n",
    "for a, b in zip(orig_xy, dest_xy):\n",
    "    plt.plot([a[0], b[0]], [a[1], b[1]], c='k', lw=1)\n",
    "plt.show()"
   ]
  },
  {
   "cell_type": "markdown",
   "metadata": {
    "id": "CXlHxoCaJxoa"
   },
   "source": [
    "Домашнее задание - подготовить отчет для министерства транспорта, раскрывающий характер и особенности задержек авиарейсов. Отчет должен помочь увидеть проблемные точки и способствовать принятию решений. Поэтому стремитесь не констатировать общие факты, а показывать проблемы. Например, сам по себе факт \"средняя задержка вылета составляет 15 минут\" не является ни показательным. Напротив, график, показывающий, что по понедельникам опоздания возрастают в три раза по сравнению с остальными днями, показывает проблему.\n",
    "\n",
    "Отчет должен быть оформлен в виде ноутбука с четкой структурой. Вначале в ячейке Markdown идет краткое описание исследуемого вопроса (что будем изучать), затем код и все его выводы (таблицы, графики, величины), после этого снова в ячейке Markdown ваш краткий вывод из полученного результата.\n",
    "\n",
    "В отчете должно быть не менее 10 результатов, подтвержденных графиками. Для разнообразия материала используйте различные типы диаграмм. Все графики должны быть снабжены необходимыми подписями (обозначения осей, заголовок, легенда цветовая схема).\n",
    "\n",
    "Для решения задач используйте методы библиотеки pandas."
   ]
  },
  {
   "cell_type": "markdown",
   "metadata": {},
   "source": [
    "# ДЗ"
   ]
  },
  {
   "cell_type": "markdown",
   "metadata": {},
   "source": [
    "Посмотрим от чего может зависеть время задержки рейсов, в данной таблице есть некоторые данные, которые могут нам помочь в этом"
   ]
  },
  {
   "cell_type": "markdown",
   "metadata": {},
   "source": [
    "Сначала посмотрим топ 10 аэропортов, которые давали больше всего задержек в процентном соотношении"
   ]
  },
  {
   "cell_type": "code",
   "execution_count": 52,
   "metadata": {},
   "outputs": [
    {
     "data": {
      "text/html": [
       "<div>\n",
       "<style scoped>\n",
       "    .dataframe tbody tr th:only-of-type {\n",
       "        vertical-align: middle;\n",
       "    }\n",
       "\n",
       "    .dataframe tbody tr th {\n",
       "        vertical-align: top;\n",
       "    }\n",
       "\n",
       "    .dataframe thead th {\n",
       "        text-align: right;\n",
       "    }\n",
       "</style>\n",
       "<table border=\"1\" class=\"dataframe\">\n",
       "  <thead>\n",
       "    <tr style=\"text-align: right;\">\n",
       "      <th></th>\n",
       "      <th>count</th>\n",
       "      <th>Delays perc</th>\n",
       "    </tr>\n",
       "    <tr>\n",
       "      <th>ORIGIN_AIRPORT</th>\n",
       "      <th></th>\n",
       "      <th></th>\n",
       "    </tr>\n",
       "  </thead>\n",
       "  <tbody>\n",
       "    <tr>\n",
       "      <th>ADK</th>\n",
       "      <td>89</td>\n",
       "      <td>0.696629</td>\n",
       "    </tr>\n",
       "    <tr>\n",
       "      <th>GUM</th>\n",
       "      <td>331</td>\n",
       "      <td>0.688822</td>\n",
       "    </tr>\n",
       "    <tr>\n",
       "      <th>GST</th>\n",
       "      <td>76</td>\n",
       "      <td>0.671053</td>\n",
       "    </tr>\n",
       "    <tr>\n",
       "      <th>ILG</th>\n",
       "      <td>95</td>\n",
       "      <td>0.663158</td>\n",
       "    </tr>\n",
       "    <tr>\n",
       "      <th>PPG</th>\n",
       "      <td>107</td>\n",
       "      <td>0.654206</td>\n",
       "    </tr>\n",
       "    <tr>\n",
       "      <th>DAL</th>\n",
       "      <td>58798</td>\n",
       "      <td>0.598762</td>\n",
       "    </tr>\n",
       "    <tr>\n",
       "      <th>MDW</th>\n",
       "      <td>78895</td>\n",
       "      <td>0.575195</td>\n",
       "    </tr>\n",
       "    <tr>\n",
       "      <th>BWI</th>\n",
       "      <td>84519</td>\n",
       "      <td>0.565766</td>\n",
       "    </tr>\n",
       "    <tr>\n",
       "      <th>HOU</th>\n",
       "      <td>51244</td>\n",
       "      <td>0.559031</td>\n",
       "    </tr>\n",
       "    <tr>\n",
       "      <th>AKN</th>\n",
       "      <td>63</td>\n",
       "      <td>0.555556</td>\n",
       "    </tr>\n",
       "  </tbody>\n",
       "</table>\n",
       "</div>"
      ],
      "text/plain": [
       "                count  Delays perc\n",
       "ORIGIN_AIRPORT                    \n",
       "ADK                89     0.696629\n",
       "GUM               331     0.688822\n",
       "GST                76     0.671053\n",
       "ILG                95     0.663158\n",
       "PPG               107     0.654206\n",
       "DAL             58798     0.598762\n",
       "MDW             78895     0.575195\n",
       "BWI             84519     0.565766\n",
       "HOU             51244     0.559031\n",
       "AKN                63     0.555556"
      ]
     },
     "execution_count": 52,
     "metadata": {},
     "output_type": "execute_result"
    }
   ],
   "source": [
    "A = df.groupby(\"ORIGIN_AIRPORT\").agg([\"count\"])[\"DATE\"]\n",
    "Arrival = df[[\"ORIGIN_AIRPORT\", \"ARRIVAL_DELAY\"]].loc[df[\"ARRIVAL_DELAY\"].astype(float) > 0].groupby(\"ORIGIN_AIRPORT\").agg([\"count\"])\n",
    "Departure = df[[\"ORIGIN_AIRPORT\", \"DEPARTURE_DELAY\"]].loc[df[\"DEPARTURE_DELAY\"].astype(float) > 0].groupby(\"ORIGIN_AIRPORT\").agg([\"count\"])\n",
    "ALL = Arrival[\"ARRIVAL_DELAY\"] + Departure[\"DEPARTURE_DELAY\"] - df[[\"ORIGIN_AIRPORT\", \"DEPARTURE_DELAY\", \"ARRIVAL_DELAY\"]].loc[df[\"DEPARTURE_DELAY\"].astype(float) > 0].loc[df[\"ARRIVAL_DELAY\"].astype(float) > 0].groupby(\"ORIGIN_AIRPORT\").agg([\"count\"])[\"DEPARTURE_DELAY\"]\n",
    "A[\"Delays perc\"] = np.array(ALL).reshape(-1,) / np.array(A[\"count\"])\n",
    "A = A.sort_values(by=('Delays perc'), ascending=False)\n",
    "A.head(10)"
   ]
  },
  {
   "cell_type": "markdown",
   "metadata": {},
   "source": [
    "Теперь топ 10 аэропортов, которые давали наименьшее количество задержек:"
   ]
  },
  {
   "cell_type": "code",
   "execution_count": 54,
   "metadata": {},
   "outputs": [
    {
     "data": {
      "text/html": [
       "<div>\n",
       "<style scoped>\n",
       "    .dataframe tbody tr th:only-of-type {\n",
       "        vertical-align: middle;\n",
       "    }\n",
       "\n",
       "    .dataframe tbody tr th {\n",
       "        vertical-align: top;\n",
       "    }\n",
       "\n",
       "    .dataframe thead th {\n",
       "        text-align: right;\n",
       "    }\n",
       "</style>\n",
       "<table border=\"1\" class=\"dataframe\">\n",
       "  <thead>\n",
       "    <tr style=\"text-align: right;\">\n",
       "      <th></th>\n",
       "      <th>count</th>\n",
       "      <th>Delays perc</th>\n",
       "    </tr>\n",
       "    <tr>\n",
       "      <th>ORIGIN_AIRPORT</th>\n",
       "      <th></th>\n",
       "      <th></th>\n",
       "    </tr>\n",
       "  </thead>\n",
       "  <tbody>\n",
       "    <tr>\n",
       "      <th>CNY</th>\n",
       "      <td>205</td>\n",
       "      <td>0.058537</td>\n",
       "    </tr>\n",
       "    <tr>\n",
       "      <th>VEL</th>\n",
       "      <td>200</td>\n",
       "      <td>0.125000</td>\n",
       "    </tr>\n",
       "    <tr>\n",
       "      <th>LWS</th>\n",
       "      <td>588</td>\n",
       "      <td>0.185374</td>\n",
       "    </tr>\n",
       "    <tr>\n",
       "      <th>BTM</th>\n",
       "      <td>647</td>\n",
       "      <td>0.191654</td>\n",
       "    </tr>\n",
       "    <tr>\n",
       "      <th>DIK</th>\n",
       "      <td>921</td>\n",
       "      <td>0.224756</td>\n",
       "    </tr>\n",
       "    <tr>\n",
       "      <th>EKO</th>\n",
       "      <td>517</td>\n",
       "      <td>0.230174</td>\n",
       "    </tr>\n",
       "    <tr>\n",
       "      <th>ESC</th>\n",
       "      <td>556</td>\n",
       "      <td>0.242806</td>\n",
       "    </tr>\n",
       "    <tr>\n",
       "      <th>YAK</th>\n",
       "      <td>650</td>\n",
       "      <td>0.255385</td>\n",
       "    </tr>\n",
       "    <tr>\n",
       "      <th>RKS</th>\n",
       "      <td>672</td>\n",
       "      <td>0.255952</td>\n",
       "    </tr>\n",
       "    <tr>\n",
       "      <th>BIL</th>\n",
       "      <td>2852</td>\n",
       "      <td>0.259818</td>\n",
       "    </tr>\n",
       "  </tbody>\n",
       "</table>\n",
       "</div>"
      ],
      "text/plain": [
       "                count  Delays perc\n",
       "ORIGIN_AIRPORT                    \n",
       "CNY               205     0.058537\n",
       "VEL               200     0.125000\n",
       "LWS               588     0.185374\n",
       "BTM               647     0.191654\n",
       "DIK               921     0.224756\n",
       "EKO               517     0.230174\n",
       "ESC               556     0.242806\n",
       "YAK               650     0.255385\n",
       "RKS               672     0.255952\n",
       "BIL              2852     0.259818"
      ]
     },
     "execution_count": 54,
     "metadata": {},
     "output_type": "execute_result"
    }
   ],
   "source": [
    "A = A.sort_values(by=('Delays perc'))\n",
    "A.head(10)"
   ]
  },
  {
   "cell_type": "markdown",
   "metadata": {},
   "source": [
    "Можем заметить, что наибольший процент задержек дают аэропорты, находящиеся на большом удалении от основной территории США, это аэропорты Аляски, Гуама и Гавайев"
   ]
  },
  {
   "cell_type": "markdown",
   "metadata": {},
   "source": [
    "В свою очередь наименьший процент задержек дают аэропорты регионального значения внутри США"
   ]
  },
  {
   "cell_type": "code",
   "execution_count": 71,
   "metadata": {},
   "outputs": [
    {
     "data": {
      "text/html": [
       "<div>\n",
       "<style scoped>\n",
       "    .dataframe tbody tr th:only-of-type {\n",
       "        vertical-align: middle;\n",
       "    }\n",
       "\n",
       "    .dataframe tbody tr th {\n",
       "        vertical-align: top;\n",
       "    }\n",
       "\n",
       "    .dataframe thead th {\n",
       "        text-align: right;\n",
       "    }\n",
       "</style>\n",
       "<table border=\"1\" class=\"dataframe\">\n",
       "  <thead>\n",
       "    <tr style=\"text-align: right;\">\n",
       "      <th></th>\n",
       "      <th>count</th>\n",
       "      <th>Delays perc</th>\n",
       "    </tr>\n",
       "    <tr>\n",
       "      <th>DESTINATION_AIRPORT</th>\n",
       "      <th></th>\n",
       "      <th></th>\n",
       "    </tr>\n",
       "  </thead>\n",
       "  <tbody>\n",
       "    <tr>\n",
       "      <th>GUM</th>\n",
       "      <td>331</td>\n",
       "      <td>0.800604</td>\n",
       "    </tr>\n",
       "    <tr>\n",
       "      <th>STC</th>\n",
       "      <td>77</td>\n",
       "      <td>0.701299</td>\n",
       "    </tr>\n",
       "    <tr>\n",
       "      <th>PBG</th>\n",
       "      <td>281</td>\n",
       "      <td>0.654804</td>\n",
       "    </tr>\n",
       "    <tr>\n",
       "      <th>BQN</th>\n",
       "      <td>1330</td>\n",
       "      <td>0.642857</td>\n",
       "    </tr>\n",
       "    <tr>\n",
       "      <th>PSE</th>\n",
       "      <td>741</td>\n",
       "      <td>0.623482</td>\n",
       "    </tr>\n",
       "    <tr>\n",
       "      <th>ASE</th>\n",
       "      <td>3274</td>\n",
       "      <td>0.618204</td>\n",
       "    </tr>\n",
       "    <tr>\n",
       "      <th>CDC</th>\n",
       "      <td>572</td>\n",
       "      <td>0.592657</td>\n",
       "    </tr>\n",
       "    <tr>\n",
       "      <th>WYS</th>\n",
       "      <td>208</td>\n",
       "      <td>0.586538</td>\n",
       "    </tr>\n",
       "    <tr>\n",
       "      <th>ILG</th>\n",
       "      <td>95</td>\n",
       "      <td>0.568421</td>\n",
       "    </tr>\n",
       "    <tr>\n",
       "      <th>OTH</th>\n",
       "      <td>267</td>\n",
       "      <td>0.561798</td>\n",
       "    </tr>\n",
       "  </tbody>\n",
       "</table>\n",
       "</div>"
      ],
      "text/plain": [
       "                     count  Delays perc\n",
       "DESTINATION_AIRPORT                    \n",
       "GUM                    331     0.800604\n",
       "STC                     77     0.701299\n",
       "PBG                    281     0.654804\n",
       "BQN                   1330     0.642857\n",
       "PSE                    741     0.623482\n",
       "ASE                   3274     0.618204\n",
       "CDC                    572     0.592657\n",
       "WYS                    208     0.586538\n",
       "ILG                     95     0.568421\n",
       "OTH                    267     0.561798"
      ]
     },
     "execution_count": 71,
     "metadata": {},
     "output_type": "execute_result"
    }
   ],
   "source": [
    "count = df.groupby(\"DESTINATION_AIRPORT\").agg([\"count\"])[\"DATE\"]\n",
    "arr_delays = df[[\"DESTINATION_AIRPORT\", \"ARRIVAL_DELAY\"]].loc[df[\"ARRIVAL_DELAY\"].astype(float) > 0].groupby(\"DESTINATION_AIRPORT\").agg([\"count\"])\n",
    "dep_delays = df[[\"DESTINATION_AIRPORT\", \"DEPARTURE_DELAY\"]].loc[df[\"DEPARTURE_DELAY\"].astype(float) > 0].groupby(\"DESTINATION_AIRPORT\").agg([\"count\"])\n",
    "any_delays = arr_delays[\"ARRIVAL_DELAY\"] + dep_delays[\"DEPARTURE_DELAY\"] - df[[\"DESTINATION_AIRPORT\", \"DEPARTURE_DELAY\", \"ARRIVAL_DELAY\"]].loc[df[\"DEPARTURE_DELAY\"].astype(float) > 0].loc[df[\"ARRIVAL_DELAY\"].astype(float) > 0].groupby(\"DESTINATION_AIRPORT\").agg([\"count\"])[\"DEPARTURE_DELAY\"]\n",
    "count[\"Delays perc\"] = np.array(any_delays).reshape(-1,) / np.array(count[\"count\"])\n",
    "count = count.sort_values(by=('Delays perc'), ascending=False)\n",
    "count.head(10)"
   ]
  },
  {
   "cell_type": "markdown",
   "metadata": {},
   "source": [
    "Во многом поэтому аэропорты прилета с самой большой задержкой - аэропорты нахоядщиеся на удалении"
   ]
  },
  {
   "cell_type": "code",
   "execution_count": 70,
   "metadata": {},
   "outputs": [
    {
     "data": {
      "text/html": [
       "<div>\n",
       "<style scoped>\n",
       "    .dataframe tbody tr th:only-of-type {\n",
       "        vertical-align: middle;\n",
       "    }\n",
       "\n",
       "    .dataframe tbody tr th {\n",
       "        vertical-align: top;\n",
       "    }\n",
       "\n",
       "    .dataframe thead th {\n",
       "        text-align: right;\n",
       "    }\n",
       "</style>\n",
       "<table border=\"1\" class=\"dataframe\">\n",
       "  <thead>\n",
       "    <tr style=\"text-align: right;\">\n",
       "      <th></th>\n",
       "      <th>count</th>\n",
       "      <th>Delays perc</th>\n",
       "    </tr>\n",
       "    <tr>\n",
       "      <th>DESTINATION_AIRPORT</th>\n",
       "      <th></th>\n",
       "      <th></th>\n",
       "    </tr>\n",
       "  </thead>\n",
       "  <tbody>\n",
       "    <tr>\n",
       "      <th>VEL</th>\n",
       "      <td>199</td>\n",
       "      <td>0.105528</td>\n",
       "    </tr>\n",
       "    <tr>\n",
       "      <th>CNY</th>\n",
       "      <td>205</td>\n",
       "      <td>0.175610</td>\n",
       "    </tr>\n",
       "    <tr>\n",
       "      <th>IMT</th>\n",
       "      <td>610</td>\n",
       "      <td>0.218033</td>\n",
       "    </tr>\n",
       "    <tr>\n",
       "      <th>LWS</th>\n",
       "      <td>587</td>\n",
       "      <td>0.223169</td>\n",
       "    </tr>\n",
       "    <tr>\n",
       "      <th>BRD</th>\n",
       "      <td>583</td>\n",
       "      <td>0.233276</td>\n",
       "    </tr>\n",
       "    <tr>\n",
       "      <th>DLG</th>\n",
       "      <td>77</td>\n",
       "      <td>0.233766</td>\n",
       "    </tr>\n",
       "    <tr>\n",
       "      <th>APN</th>\n",
       "      <td>551</td>\n",
       "      <td>0.254083</td>\n",
       "    </tr>\n",
       "    <tr>\n",
       "      <th>BJI</th>\n",
       "      <td>665</td>\n",
       "      <td>0.273684</td>\n",
       "    </tr>\n",
       "    <tr>\n",
       "      <th>BTM</th>\n",
       "      <td>646</td>\n",
       "      <td>0.277090</td>\n",
       "    </tr>\n",
       "    <tr>\n",
       "      <th>INL</th>\n",
       "      <td>568</td>\n",
       "      <td>0.278169</td>\n",
       "    </tr>\n",
       "  </tbody>\n",
       "</table>\n",
       "</div>"
      ],
      "text/plain": [
       "                     count  Delays perc\n",
       "DESTINATION_AIRPORT                    \n",
       "VEL                    199     0.105528\n",
       "CNY                    205     0.175610\n",
       "IMT                    610     0.218033\n",
       "LWS                    587     0.223169\n",
       "BRD                    583     0.233276\n",
       "DLG                     77     0.233766\n",
       "APN                    551     0.254083\n",
       "BJI                    665     0.273684\n",
       "BTM                    646     0.277090\n",
       "INL                    568     0.278169"
      ]
     },
     "execution_count": 70,
     "metadata": {},
     "output_type": "execute_result"
    }
   ],
   "source": [
    "count = count.sort_values(by=('Delays perc'))\n",
    "count.head(10)"
   ]
  },
  {
   "cell_type": "markdown",
   "metadata": {},
   "source": [
    "А аэропорты с самой маленькой - опять же региональные аэропорты внутри"
   ]
  },
  {
   "cell_type": "markdown",
   "metadata": {},
   "source": [
    "Наводит на мысль, что время задержки зависит от времени в полете"
   ]
  },
  {
   "cell_type": "markdown",
   "metadata": {},
   "source": [
    "Проверим эту гипотезу"
   ]
  },
  {
   "cell_type": "code",
   "execution_count": 76,
   "metadata": {},
   "outputs": [
    {
     "data": {
      "image/png": "[encoded data removed]",
      "text/plain": [
       "<Figure size 720x720 with 1 Axes>"
      ]
     },
     "metadata": {
      "needs_background": "light"
     },
     "output_type": "display_data"
    }
   ],
   "source": [
    "count = df.groupby(\"AIR_TIME\").agg([\"count\"])[\"DATE\"]\n",
    "arr_delays = df[[\"AIR_TIME\", \"ARRIVAL_DELAY\"]].loc[df[\"ARRIVAL_DELAY\"].astype(float) > 0].groupby(\"AIR_TIME\").agg([\"count\"])\n",
    "dep_delays = df[[\"AIR_TIME\", \"DEPARTURE_DELAY\"]].loc[df[\"DEPARTURE_DELAY\"].astype(float) > 0].groupby(\"AIR_TIME\").agg([\"count\"])\n",
    "any_delays = arr_delays[\"ARRIVAL_DELAY\"] + dep_delays[\"DEPARTURE_DELAY\"] - df[[\"AIR_TIME\", \"DEPARTURE_DELAY\", \"ARRIVAL_DELAY\"]].loc[df[\"DEPARTURE_DELAY\"].astype(float) > 0].loc[df[\"ARRIVAL_DELAY\"].astype(float) > 0].groupby(\"AIR_TIME\").agg([\"count\"])[\"DEPARTURE_DELAY\"]\n",
    "arr_prob = np.array(arr_delays[\"ARRIVAL_DELAY\"]).reshape(-1,)[:660] / np.array(count[\"count\"])[:660]\n",
    "dep_prob = np.array(dep_delays[\"DEPARTURE_DELAY\"]).reshape(-1,)[:660] / np.array(count[\"count\"])[:660]\n",
    "any_prob = np.array(any_delays).reshape(-1,)[:660] / np.array(count[\"count\"])[:660]\n",
    "arr_prob = arr_prob.reshape((66, 10)).mean(axis = 1)\n",
    "dep_prob = dep_prob.reshape((66, 10)).mean(axis = 1)\n",
    "any_prob = any_prob.reshape((66, 10)).mean(axis = 1)\n",
    "f, ax1 = plt.subplots(figsize = (10, 10))\n",
    "ax1.plot(arr_prob, label = \"arrival\", c = \"y\")\n",
    "ax1.plot(dep_prob, label = \"departure\", c = \"b\")\n",
    "ax1.plot(any_prob, label = \"any\", c = \"g\")\n",
    "ax1.set_title(\"AIR TIME/DELAY\")\n",
    "plt.show()"
   ]
  },
  {
   "cell_type": "markdown",
   "metadata": {},
   "source": [
    "Чем выше время - тем больше задержка, как и ожидалось."
   ]
  },
  {
   "cell_type": "code",
   "execution_count": 77,
   "metadata": {},
   "outputs": [
    {
     "data": {
      "text/html": [
       "<div>\n",
       "<style scoped>\n",
       "    .dataframe tbody tr th:only-of-type {\n",
       "        vertical-align: middle;\n",
       "    }\n",
       "\n",
       "    .dataframe tbody tr th {\n",
       "        vertical-align: top;\n",
       "    }\n",
       "\n",
       "    .dataframe thead th {\n",
       "        text-align: right;\n",
       "    }\n",
       "</style>\n",
       "<table border=\"1\" class=\"dataframe\">\n",
       "  <thead>\n",
       "    <tr style=\"text-align: right;\">\n",
       "      <th></th>\n",
       "      <th>count</th>\n",
       "      <th>Delays perc</th>\n",
       "    </tr>\n",
       "    <tr>\n",
       "      <th>AIRLINE</th>\n",
       "      <th></th>\n",
       "      <th></th>\n",
       "    </tr>\n",
       "  </thead>\n",
       "  <tbody>\n",
       "    <tr>\n",
       "      <th>NK</th>\n",
       "      <td>105198</td>\n",
       "      <td>0.578766</td>\n",
       "    </tr>\n",
       "    <tr>\n",
       "      <th>UA</th>\n",
       "      <td>463158</td>\n",
       "      <td>0.573778</td>\n",
       "    </tr>\n",
       "    <tr>\n",
       "      <th>F9</th>\n",
       "      <td>82142</td>\n",
       "      <td>0.533917</td>\n",
       "    </tr>\n",
       "    <tr>\n",
       "      <th>WN</th>\n",
       "      <td>1140890</td>\n",
       "      <td>0.525405</td>\n",
       "    </tr>\n",
       "    <tr>\n",
       "      <th>VX</th>\n",
       "      <td>55924</td>\n",
       "      <td>0.508065</td>\n",
       "    </tr>\n",
       "    <tr>\n",
       "      <th>B6</th>\n",
       "      <td>240906</td>\n",
       "      <td>0.487460</td>\n",
       "    </tr>\n",
       "    <tr>\n",
       "      <th>US</th>\n",
       "      <td>194586</td>\n",
       "      <td>0.473744</td>\n",
       "    </tr>\n",
       "    <tr>\n",
       "      <th>AA</th>\n",
       "      <td>638313</td>\n",
       "      <td>0.462040</td>\n",
       "    </tr>\n",
       "    <tr>\n",
       "      <th>MQ</th>\n",
       "      <td>257726</td>\n",
       "      <td>0.450560</td>\n",
       "    </tr>\n",
       "    <tr>\n",
       "      <th>EV</th>\n",
       "      <td>511186</td>\n",
       "      <td>0.443872</td>\n",
       "    </tr>\n",
       "  </tbody>\n",
       "</table>\n",
       "</div>"
      ],
      "text/plain": [
       "           count  Delays perc\n",
       "AIRLINE                      \n",
       "NK        105198     0.578766\n",
       "UA        463158     0.573778\n",
       "F9         82142     0.533917\n",
       "WN       1140890     0.525405\n",
       "VX         55924     0.508065\n",
       "B6        240906     0.487460\n",
       "US        194586     0.473744\n",
       "AA        638313     0.462040\n",
       "MQ        257726     0.450560\n",
       "EV        511186     0.443872"
      ]
     },
     "execution_count": 77,
     "metadata": {},
     "output_type": "execute_result"
    }
   ],
   "source": [
    "A = df.groupby(\"AIRLINE\").agg([\"count\"])[\"DATE\"]\n",
    "arr_delays = df[[\"AIRLINE\", \"ARRIVAL_DELAY\"]].loc[df[\"ARRIVAL_DELAY\"].astype(float) > 0].groupby(\"AIRLINE\").agg([\"count\"])\n",
    "dep_delays = df[[\"AIRLINE\", \"DEPARTURE_DELAY\"]].loc[df[\"DEPARTURE_DELAY\"].astype(float) > 0].groupby(\"AIRLINE\").agg([\"count\"])\n",
    "any_delays = arr_delays[\"ARRIVAL_DELAY\"] + dep_delays[\"DEPARTURE_DELAY\"] - df[[\"AIRLINE\", \"DEPARTURE_DELAY\", \"ARRIVAL_DELAY\"]].loc[df[\"DEPARTURE_DELAY\"].astype(float) > 0].loc[df[\"ARRIVAL_DELAY\"].astype(float) > 0].groupby(\"AIRLINE\").agg([\"count\"])[\"DEPARTURE_DELAY\"]\n",
    "A[\"Delays perc\"] = np.array(any_delays).reshape(-1,) / np.array(A[\"count\"])\n",
    "A = A.sort_values(by=('Delays perc'), ascending=False)\n",
    "A.head(10)"
   ]
  },
  {
   "cell_type": "markdown",
   "metadata": {},
   "source": [
    "10 самых злостных опаздунов - и все они крупные авиакомпании"
   ]
  },
  {
   "cell_type": "code",
   "execution_count": 78,
   "metadata": {},
   "outputs": [
    {
     "data": {
      "text/html": [
       "<div>\n",
       "<style scoped>\n",
       "    .dataframe tbody tr th:only-of-type {\n",
       "        vertical-align: middle;\n",
       "    }\n",
       "\n",
       "    .dataframe tbody tr th {\n",
       "        vertical-align: top;\n",
       "    }\n",
       "\n",
       "    .dataframe thead th {\n",
       "        text-align: right;\n",
       "    }\n",
       "</style>\n",
       "<table border=\"1\" class=\"dataframe\">\n",
       "  <thead>\n",
       "    <tr style=\"text-align: right;\">\n",
       "      <th></th>\n",
       "      <th>count</th>\n",
       "      <th>Delays perc</th>\n",
       "    </tr>\n",
       "    <tr>\n",
       "      <th>AIRLINE</th>\n",
       "      <th></th>\n",
       "      <th></th>\n",
       "    </tr>\n",
       "  </thead>\n",
       "  <tbody>\n",
       "    <tr>\n",
       "      <th>AS</th>\n",
       "      <td>157268</td>\n",
       "      <td>0.403464</td>\n",
       "    </tr>\n",
       "    <tr>\n",
       "      <th>DL</th>\n",
       "      <td>796418</td>\n",
       "      <td>0.417980</td>\n",
       "    </tr>\n",
       "    <tr>\n",
       "      <th>HA</th>\n",
       "      <td>69863</td>\n",
       "      <td>0.432203</td>\n",
       "    </tr>\n",
       "    <tr>\n",
       "      <th>OO</th>\n",
       "      <td>529394</td>\n",
       "      <td>0.443167</td>\n",
       "    </tr>\n",
       "    <tr>\n",
       "      <th>EV</th>\n",
       "      <td>511186</td>\n",
       "      <td>0.443872</td>\n",
       "    </tr>\n",
       "    <tr>\n",
       "      <th>MQ</th>\n",
       "      <td>257726</td>\n",
       "      <td>0.450560</td>\n",
       "    </tr>\n",
       "    <tr>\n",
       "      <th>AA</th>\n",
       "      <td>638313</td>\n",
       "      <td>0.462040</td>\n",
       "    </tr>\n",
       "    <tr>\n",
       "      <th>US</th>\n",
       "      <td>194586</td>\n",
       "      <td>0.473744</td>\n",
       "    </tr>\n",
       "    <tr>\n",
       "      <th>B6</th>\n",
       "      <td>240906</td>\n",
       "      <td>0.487460</td>\n",
       "    </tr>\n",
       "    <tr>\n",
       "      <th>VX</th>\n",
       "      <td>55924</td>\n",
       "      <td>0.508065</td>\n",
       "    </tr>\n",
       "  </tbody>\n",
       "</table>\n",
       "</div>"
      ],
      "text/plain": [
       "          count  Delays perc\n",
       "AIRLINE                     \n",
       "AS       157268     0.403464\n",
       "DL       796418     0.417980\n",
       "HA        69863     0.432203\n",
       "OO       529394     0.443167\n",
       "EV       511186     0.443872\n",
       "MQ       257726     0.450560\n",
       "AA       638313     0.462040\n",
       "US       194586     0.473744\n",
       "B6       240906     0.487460\n",
       "VX        55924     0.508065"
      ]
     },
     "execution_count": 78,
     "metadata": {},
     "output_type": "execute_result"
    }
   ],
   "source": [
    "A = A.sort_values(by=('Delays perc'))\n",
    "A.head(10)"
   ]
  },
  {
   "cell_type": "markdown",
   "metadata": {},
   "source": [
    "В свою очередь можно заметить, что те, кто мало опаздывают - в основном, опять же, авиакомпании из удаленных уголков США, что можно назвать немного парадоксальным выводом учитывая предыдущее предположение о времени в полете"
   ]
  },
  {
   "cell_type": "code",
   "execution_count": 84,
   "metadata": {},
   "outputs": [
    {
     "data": {
      "image/png": "[encoded data removed]",
      "text/plain": [
       "<Figure size 720x720 with 1 Axes>"
      ]
     },
     "metadata": {
      "needs_background": "light"
     },
     "output_type": "display_data"
    }
   ],
   "source": [
    "df.ARRIVAL_DELAY = df.ARRIVAL_DELAY.astype(float)\n",
    "arr_delays = df.loc[df[\"ARRIVAL_DELAY\"].astype(float) > 0].groupby(\"DEPARTURE_TIME\").mean()[\"ARRIVAL_DELAY\"]\n",
    "dep_delays = df.loc[df[\"DEPARTURE_DELAY\"].astype(float) > 0].groupby(\"DEPARTURE_TIME\").mean()[\"DEPARTURE_DELAY\"]\n",
    "arr_delays = np.array(arr_delays).reshape((48, 30)).mean(axis = 1)\n",
    "dep_delays = np.array(dep_delays).reshape((48, 30)).mean(axis = 1)\n",
    "f, ax1 = plt.subplots(1, 1, figsize = (10, 10))\n",
    "ax1.plot(arr_delays, label = \"arrival\", c = \"y\")\n",
    "ax1.set_title(\"TIME - DELAY\")\n",
    "plt.show()"
   ]
  },
  {
   "cell_type": "markdown",
   "metadata": {},
   "source": [
    "Можем увидеть, что наименьшее время задержки наблюдается - ночью"
   ]
  },
  {
   "cell_type": "code",
   "execution_count": 91,
   "metadata": {},
   "outputs": [
    {
     "data": {
      "image/png": "[encoded data removed]",
      "text/plain": [
       "<Figure size 720x720 with 1 Axes>"
      ]
     },
     "metadata": {
      "needs_background": "light"
     },
     "output_type": "display_data"
    }
   ],
   "source": [
    "df.ARRIVAL_DELAY = df.ARRIVAL_DELAY.astype(float)\n",
    "arr_delays = df.loc[df[\"ARRIVAL_DELAY\"].astype(float) > 0].groupby(\"DEPARTURE_TIME\").mean()[\"ARRIVAL_DELAY\"]\n",
    "dep_delays = df.loc[df[\"DEPARTURE_DELAY\"].astype(float) > 0].groupby(\"DEPARTURE_TIME\").mean()[\"DEPARTURE_DELAY\"]\n",
    "arr_delays = np.array(arr_delays).reshape((48, 30)).mean(axis = 1)\n",
    "dep_delays = np.array(dep_delays).reshape((48, 30)).mean(axis = 1)\n",
    "f, ax1 = plt.subplots(1, 1, figsize = (10, 10))\n",
    "ax1.plot(dep_delays, label = \"departure\", c = \"b\")\n",
    "ax1.legend()\n",
    "ax1.set_title(\"DEP-DELAY\")\n",
    "plt.show()"
   ]
  },
  {
   "cell_type": "markdown",
   "metadata": {},
   "source": [
    "В свою очередь график времени задержки от времени прилета имеет почти идентичный вид, что позволяет нам сделать вывод о том, что ночью еще и самые частые задержки"
   ]
  }
 ],
 "metadata": {
  "colab": {
   "provenance": []
  },
  "kernelspec": {
   "display_name": "Python 3 (ipykernel)",
   "language": "python",
   "name": "python3"
  },
  "language_info": {
   "codemirror_mode": {
    "name": "ipython",
    "version": 3
   },
   "file_extension": ".py",
   "mimetype": "text/x-python",
   "name": "python",
   "nbconvert_exporter": "python",
   "pygments_lexer": "ipython3",
   "version": "3.9.12"
  }
 },
 "nbformat": 4,
 "nbformat_minor": 1
}
