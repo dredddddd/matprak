{
 "cells": [
  {
   "cell_type": "markdown",
   "metadata": {
    "id": "gGaMEWqqdiYz"
   },
   "source": [
    "## Генераторы случайных чисел"
   ]
  },
  {
   "cell_type": "markdown",
   "metadata": {
    "id": "KKkc3qORdiY0"
   },
   "source": [
    "![img](https://cdn.ablebits.com/_img-blog/random-generator/random-generator.png)"
   ]
  },
  {
   "cell_type": "markdown",
   "metadata": {
    "id": "IhNeFPrWB79b"
   },
   "source": [
    "Желаемые свойства ГСЧ:\n",
    "* моделирует равномерное распределение на [0, 1]\n",
    "* проходит статистические тесты (какие?)\n",
    "* высокая скорость работы\n",
    "* большой период\n",
    "* может работать на любом вычислительном устройстве\n",
    "* воспроизводимость (а как же случайность?)\n",
    "* криптографическая устойчивость (это не противоречит предыдущим требованиям?)"
   ]
  },
  {
   "cell_type": "markdown",
   "metadata": {
    "id": "Ivc_wiGJB79d"
   },
   "source": [
    "Генератор псевдослучайных чисел - это __алгоритм__ (!!!), который проходит статистические тесты."
   ]
  },
  {
   "cell_type": "markdown",
   "metadata": {
    "id": "WmLz4oEcB79e"
   },
   "source": [
    "### Middle-square algorithm\n",
    "John von Neumann, 1949\n",
    "\n",
    "Идея:\n",
    "1. задаем четырехзначный seed - первое число случайной последовательности\n",
    "2. возводим в квадрат, получаем 8-ми значное число (при необходимости, дополняем нулями)\n",
    "3. берем четырехзначное число из середины - это следующий элемент случайной последовательности\n",
    "4. повторяем 2-3"
   ]
  },
  {
   "cell_type": "code",
   "execution_count": 1,
   "metadata": {
    "id": "QHF5-2ejB79g",
    "outputId": "d377fcd8-7440-4dca-fa84-4bd47ad4c650"
   },
   "outputs": [
    {
     "data": {
      "text/plain": [
       "array([5497, 2170, 7089, 2539, 4465, 9362, 6470, 8609, 1148, 3179, 1060,\n",
       "       1236, 5276, 8361, 9063, 1379, 9016, 2882, 3059, 3574, 7734, 8147,\n",
       "       3736, 9576, 6997, 9580, 7764, 2796, 8176, 8469, 7239, 4031, 2489,\n",
       "       1951, 8064,  280,  784, 6146, 7733, 7992, 8720,  384, 1474, 1726,\n",
       "       9790, 8441, 2504, 2700, 2900, 4100, 8100, 6100, 2100, 4100, 8100,\n",
       "       6100, 2100, 4100, 8100, 6100, 2100, 4100, 8100, 6100, 2100, 4100,\n",
       "       8100, 6100, 2100, 4100, 8100, 6100, 2100, 4100, 8100, 6100, 2100,\n",
       "       4100, 8100, 6100, 2100, 4100, 8100, 6100, 2100, 4100, 8100, 6100,\n",
       "       2100, 4100, 8100, 6100, 2100, 4100, 8100, 6100, 2100, 4100, 8100,\n",
       "       6100, 2100])"
      ]
     },
     "execution_count": 1,
     "metadata": {},
     "output_type": "execute_result"
    }
   ],
   "source": [
    "import numpy as np\n",
    "\n",
    "def midsquare(val, n=4):\n",
    "    return int(str(val**2).zfill(2*n)[n//2:-n//2])\n",
    "\n",
    "seed = 5497\n",
    "seq = [seed]\n",
    "for _ in range(100):\n",
    "    seq.append(midsquare(seq[-1]))\n",
    "np.array(seq)"
   ]
  },
  {
   "cell_type": "markdown",
   "metadata": {
    "id": "Ay4iPTlrB79l"
   },
   "source": [
    "Может быть усложним алгоритм, добавив еще несколько операций?"
   ]
  },
  {
   "cell_type": "markdown",
   "metadata": {
    "id": "jprLureoB79n"
   },
   "source": [
    "```\n",
    "… random numbers should not be\n",
    "generated with a method chosen at\n",
    "random. Some theory should be\n",
    "used. \n",
    "```\n",
    "D. Knuth"
   ]
  },
  {
   "cell_type": "markdown",
   "metadata": {
    "id": "z9EkarifdiY2"
   },
   "source": [
    "### Linear congruential generator (LCG)"
   ]
  },
  {
   "cell_type": "markdown",
   "metadata": {
    "id": "sx9CIKsSdiY2"
   },
   "source": [
    "Linear congruential generator производит последовательность:\n",
    "$$ z_{i+1} = (az_i + c) \\mod m $$\n",
    "\n",
    "Число $z_0$ называется *seed* и обеспечивает воспроизводимость последовательности “случайных” чисел.\n",
    "\n",
    "Напишем функцию, которая реализует LCG (на практике чуть сложнее):"
   ]
  },
  {
   "cell_type": "code",
   "execution_count": 2,
   "metadata": {
    "id": "LqxgMijIdiY3"
   },
   "outputs": [],
   "source": [
    "def rng(m=2**32, a=1103515245, c=12345):\n",
    "    rng.current = (a * rng.current + c) % m\n",
    "    return rng.current / m\n",
    "\n",
    "# setting the seed\n",
    "rng.current = 1"
   ]
  },
  {
   "cell_type": "markdown",
   "metadata": {
    "id": "d0AqPXS7diY5"
   },
   "source": [
    "Выведем несколько первых элементов последовательности:"
   ]
  },
  {
   "cell_type": "code",
   "execution_count": 3,
   "metadata": {
    "id": "osNjN2U4diY6",
    "outputId": "13438912-a5a1-4c67-dab6-6247d775602f"
   },
   "outputs": [
    {
     "data": {
      "text/plain": [
       "[0.25693503906950355,\n",
       " 0.5878706516232342,\n",
       " 0.15432575810700655,\n",
       " 0.767266943352297,\n",
       " 0.9738139626570046,\n",
       " 0.5858681506942958,\n",
       " 0.8511155843734741,\n",
       " 0.6132153405342251,\n",
       " 0.7473867232911289,\n",
       " 0.06236015981994569]"
      ]
     },
     "execution_count": 3,
     "metadata": {},
     "output_type": "execute_result"
    }
   ],
   "source": [
    "[rng() for _ in range(10)]"
   ]
  },
  {
   "cell_type": "markdown",
   "metadata": {
    "id": "LisfzOscB79t"
   },
   "source": [
    "Как проверить, что последовательность действительно похожа на выборку из равномерного распределения?"
   ]
  },
  {
   "cell_type": "markdown",
   "metadata": {
    "id": "hFVVA2cYB79u"
   },
   "source": [
    "Сделаем выборку побольше"
   ]
  },
  {
   "cell_type": "code",
   "execution_count": 4,
   "metadata": {
    "id": "aeb8sebTB79v"
   },
   "outputs": [],
   "source": [
    "samples = [rng() for _ in range(1000)]"
   ]
  },
  {
   "cell_type": "markdown",
   "metadata": {
    "id": "OBnret8cB79w"
   },
   "source": [
    "В качестве первого шага построим гистограмму"
   ]
  },
  {
   "cell_type": "code",
   "execution_count": 5,
   "metadata": {
    "id": "3UJjdzmYB79w",
    "outputId": "a1ec0cfc-0881-45aa-f284-2ee67e78e390"
   },
   "outputs": [
    {
     "data": {
      "image/png": "[encoded data removed]",
      "text/plain": [
       "<Figure size 432x288 with 1 Axes>"
      ]
     },
     "metadata": {},
     "output_type": "display_data"
    }
   ],
   "source": [
    "import matplotlib.pyplot as plt\n",
    "\n",
    "fig = plt.figure()\n",
    "fig.patch.set_facecolor('xkcd:white')\n",
    "plt.hist(samples, bins=20, density=True)\n",
    "plt.show()"
   ]
  },
  {
   "cell_type": "markdown",
   "metadata": {
    "id": "kdg3Bzl9B79x"
   },
   "source": [
    "На вид гистограммма не противоречит гипотезе о равномерности распределения, но нужны более точные количественные оценки. Их получают с помощью статистических тестов."
   ]
  },
  {
   "cell_type": "markdown",
   "metadata": {
    "id": "TBytIoFgB79y"
   },
   "source": [
    "### Статистические тесты\n",
    "\n",
    "Общая идея статистических тестов. Пусть мы хотим проверить гипотезу о том, что выборка Х принадлежит некоторому конкретному (совершенно конкретному) распределению F. Задача состоит в том, чтобы придумать такую статистику (функцию от выборки) T(X), которая в случае истинности нашей гипотезы будет иметь (при $n\\to\\infty$) наперед известное распределение, например N(0, 1). Посчитаем значение статистики Т=Т(Х) на нашей выборке. Если полученное число Т окажется крайне нетипичным для нормального N(0, 1) распределения, отвергнем гипотезу. Более точно, вычислим $p=P(|\\xi|\\ge|T|)$ для $\\xi\\sim N(0,1)$. Это число $p$ имеет специальное название: $p$-value. Если оно маленькое, например, меньше 0.05, то это повод отвергнуть гипотезу.\n",
    "\n",
    "Далее обсудим конкретные тесты."
   ]
  },
  {
   "cell_type": "markdown",
   "metadata": {
    "id": "MIAo0erGB79z"
   },
   "source": [
    "\n",
    "### Kolmogorov-Smirnov test\n",
    "\n",
    "Проверяем гипотезу, что выборка получена из распределения F.\n",
    "Вычисляем статистику\n",
    "$$T(X) = \\sup_x| F(x) - F_n(x)|,$$\n",
    "где $F_n(x)$ - эмпирическая функция распределения, построенная по выборке Х объема n.\n",
    "По сути, Т - это наибольшее расстояние между двумя графиками (см. картинку ниже).\n",
    "\n",
    "Оказывается, что в случае истинности гипотезы, величина $ \\sqrt{n}T$ имеет (в пределе больших n) особое распределение, которое называется [распределением Колмогорова](https://ru.wikipedia.org/wiki/%D0%A0%D0%B0%D1%81%D0%BF%D1%80%D0%B5%D0%B4%D0%B5%D0%BB%D0%B5%D0%BD%D0%B8%D0%B5_%D0%9A%D0%BE%D0%BB%D0%BC%D0%BE%D0%B3%D0%BE%D1%80%D0%BE%D0%B2%D0%B0).\n",
    "\n",
    "Распределение Колмогорова является табличным, поэтому для любого значения статистики Т мы можем найти $p$-value и увидеть, будет оно маленьким или нет."
   ]
  },
  {
   "cell_type": "markdown",
   "metadata": {
    "id": "vAdU8TLtB79z"
   },
   "source": [
    "![](https://upload.wikimedia.org/wikipedia/commons/thumb/c/cf/KS_Example.png/450px-KS_Example.png)"
   ]
  },
  {
   "cell_type": "markdown",
   "metadata": {
    "id": "ku3Sj0ysB790"
   },
   "source": [
    "На практике все делается одной строкой (проверяет гипотезу о принадлежности выбоки равномерному распределению ```stats.uniform.cdf```):"
   ]
  },
  {
   "cell_type": "code",
   "execution_count": 6,
   "metadata": {
    "id": "EKhVEXhNB790",
    "outputId": "76ffd79f-e0b4-4415-8a88-fc1af658ff60"
   },
   "outputs": [
    {
     "data": {
      "text/plain": [
       "KstestResult(statistic=0.026368738710880302, pvalue=0.48207388563860043)"
      ]
     },
     "execution_count": 6,
     "metadata": {},
     "output_type": "execute_result"
    }
   ],
   "source": [
    "from scipy import stats\n",
    "\n",
    "stats.kstest(samples, stats.uniform.cdf)"
   ]
  },
  {
   "cell_type": "markdown",
   "metadata": {
    "id": "0FPg-wpWB791"
   },
   "source": [
    "Как интерпретировать результаты?\n",
    "\n",
    "statistic=0.02636 - значение статистики (максимальное расстояние между графиками)\n",
    "\n",
    "pvalue=0.48921 - pvalue для этого значения статистики. Видим, что pvalue > 0.05, так что мы решаем НЕ отвергать гипотезу о равномерном распределении.\n",
    "\n",
    "Для сравнения, проверим гипотезу, что выборка порождена нормальным законом:"
   ]
  },
  {
   "cell_type": "code",
   "execution_count": 7,
   "metadata": {
    "id": "QJREPObSB792",
    "outputId": "a5709a54-7e91-4dca-aaa6-6561ca5cf2c9"
   },
   "outputs": [
    {
     "data": {
      "text/plain": [
       "KstestResult(statistic=0.500866322716208, pvalue=1.4724733582412854e-232)"
      ]
     },
     "execution_count": 7,
     "metadata": {},
     "output_type": "execute_result"
    }
   ],
   "source": [
    "stats.kstest(samples, stats.norm.cdf)"
   ]
  },
  {
   "cell_type": "markdown",
   "metadata": {
    "id": "RoAFDtE0B793"
   },
   "source": [
    "Здесь pvalue крайне маленькое, и мы смело отвергаем гипотезу."
   ]
  },
  {
   "cell_type": "markdown",
   "metadata": {
    "id": "ojnDaCBlB794"
   },
   "source": [
    "### Chi-squared test (Pearson's chi-squared test)"
   ]
  },
  {
   "cell_type": "markdown",
   "metadata": {
    "id": "OS6eB7WsB795"
   },
   "source": [
    "Один из самых популярных тестов. Снова проверяем гипотезу, что выборка (объема n) пришла из распределения F. Идея в том, чтобы разбить всю область определения случайной величины на К интервалов и в каждом интервале посчитать, сколько элементов выборки попало в данный интервал и сколько мы бы ожидали там увидеть, если бы выборка имела размер n и порождалась распределением F. Составляем статистику\n",
    "$$\\chi^2_{K-1}=\\sum\\limits_{i=1}^{K}\\frac{(E_i-O_i)^2}{E_i}$$\n",
    "\n",
    "$E_i, O_i$ - ожидаемые (expected) и наблюдаемые (observed) количества элементов выборки в i-ом интервале значений.\n",
    "\n",
    "Рекомендуется выбирать K таким, чтобы $O_i, E_i \\ge 5$.\n",
    "\n",
    "Если гипотеза верна, то статистика критерия имеет (в пределе больших n) распределение хи-квадрат с К-1 степенью свободы."
   ]
  },
  {
   "cell_type": "markdown",
   "metadata": {
    "id": "IvgBVsn1B796"
   },
   "source": [
    "Пример применения теста хи-квадрат:"
   ]
  },
  {
   "cell_type": "code",
   "execution_count": 8,
   "metadata": {
    "id": "SwboWGLkB797",
    "outputId": "70d565a7-1ff3-4e6f-db77-78545e1029f5"
   },
   "outputs": [
    {
     "data": {
      "text/plain": [
       "(array([42, 49, 55, 60, 49, 38, 51, 53, 51, 50, 50, 47, 38, 47, 45, 65, 50,\n",
       "        60, 56, 44]),\n",
       " array([50, 50, 50, 50, 50, 50, 50, 50, 50, 50, 50, 50, 50, 50, 50, 50, 50,\n",
       "        50, 50, 50]),\n",
       " Power_divergenceResult(statistic=18.599999999999998, pvalue=0.48275240319942647))"
      ]
     },
     "execution_count": 8,
     "metadata": {},
     "output_type": "execute_result"
    }
   ],
   "source": [
    "k = 20\n",
    "f_obs = np.histogram(samples, np.linspace(0, 1, k+1))[0]\n",
    "f_exp = np.full(k, len(samples) // k)\n",
    "\n",
    "f_obs, f_exp, stats.chisquare(f_obs, f_exp)"
   ]
  },
  {
   "cell_type": "markdown",
   "metadata": {
    "id": "7FF0U8s8B799"
   },
   "source": [
    "Вывод - наблюдаемое значение статистики не противоречит гипотезе о равномерном распределении."
   ]
  },
  {
   "cell_type": "markdown",
   "metadata": {
    "id": "pyzYguWUB79-"
   },
   "source": [
    "Проблема: последовательности ```sorted(samples)``` и ```samples``` неразличимы для KS и Chi2 тестов. Нужны дополнительные тесты.\n"
   ]
  },
  {
   "cell_type": "markdown",
   "metadata": {
    "id": "PsgdhVoHB79-"
   },
   "source": [
    "### Serial test"
   ]
  },
  {
   "cell_type": "markdown",
   "metadata": {
    "id": "Lw3GHXiDB79_"
   },
   "source": [
    "Идея: разбить последовательность $x_1, x_2, x_3, ..., x_{2n}$ на последовательные серии длины 2: $(x_1, x_2), (x_3, x_4), ..., (x_{2n-1}, x_{2n})$ и посмотреть на каждый элемент как на случайную и независимую точку в 2D пространстве. Далее применить хи-квадрат. Аналогично, можно строить серии длины 3, 4 и т.д."
   ]
  },
  {
   "cell_type": "code",
   "execution_count": 9,
   "metadata": {
    "id": "AaKMOmwwB7-A",
    "outputId": "58dafc55-5ba5-4b1e-f98a-7e8d240804fe"
   },
   "outputs": [
    {
     "data": {
      "image/png": "[encoded data removed]",
      "text/plain": [
       "<Figure size 360x360 with 1 Axes>"
      ]
     },
     "metadata": {},
     "output_type": "display_data"
    }
   ],
   "source": [
    "fig = plt.figure(figsize=(5, 5))\n",
    "fig.patch.set_facecolor('xkcd:white')\n",
    "\n",
    "plt.scatter(samples[::2], samples[1::2])\n",
    "plt.axis('equal')\n",
    "plt.show()"
   ]
  },
  {
   "cell_type": "markdown",
   "metadata": {
    "id": "oMfq-bGPB7-B"
   },
   "source": [
    "### Задача 1\n",
    "Реализовать serial test и применить к выборке samples"
   ]
  },
  {
   "cell_type": "code",
   "execution_count": 36,
   "metadata": {
    "id": "6ewEG1Q4B7-C"
   },
   "outputs": [
    {
     "name": "stdout",
     "output_type": "stream",
     "text": [
      "Power_divergenceResult(statistic=19.368944895260682, pvalue=0.7320379649642845)\n"
     ]
    }
   ],
   "source": [
    "def serial(m, n, samples):\n",
    "    K = np.empty(m*n)\n",
    "    K.fill(len(samples)//(2*m*n))\n",
    "    L = (np.histogram2d(samples[::2], samples[1::2], bins=[m, n]))[0].flatten()\n",
    "    print(stats.chisquare(K, L))\n",
    "serial(5, 5, samples)"
   ]
  },
  {
   "cell_type": "code",
   "execution_count": null,
   "metadata": {},
   "outputs": [],
   "source": []
  },
  {
   "cell_type": "markdown",
   "metadata": {
    "id": "vM9_25Q7B7-C"
   },
   "source": [
    "### Permutation test"
   ]
  },
  {
   "cell_type": "markdown",
   "metadata": {
    "id": "yQyhiyxpB7-D"
   },
   "source": [
    "Снова разобъем последовательность $x_1, x_2, x_3, ..., x_{dn}$ на последовательные серии длины d: $(x_1, ..., x_d), (x_{d+1}, x_{2d+d}), ..., (x_{nd-d}, x_{nd})$. Серия из d элементов может быть упорядочена d! способами и каждый способ упорядочивания равновероятен. Отсюда идея теста - посчитать, сколько раз каждый порядок встречается среди n серий и применить хи-квадрат тест."
   ]
  },
  {
   "cell_type": "markdown",
   "metadata": {
    "id": "A_cfF1XoB7-E"
   },
   "source": [
    "### Задача 2\n",
    "Реализовать permutation test и применить к выборке samples"
   ]
  },
  {
   "cell_type": "code",
   "execution_count": 37,
   "metadata": {
    "id": "m-bWyqbNB7-E"
   },
   "outputs": [
    {
     "name": "stdout",
     "output_type": "stream",
     "text": [
      "Power_divergenceResult(statistic=0.008, pvalue=0.9287300745648026)\n",
      "Power_divergenceResult(statistic=5.309090909090909, pvalue=0.37933391191130156)\n"
     ]
    }
   ],
   "source": [
    "def permutationtest(d, samples):\n",
    "    f_obs=np.zeros(factorial(d))\n",
    "    for j in range(d, len(samples) + 1, d):\n",
    "        n = 0\n",
    "        for i in permutations(sorted(samples[j - d : j])):\n",
    "            if samples[j - d : j] == list(i):\n",
    "                f_obs[n] += 1\n",
    "                break\n",
    "            n += 1\n",
    "    f_exp=np.full(factorial(d), len(samples) // (factorial(d) * d))\n",
    "    print(stats.chisquare(f_obs, f_exp))\n",
    "\n",
    "permutationtest(2, samples)\n",
    "permutationtest(3, samples[:-10])"
   ]
  },
  {
   "cell_type": "code",
   "execution_count": 42,
   "metadata": {
    "id": "9DWifIyadiY9",
    "outputId": "d08ab4b5-e5ac-45f2-9c26-82a8b4b88c6d"
   },
   "outputs": [
    {
     "data": {
      "text/plain": [
       "[3.051897510886192e-05,\n",
       " 0.00018310965970158577,\n",
       " 0.0008239871822297573,\n",
       " 0.003295936156064272,\n",
       " 0.012359732296317816,\n",
       " 0.04449496837332845,\n",
       " 0.15573221957311034,\n",
       " 0.533938602078706,\n",
       " 0.8020416363142431,\n",
       " 0.006802399177104235,\n",
       " 0.8224396682344377,\n",
       " 0.8734164168126881,\n",
       " 0.8385414867661893,\n",
       " 0.170501169282943,\n",
       " 0.47613363480195403,\n",
       " 0.3222912852652371,\n",
       " 0.6485449983738363,\n",
       " 0.9906484228558838,\n",
       " 0.10698555177077651,\n",
       " 0.7260775049217045]"
      ]
     },
     "execution_count": 42,
     "metadata": {},
     "output_type": "execute_result"
    }
   ],
   "source": [
    "def rng_bad(m=2**31, a=65539, c=0):\n",
    "    rng_bad.current = (a * rng_bad.current + c) % m\n",
    "    return rng_bad.current / m\n",
    "rng_bad.current = 1\n",
    "\n",
    "random = [rng_bad() for _ in range(30000)]\n",
    "random[:20]"
   ]
  },
  {
   "cell_type": "markdown",
   "metadata": {
    "id": "ClnjUt9ddiY_"
   },
   "source": [
    "Если попробовать построить гистограмму на подобной выборке, то распределение покажется равномерным"
   ]
  },
  {
   "cell_type": "code",
   "execution_count": 44,
   "metadata": {
    "id": "wBlZwI6ndiZA",
    "outputId": "c35d5abd-d540-4778-a9e6-169e0439fa1a"
   },
   "outputs": [
    {
     "data": {
      "image/png": "[encoded data removed]",
      "text/plain": [
       "<Figure size 432x288 with 1 Axes>"
      ]
     },
     "metadata": {},
     "output_type": "display_data"
    }
   ],
   "source": [
    "import matplotlib.pyplot as plt\n",
    "fig = plt.figure()\n",
    "fig.patch.set_facecolor('xkcd:white')\n",
    "\n",
    "plt.hist(random, 10, density=True)\n",
    "plt.show()"
   ]
  },
  {
   "cell_type": "markdown",
   "metadata": {
    "id": "hhKeCoMqB7-K"
   },
   "source": [
    "### Задача 3\n",
    "\n",
    "Привести статистический тест, который покажет, что с rng_bad есть проблемы, а с rng - нет."
   ]
  },
  {
   "cell_type": "code",
   "execution_count": 58,
   "metadata": {
    "id": "6IA048hYB7-L"
   },
   "outputs": [
    {
     "name": "stdout",
     "output_type": "stream",
     "text": [
      "Power_divergenceResult(statistic=914.0, pvalue=0.9740138982526487)\n",
      "Power_divergenceResult(statistic=1040.0, pvalue=0.17882416543039506)\n"
     ]
    }
   ],
   "source": [
    "K = np.histogram([rng_bad() for _ in range(3000)], np.linspace(0, 1, 1001))[0]\n",
    "L = np.empty(1000)\n",
    "L.fill(len([rng_bad() for _ in range(3000)]) // 1000)\n",
    "print(stats.chisquare(K, L))\n",
    "\n",
    "K = np.histogram([rng() for _ in range(3000)], np.linspace(0, 1, 1001))[0]\n",
    "L = np.empty(1000)\n",
    "L.fill(len([rng() for _ in range(3000)]) // 1000)\n",
    "print(stats.chisquare(K, L))"
   ]
  },
  {
   "cell_type": "markdown",
   "metadata": {
    "id": "vH11PZr2diZG"
   },
   "source": [
    "Больше тестов на случайность - [Diehard tests](https://en.wikipedia.org/wiki/Diehard_tests)."
   ]
  },
  {
   "cell_type": "markdown",
   "metadata": {
    "id": "E-_a6vHFhzGq"
   },
   "source": [
    "Больше методов генерации равномерной величины [здесь](https://en.wikipedia.org/wiki/List_of_random_number_generators)."
   ]
  },
  {
   "cell_type": "markdown",
   "metadata": {
    "id": "FfK7kS345riV"
   },
   "source": [
    "Сюжет про динамические системы и переход к хаосу https://www.youtube.com/watch?v=ovJcsL7vyrk&feature=youtu.be"
   ]
  },
  {
   "cell_type": "markdown",
   "metadata": {
    "id": "cuGe1hKIdiZH"
   },
   "source": [
    "## Генерация выборки из заданного распределения"
   ]
  },
  {
   "cell_type": "markdown",
   "metadata": {
    "id": "P_aljqUUdiZH"
   },
   "source": [
    "Допустим, у нас есть генератор случайных числе из отрезка [0, 1] (используйте для этого функцию `np.random.rand()`). Как получить выборку из другого распределения $F$?\n",
    "\n"
   ]
  },
  {
   "cell_type": "markdown",
   "metadata": {
    "id": "nicNq6-yrD7P"
   },
   "source": [
    "### Задача 4\n",
    "Смоделировать выборку объема 1000 из дискретного распределения на множестве цифр 0, 1, 2, ..., 9 с весами 0.12, 0.3, 0.167, 0.24, 0.31, 0.54, 0.111, 0.02, 0.001, 0.2. По выборке построить гистограмму. Оптимизируйте алгоритм, упорядочив веса."
   ]
  },
  {
   "cell_type": "code",
   "execution_count": 66,
   "metadata": {
    "id": "2djF1xMoq_1f"
   },
   "outputs": [
    {
     "data": {
      "image/png": "[encoded data removed]",
      "text/plain": [
       "<Figure size 360x360 with 1 Axes>"
      ]
     },
     "metadata": {
      "needs_background": "light"
     },
     "output_type": "display_data"
    }
   ],
   "source": [
    "T=[0.12, 0.3, 0.167, 0.24, 0.31, 0.54, 0.111, 0.02, 0.001, 0.2]\n",
    "\n",
    "L = []\n",
    "T=np.array(T)/sum(T)\n",
    "for i in range(len(T)+1):\n",
    "    L.append(sum(T[:i]))\n",
    "r = np.random.rand(1000)\n",
    "K=[]\n",
    "for i in r:\n",
    "    for j in range(len(L)-1):\n",
    "        if i >= L[j] and i < L[j+1]:\n",
    "            K.append(j)\n",
    "            break\n",
    "\n",
    "\n",
    "fig, M = plt.subplots(figsize=(5, 5))\n",
    "M.hist(K, 10)\n",
    "plt.show()"
   ]
  },
  {
   "cell_type": "markdown",
   "metadata": {
    "id": "LlRNa517diZK"
   },
   "source": [
    "### Задача 5\n",
    "Смоделируйте выборку размера 1000 из распределения $Exp(\\lambda)$ с помощью метода Inverse transform. Постройте выборочную гистограмму и точный график плотности распределения."
   ]
  },
  {
   "cell_type": "code",
   "execution_count": 68,
   "metadata": {
    "id": "vD1_buYgdiZK"
   },
   "outputs": [
    {
     "data": {
      "image/png": "[encoded data removed]",
      "text/plain": [
       "<Figure size 864x432 with 2 Axes>"
      ]
     },
     "metadata": {
      "needs_background": "light"
     },
     "output_type": "display_data"
    }
   ],
   "source": [
    "def expon(a, n):\n",
    "    r = np.random.rand(n)\n",
    "    return np.vectorize(lambda x: (-1/a)*math.log(1-x))(r)\n",
    "\n",
    "arr = expon(1, 1000)\n",
    "fig, (ax1, ax2) = plt.subplots(1, 2, figsize=(12, 6))\n",
    "ax1.hist(arr, 20)\n",
    "ax1.set_title(\"Выборочная гистограмма\")\n",
    "ax2.set_title(\"Плотность\")\n",
    "X = np.linspace(0, 10, 80, endpoint=True)\n",
    "\n",
    "C = np.exp(-X)\n",
    "ax2.plot(X, C)\n",
    "\n",
    "plt.show()"
   ]
  },
  {
   "cell_type": "markdown",
   "metadata": {
    "id": "UEtDHxDUdiZM"
   },
   "source": [
    "### Rejection sampling (Accept-reject method)\n",
    "\n",
    "Идея метода: сэмплить из распределения, из которого умеем, а затем отбирать точки, которые следуют нужному распределению. Более точно: пусть умеем моделировать выборку из распределения с плотностью $p$, а хотим получить выборку из распределения с плотностью $\\pi$. Возьмем случайный $x$ из распределения $p$. Затем возьмем $y$, равномерно распределенный на интервале $[0, p(x)]$. Если точка $(x, y)$ попала под график $\\pi$, то примем $x$ за элемент выборки из $\\pi$. Если нет - повторяем процедуру для нового $x$. Картинка иллюстрирует идею метода (плотности нормируются так, чтобы одна лежала целиком под другой):\n",
    "<img src=https://colcarroll.github.io/hamiltonian_monte_carlo_talk/images/bayes_talk.015.png style=\"width: 50%;\"/>\n",
    " "
   ]
  },
  {
   "cell_type": "markdown",
   "metadata": {
    "id": "Tgzc6QjxdiZN"
   },
   "source": [
    "### Задача 6\n",
    "Обоснуйте (устно), что метод accept-reject действительно производит выборку из нужного распределения. Смоделируйте 1000 точек из распределения с плотностью $e^xcos^2x$ на отрезке $[-\\pi/2, \\pi/2]$. По выборке постройте график выборочной гистограммы и сравните его с графиком точной функции плотности."
   ]
  },
  {
   "cell_type": "code",
   "execution_count": 71,
   "metadata": {
    "id": "06HcUVFBdiZN",
    "outputId": "05beb147-ff36-4ab9-f4ac-ea6686cb7cb1"
   },
   "outputs": [
    {
     "data": {
      "image/png": "[encoded data removed]",
      "text/plain": [
       "<Figure size 432x288 with 1 Axes>"
      ]
     },
     "metadata": {},
     "output_type": "display_data"
    }
   ],
   "source": [
    "fig = plt.figure()\n",
    "fig.patch.set_facecolor('xkcd:white')\n",
    "x = np.linspace(-np.pi / 2, np.pi / 2, 1000)\n",
    "plt.fill_between(x, 0, np.exp(x) * np.cos(x) ** 2)\n",
    "plt.show()"
   ]
  },
  {
   "cell_type": "code",
   "execution_count": 115,
   "metadata": {
    "id": "O6uRvW8pdiZP"
   },
   "outputs": [
    {
     "data": {
      "image/png": "[encoded data removed]",
      "text/plain": [
       "<Figure size 1200x600 with 2 Axes>"
      ]
     },
     "metadata": {},
     "output_type": "display_data"
    }
   ],
   "source": [
    "m = 0.464\n",
    "v = 0.75\n",
    "\n",
    "X = np.linspace(-np.pi / 2, np.pi / 2, 50, endpoint=True)\n",
    "Y = np.exp(X) * np.cos(X) ** 2\n",
    "def dens(x):\n",
    "    return 2.5 * (1 / ((2 * np.pi * (v ** 2)) ** 0.5)) * exp(-((x - m) ** 2) / (2 * (v ** 2)))\n",
    "Y1 = np.vectorize(dens)(X)\n",
    "\n",
    "\n",
    "i=0\n",
    "sample=[]\n",
    "while i < 1000:\n",
    "    s = np.random.normal(m, v)\n",
    "    if s >= -np.pi / 2 and s <= np.pi / 2:\n",
    "        if np.random.rand() * dens(s) <= exp(s) * (np.cos(s) ** 2):\n",
    "            sample.append(s)\n",
    "            i+=1\n",
    "fig, (ax1, ax2) = plt.subplots(1, 2, figsize=(12, 6))\n",
    "ax1.plot(X, Y, label=\"Сгенерированное\", c = \"b\")\n",
    "ax1.set_title(\"Плотность\")\n",
    "ax1.plot(X, Y1, label=\"Нормальное\", c = \"r\")\n",
    "ax1.legend()\n",
    "ax2.hist(sample, 30)\n",
    "ax2.set_title('Выборочная гистограмма')\n",
    "plt.show()\n"
   ]
  },
  {
   "cell_type": "markdown",
   "metadata": {
    "id": "kq8tMmPYdiZS"
   },
   "source": [
    "##  Coordinate transformation method\n",
    "\n",
    "Метод аccept-reject в ряде случаев может оказываться неэффективным и требовать слишком много пробных точек. Альтернатива -  попробовать найти преобразование координат, которое переводит простую область (из которой легко сэмплить, например, едининчный квадрат) в требуемую, но при этом сохраняет соотношение площадей (зачем?)."
   ]
  },
  {
   "cell_type": "markdown",
   "metadata": {
    "id": "xGIRsM7KdiZS"
   },
   "source": [
    "### Задача 7\n",
    "Смоделировать и изобразить выборку из 500 точек равномерно распределенных внутри данного треугольника без использования метода отбора. "
   ]
  },
  {
   "cell_type": "code",
   "execution_count": 82,
   "metadata": {
    "id": "V-aQwOVvdiZT",
    "outputId": "d6e9958f-57ab-4224-9974-13bc6b7bc351"
   },
   "outputs": [
    {
     "data": {
      "image/png": "[encoded data removed]",
      "text/plain": [
       "<Figure size 432x288 with 1 Axes>"
      ]
     },
     "metadata": {},
     "output_type": "display_data"
    }
   ],
   "source": [
    "%matplotlib inline\n",
    "from matplotlib.patches import Polygon\n",
    "from matplotlib.collections import PatchCollection\n",
    "fig = plt.figure()\n",
    "fig.patch.set_facecolor('xkcd:white')\n",
    "polygon = Polygon(np.array([[1, 0], [4, 2], [9, 1]]), True)\n",
    "sample = np.random.rand(1000).reshape((-1,2))\n",
    "for i in range(500):\n",
    "    if sample[i][0] + sample[i][1] > 1:\n",
    "        sample[i][0] = 1 - sample[i][0]\n",
    "        sample[i][1] = 1 - sample[i][1]    \n",
    "a=np.array([1, 0])\n",
    "b=np.array([3, 2])\n",
    "c=np.array([8, 1])\n",
    "points=[]\n",
    "for i in range(500):\n",
    "    points.append(a+sample[i][0] * c + sample[i][1] * b)\n",
    "points=np.array(points)\n",
    "plt.gca().add_collection(PatchCollection([polygon]))\n",
    "plt.scatter(points[:,0], points[:,1], s=1 ,c='b')\n",
    "plt.axis('equal')\n",
    "plt.show()"
   ]
  },
  {
   "cell_type": "markdown",
   "metadata": {
    "id": "p69CWYlBdiZW"
   },
   "source": [
    "### Задача 8\n",
    "Смоделировать без использования метода отбора выборку из 500 точек равномерно распределенных внутри единичного круга. Изобразите полученные точки. Они действительно равномерно заполняют круг?"
   ]
  },
  {
   "cell_type": "code",
   "execution_count": 88,
   "metadata": {
    "id": "trOeYSO9diZW",
    "outputId": "aaa9d07a-96da-4f86-cd68-06c5a5da7c2d"
   },
   "outputs": [
    {
     "data": {
      "image/png": "[encoded data removed]",
      "text/plain": [
       "<Figure size 432x288 with 1 Axes>"
      ]
     },
     "metadata": {},
     "output_type": "display_data"
    }
   ],
   "source": [
    "fig = plt.figure()\n",
    "fig.patch.set_facecolor('xkcd:white')\n",
    "t = np.linspace(0, 2 * np.pi, 100)\n",
    "plt.plot(np.sin(t), np.cos(t))\n",
    "plt.axis('equal')\n",
    "p=[]\n",
    "for i in range(500):\n",
    "    t = np.random.rand() * 2 * math.pi\n",
    "    r = math.sqrt(np.random.rand())\n",
    "    p.append(r * math.cos(t)) \n",
    "    p.append(r * math.sin(t))\n",
    "plt.scatter(p[::2], p[1::2], s=5, c=\"g\")\n",
    "plt.show()"
   ]
  },
  {
   "cell_type": "markdown",
   "metadata": {
    "id": "FV7suL2pdiZa"
   },
   "source": [
    "## Random normal generator"
   ]
  },
  {
   "cell_type": "markdown",
   "metadata": {
    "id": "YalKYO-bdiZb"
   },
   "source": [
    "### Задача 9\n",
    "Докажите (устно), что приведенный ниже алгоритм (Box-Muller algorithm) формирует выборку из независимых N(0,1) случаных величин. Модифицируйте метод, чтобы исключить вызовы тригонометрических функций ```np.sin``` и ```np.cos```. С помощью модифицированного метода смоделируйте выборку объема 1000 из двумерного гауссовского распределения со средним [4, 7] и ковариационной матрицей [[20,  -4],\n",
    "       [ -4, 40]]. Постройте 2D гистограмму полученного распределения. Сравните выборочное среднее и ковариационную матрицу с точными значениями."
   ]
  },
  {
   "cell_type": "code",
   "execution_count": null,
   "metadata": {
    "id": "L2ZJeRoJdiZc",
    "outputId": "5d57c746-0ffd-48d1-de6e-c4276349b305"
   },
   "outputs": [
    {
     "data": {
      "image/png": "[encoded data removed]",
      "text/plain": [
       "<Figure size 1080x360 with 3 Axes>"
      ]
     },
     "metadata": {},
     "output_type": "display_data"
    }
   ],
   "source": [
    "n = 1000\n",
    "u1, u2 = np.random.rand(2, n)\n",
    "r = np.sqrt(-2 * np.log(u1))\n",
    "theta = 2 * np.pi * u2\n",
    "x = r * np.cos(theta)\n",
    "y = r * np.sin(theta)\n",
    "\n",
    "fig, ax = plt.subplots(1, 3, figsize=(15, 5))\n",
    "fig.patch.set_facecolor('xkcd:white')\n",
    "ax[0].hist2d(x, y, bins=30)\n",
    "ax[0].axis('equal')\n",
    "ax[1].hist(x, bins=30)\n",
    "ax[2].hist(y, bins=30)\n",
    "ax[0].set_title(\"2d histogram\")\n",
    "ax[1].set_title(\"Histogram of x\")\n",
    "ax[2].set_title(\"Histogram of y\")\n",
    "plt.show()"
   ]
  },
  {
   "cell_type": "code",
   "execution_count": 91,
   "metadata": {
    "id": "DpYdmOuWdiZf"
   },
   "outputs": [
    {
     "data": {
      "image/png": "[encoded data removed]",
      "text/plain": [
       "<Figure size 432x288 with 1 Axes>"
      ]
     },
     "metadata": {
      "needs_background": "light"
     },
     "output_type": "display_data"
    }
   ],
   "source": [
    "T=[]\n",
    "i = 0\n",
    "while i <1000:\n",
    "    x = np.random.rand() * 2 - 1\n",
    "    y = np.random.rand() * 2 - 1\n",
    "    s = x**2 + y**2\n",
    "    if s>0 and s<=1:\n",
    "        T.append(x*math.sqrt(-2*math.log(s)/s))\n",
    "        T.append(y*math.sqrt(-2*math.log(s)/s))\n",
    "        i+=1\n",
    "sample=np.array(T).reshape((-1,2))\n",
    "a = np.array([20, -4, -4, 40]).reshape((2, 2))\n",
    "b = np.linalg.cholesky(a)\n",
    "sample2=np.transpose(np.dot(b, np.transpose(sample)))+np.full((1000, 2), [4, 7])\n",
    "fig = plt.figure()\n",
    "plt.hist2d(sample2[:,0], sample2[:,1])\n",
    "plt.show()"
   ]
  },
  {
   "cell_type": "markdown",
   "metadata": {
    "id": "14IvUqPM35xs"
   },
   "source": [
    "### Задача 10*\n",
    "\n",
    "Реализовать метод генерации случайного разбиения n-элементного множества на подмножества. С его помощью оценить ожидаемое число подмножеств в случайном разбиении множества из 100 элементов. \n",
    "\n",
    "Подсказка 1: Ширяев, Вероятность, т1, задача 2 к параграфу 1.\n",
    "\n",
    "Подсказка 2: http://djalil.chafai.net/blog/2012/05/03/generating-uniform-random-partitions/"
   ]
  },
  {
   "cell_type": "code",
   "execution_count": null,
   "metadata": {
    "id": "XrRiVz6idiZk"
   },
   "outputs": [],
   "source": [
    "# Solution here"
   ]
  }
 ],
 "metadata": {
  "colab": {
   "provenance": []
  },
  "kernelspec": {
   "display_name": "Python 3 (ipykernel)",
   "language": "python",
   "name": "python3"
  },
  "language_info": {
   "codemirror_mode": {
    "name": "ipython",
    "version": 3
   },
   "file_extension": ".py",
   "mimetype": "text/x-python",
   "name": "python",
   "nbconvert_exporter": "python",
   "pygments_lexer": "ipython3",
   "version": "3.9.12"
  },
  "vscode": {
   "interpreter": {
    "hash": "941ddece0b727abb90c75074ca5119195c0fcc502f0e8b0368b5c13152b170b2"
   }
  }
 },
 "nbformat": 4,
 "nbformat_minor": 1
}
