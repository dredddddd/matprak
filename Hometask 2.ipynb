{
 "cells": [
  {
   "cell_type": "code",
   "execution_count": 110,
   "id": "e54ad09f",
   "metadata": {},
   "outputs": [],
   "source": [
    "import numpy as np\n",
    "from scipy.spatial.distance import cdist as cd\n",
    "import matplotlib.pyplot as plt"
   ]
  },
  {
   "cell_type": "markdown",
   "id": "f355f8e4",
   "metadata": {},
   "source": [
    " # Задача номер 1"
   ]
  },
  {
   "cell_type": "code",
   "execution_count": 3,
   "id": "62a90ee1",
   "metadata": {},
   "outputs": [
    {
     "data": {
      "text/plain": [
       "array([[0., 0., 0., 0., 0.],\n",
       "       [1., 0., 0., 0., 0.],\n",
       "       [2., 1., 0., 0., 0.],\n",
       "       [3., 2., 1., 0., 0.],\n",
       "       [4., 3., 2., 1., 0.]])"
      ]
     },
     "execution_count": 3,
     "metadata": {},
     "output_type": "execute_result"
    }
   ],
   "source": [
    "arr_2d = np.zeros((5,5))\n",
    "arr_2d[2][1]=1\n",
    "arr_2d[3][2]=1\n",
    "arr_2d[4][3]=1\n",
    "arr_2d[1][0]=1\n",
    "arr_2d[3][1]=2\n",
    "arr_2d[4][2]=2\n",
    "arr_2d[2][0]=2\n",
    "arr_2d[4][1]=3\n",
    "arr_2d[3][0]=3\n",
    "arr_2d[4][0]=4\n",
    "arr_2d"
   ]
  },
  {
   "cell_type": "markdown",
   "id": "e2a713cc",
   "metadata": {},
   "source": [
    " # Задача номер 2"
   ]
  },
  {
   "cell_type": "code",
   "execution_count": 4,
   "id": "06abc0a5",
   "metadata": {
    "scrolled": false
   },
   "outputs": [
    {
     "name": "stdout",
     "output_type": "stream",
     "text": [
      "[0.91057476 0.88522716 0.73712226]\n",
      "[0.55383941 0.81864607 0.04442751]\n",
      "[0.39920215 0.02352595 0.46564155]\n",
      "[0.83312619 0.54331697 0.40192795]\n",
      "[0.6294853  0.85296198 0.03918176]\n",
      "[0.89788191 0.85184821 0.12570904]\n",
      "[0.73041542 0.35150153 0.43119733]\n",
      "[0.93176406 0.17970131 0.77998124]\n",
      "[0.43677874 0.09723652 0.58370723]\n",
      "[0.25377868 0.75464979 0.45932157]\n",
      "0.7371222592104539\n",
      "0.5538394061474461\n",
      "0.46564154506204136\n",
      "0.5433169727990063\n",
      "0.6294853039077642\n",
      "0.8518482086584698\n",
      "0.43119732738320515\n",
      "0.7799812369095115\n",
      "0.43677873625898367\n",
      "0.4593215743134529\n"
     ]
    }
   ],
   "source": [
    "arr_2d = np.random.random((10,3))\n",
    "for i in range (0,10):\n",
    "    print(arr_2d[i])\n",
    "c = 0\n",
    "for i in range (0,10):\n",
    "    c = arr_2d[i,0]\n",
    "    for k in range(0,2):\n",
    "        if (abs(arr_2d[i,(k+1)]-0.5)<=abs(c-0.5)):\n",
    "            c = arr_2d[i,(k+1)]\n",
    "    print(c)\n",
    "    c = 10000000\n",
    "\n",
    "        "
   ]
  },
  {
   "cell_type": "markdown",
   "id": "4eb78379",
   "metadata": {},
   "source": [
    " # Задача номер 3"
   ]
  },
  {
   "cell_type": "code",
   "execution_count": 5,
   "id": "9cd8d919",
   "metadata": {},
   "outputs": [
    {
     "name": "stdout",
     "output_type": "stream",
     "text": [
      "[0.09994393 0.12834381 0.44472755 0.7772093  0.85063892 0.82149284]\n",
      "[0.69671098 0.40912608 0.47392708 0.33542255 0.24870462 0.06101954]\n",
      "[0.24280846 0.09782802 0.96118227 0.30709537 0.80419255 0.11801918]\n",
      "[0.97157211 0.1624245  0.64424012 0.91242062 0.52368538 0.1288231 ]\n",
      "[0.75580999 0.46690335 0.48115879 0.70001255 0.3285463  0.30817387]\n",
      "[0.1671073  0.46472102 0.14572777 0.60121861 0.44484881 0.15403593]\n",
      "3.213715490784997\n",
      "4.765249256886095\n",
      "2.6333463719354437\n",
      "3.664062112228428\n",
      "3.574495348667843\n",
      "2.407397062598476\n"
     ]
    }
   ],
   "source": [
    "arr_2d = np.random.random((6,6))\n",
    "for i in range (0,6):\n",
    "    print(arr_2d[i])\n",
    "p = 0\n",
    "arr_2d = arr_2d.transpose()\n",
    "for i in range (0,6):\n",
    "    p = max(arr_2d[i])\n",
    "    l = 0\n",
    "    for k in range (0,6):\n",
    "        l=l+ arr_2d[k][i]\n",
    "    print(float(l)/p)"
   ]
  },
  {
   "cell_type": "markdown",
   "id": "a7b5b9c4",
   "metadata": {},
   "source": [
    "# Задача номер 4"
   ]
  },
  {
   "cell_type": "code",
   "execution_count": 14,
   "id": "d89efa3b",
   "metadata": {},
   "outputs": [
    {
     "name": "stdout",
     "output_type": "stream",
     "text": [
      "7\n"
     ]
    }
   ],
   "source": [
    "x = np.array([6, 2, 0, 3, 0, 0, 5, 7, 0])\n",
    "c = 0\n",
    "for k in range(len(x)-1):\n",
    "    if (x[k+1] == 0) and (x[k]>c):\n",
    "        c = x[k]\n",
    "print(c)"
   ]
  },
  {
   "cell_type": "markdown",
   "id": "39e58350",
   "metadata": {},
   "source": [
    "# Задача номер 5"
   ]
  },
  {
   "cell_type": "code",
   "execution_count": 11,
   "id": "a4e5c633",
   "metadata": {},
   "outputs": [
    {
     "name": "stdout",
     "output_type": "stream",
     "text": [
      "[2. 2. 2. 2. 1. 4. 1. 1. 2. 1.]\n"
     ]
    }
   ],
   "source": [
    "x = np.ones(10) \n",
    "i = np.array([0, 1, 2, 3, 5, 5, 5, 8])\n",
    "for k in range(len(i)):\n",
    "    x[i[k]] = x[i[k]]+1\n",
    "print(x)"
   ]
  },
  {
   "cell_type": "markdown",
   "id": "bdba9ab6",
   "metadata": {},
   "source": [
    "# Задача номер 6"
   ]
  },
  {
   "cell_type": "markdown",
   "id": "cbaf22ab",
   "metadata": {},
   "source": [
    "Два:\n",
    "np.round(arr)\n",
    "arr.round()"
   ]
  },
  {
   "cell_type": "markdown",
   "id": "860988c5",
   "metadata": {},
   "source": [
    "# Задача номер 7"
   ]
  },
  {
   "cell_type": "code",
   "execution_count": 102,
   "id": "b9da1699",
   "metadata": {},
   "outputs": [],
   "source": [
    "def knn(train_X, train_Y, test_X, k):\n",
    "    k2 = len(test_X)\n",
    "    distances = eucl(test_X, train_X)\n",
    "    nearest = np.argsort(distances)[:, :k] \n",
    "    nearest_labels = train_Y[nearest]\n",
    "    available_labels = np.unique(train_Y)\n",
    "    answers = np.concatenate([(nearest_labels == i).sum(axis = 1, keepdims = True) for i in available_labels], axis = 1)\n",
    "    answers = answers.argmax(axis = 1)\n",
    "    return available_labels[answers]\n",
    "        "
   ]
  },
  {
   "cell_type": "code",
   "execution_count": 103,
   "id": "3ca8246a",
   "metadata": {},
   "outputs": [],
   "source": [
    "def eucl(X, Y):\n",
    "    dist = cd(X,Y, metric = \"euclidean\")\n",
    "    return dist"
   ]
  },
  {
   "cell_type": "markdown",
   "id": "0f75ae55",
   "metadata": {},
   "source": [
    "# Задача номер 8"
   ]
  },
  {
   "cell_type": "code",
   "execution_count": 15,
   "id": "77e5863a",
   "metadata": {},
   "outputs": [],
   "source": [
    "from sklearn.datasets import fetch_openml\n",
    "images, labels = fetch_openml('mnist_784', return_X_y=True, as_frame=False)"
   ]
  },
  {
   "cell_type": "code",
   "execution_count": 36,
   "id": "02e4494b",
   "metadata": {},
   "outputs": [],
   "source": [
    "train_size = 1000\n",
    "train_images = images[:train_size]\n",
    "train_labels = labels[:train_size]\n",
    "test_size = 100\n",
    "test_images = images[-test_size:]\n",
    "test_labels = labels[-test_size:]"
   ]
  },
  {
   "cell_type": "code",
   "execution_count": 104,
   "id": "10235429",
   "metadata": {
    "scrolled": true
   },
   "outputs": [
    {
     "data": {
      "text/plain": [
       "array(['8', '9', '0', '1', '5', '7', '4', '5', '6', '7', '8', '0', '1',\n",
       "       '2', '3', '4', '7', '8', '9', '7', '8', '6', '9', '1', '4', '5',\n",
       "       '8', '4', '4', '7', '0', '1', '9', '2', '8', '7', '8', '2', '6',\n",
       "       '0', '6', '5', '3', '3', '9', '9', '1', '4', '0', '6', '1', '0',\n",
       "       '0', '6', '2', '1', '1', '7', '7', '5', '4', '6', '0', '7', '0',\n",
       "       '3', '6', '8', '7', '1', '5', '2', '4', '9', '4', '3', '6', '4',\n",
       "       '1', '7', '3', '6', '6', '0', '1', '7', '3', '4', '5', '6', '7',\n",
       "       '8', '9', '0', '1', '2', '3', '9', '5', '6'], dtype=object)"
      ]
     },
     "execution_count": 104,
     "metadata": {},
     "output_type": "execute_result"
    }
   ],
   "source": [
    "knn(train_images, train_labels, test_images, 5)"
   ]
  },
  {
   "cell_type": "code",
   "execution_count": 107,
   "id": "c5ab11c1",
   "metadata": {},
   "outputs": [],
   "source": [
    "from sklearn.metrics import accuracy_score"
   ]
  },
  {
   "cell_type": "code",
   "execution_count": 117,
   "id": "a0e7542b",
   "metadata": {},
   "outputs": [
    {
     "data": {
      "image/png": "[encoded data removed]",
      "text/plain": [
       "<Figure size 432x288 with 1 Axes>"
      ]
     },
     "metadata": {
      "needs_background": "light"
     },
     "output_type": "display_data"
    }
   ],
   "source": [
    "accuracy = []\n",
    "T = list(range(1,70))\n",
    "for k in T:\n",
    "    want = knn(train_images, train_labels, test_images, k)\n",
    "    accuracy.append(accuracy_score(test_labels, want))\n",
    "plt.plot(T, accuracy)\n",
    "plt.xlabel(\"k\")\n",
    "plt.ylabel(\"Accuracy\")\n",
    "plt.show()"
   ]
  },
  {
   "cell_type": "markdown",
   "id": "a5d9f877",
   "metadata": {},
   "source": [
    "# Оптимальное к - 1"
   ]
  },
  {
   "cell_type": "code",
   "execution_count": null,
   "id": "777ff1d0",
   "metadata": {},
   "outputs": [],
   "source": []
  }
 ],
 "metadata": {
  "kernelspec": {
   "display_name": "Python 3 (ipykernel)",
   "language": "python",
   "name": "python3"
  },
  "language_info": {
   "codemirror_mode": {
    "name": "ipython",
    "version": 3
   },
   "file_extension": ".py",
   "mimetype": "text/x-python",
   "name": "python",
   "nbconvert_exporter": "python",
   "pygments_lexer": "ipython3",
   "version": "3.9.12"
  }
 },
 "nbformat": 4,
 "nbformat_minor": 5
}
