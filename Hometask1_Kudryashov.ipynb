{
 "cells": [
  {
   "cell_type": "code",
   "execution_count": 23,
   "id": "6fa9deb0",
   "metadata": {},
   "outputs": [],
   "source": [
    "class Test:\n",
    "    @staticmethod\n",
    "    def assertEquals(a, b, *args, **kwargs):\n",
    "        assert a == b\n",
    "        print('Passed')"
   ]
  },
  {
   "cell_type": "markdown",
   "id": "afa52e5b",
   "metadata": {},
   "source": [
    "https://edabit.com/challenge/6R6gReGTGwzpwuffD"
   ]
  },
  {
   "cell_type": "code",
   "execution_count": 38,
   "id": "7614c141",
   "metadata": {},
   "outputs": [],
   "source": [
    "def sevenBoom(t):\n",
    "    c = 0;\n",
    "    b = 0;\n",
    "    k = 0;\n",
    "    for i in range (len(t)):\n",
    "        c = t[i]\n",
    "        while c!=0:\n",
    "            b = c%10\n",
    "            if b == 7:\n",
    "                k = 1\n",
    "                break\n",
    "            else:\n",
    "                c = (c-b)/10\n",
    "    if k==0:\n",
    "        return ('there is no 7 in the array')\n",
    "    else:\n",
    "        return ('Boom!')\n",
    "    \n",
    "    "
   ]
  },
  {
   "cell_type": "code",
   "execution_count": 39,
   "id": "7081ec27",
   "metadata": {},
   "outputs": [
    {
     "name": "stdout",
     "output_type": "stream",
     "text": [
      "Passed\n",
      "Passed\n",
      "Passed\n",
      "Passed\n",
      "Passed\n"
     ]
    }
   ],
   "source": [
    "Test.assertEquals(sevenBoom([2, 6, 7, 9, 3]), \"Boom!\")\n",
    "Test.assertEquals(sevenBoom([33, 68, 400, 5]), \"there is no 7 in the array\")\n",
    "Test.assertEquals(sevenBoom([86, 48, 100, 66]), \"there is no 7 in the array\")\n",
    "Test.assertEquals(sevenBoom([76, 55, 44, 32]), \"Boom!\")\n",
    "Test.assertEquals(sevenBoom([35, 4, 9, 37]), \"Boom!\")"
   ]
  },
  {
   "cell_type": "markdown",
   "id": "8538cb37",
   "metadata": {},
   "source": [
    "https://edabit.com/challenge/b7iHQDw72zzkmgCun"
   ]
  },
  {
   "cell_type": "code",
   "execution_count": 33,
   "id": "99f5ee28",
   "metadata": {},
   "outputs": [],
   "source": [
    "def countBoomerangs(a):\n",
    "    c=0\n",
    "    for i in range (len(a)-2):\n",
    "        if a[i]==a[i+2] and a[i]!=a[i+1]:\n",
    "            c = c+1\n",
    "    return c    \n",
    "    \n",
    "        "
   ]
  },
  {
   "cell_type": "code",
   "execution_count": 34,
   "id": "dc17520e",
   "metadata": {},
   "outputs": [
    {
     "name": "stdout",
     "output_type": "stream",
     "text": [
      "Passed\n",
      "Passed\n",
      "Passed\n",
      "Passed\n",
      "Passed\n",
      "Passed\n",
      "Passed\n",
      "Passed\n",
      "Passed\n",
      "Passed\n",
      "Passed\n",
      "Passed\n"
     ]
    }
   ],
   "source": [
    "Test.assertEquals(countBoomerangs([9, 5, 9, 5, 1, 1, 1]), 2)\n",
    "Test.assertEquals(countBoomerangs([5, 6, 6, 7, 6, 3, 9]), 1)\n",
    "Test.assertEquals(countBoomerangs([4, 4, 4, 9, 9, 9, 9]), 0)\n",
    "Test.assertEquals(countBoomerangs([5, 9, 5, 9, 5]), 3)\n",
    "Test.assertEquals(countBoomerangs([4, 4, 4, 8, 4, 8, 4]), 3)\n",
    "Test.assertEquals(countBoomerangs([2, 2, 2, 2, 2, 2, 3]), 0)\n",
    "Test.assertEquals(countBoomerangs([2, 2, 2, 2, 3, 2, 3]), 2)\n",
    "Test.assertEquals(countBoomerangs([1, 2, 1, 1, 1, 2, 1]), 2)\n",
    "Test.assertEquals(countBoomerangs([5, 1, 1, 1, 1, 4, 1]), 1)\n",
    "Test.assertEquals(countBoomerangs([3, 7, 3, 2, 1, 5, 1, 2, 2, -2, 2]), 3)\n",
    "Test.assertEquals(countBoomerangs([1, 7, 1, 7, 1, 7, 1]), 5)\n",
    "Test.assertEquals(countBoomerangs([5, 5, 5]), 0)"
   ]
  },
  {
   "cell_type": "markdown",
   "id": "8accc6cb",
   "metadata": {},
   "source": [
    "https://edabit.com/challenge/XayqZJQQ5oJJGZSqc"
   ]
  },
  {
   "cell_type": "code",
   "execution_count": 68,
   "id": "b0212e1b",
   "metadata": {},
   "outputs": [],
   "source": [
    "def goldDistribution(a):\n",
    "    m1=0\n",
    "    m2=len(a)-1\n",
    "    k1 = 0\n",
    "    k2 = 0\n",
    "    t = 0\n",
    "    for i in range (len(a)-3):\n",
    "        if t == 0:\n",
    "            if a[m1]>=a[m2]:\n",
    "                k1 = k1+a[m1]\n",
    "                m1 = m1+1\n",
    "                t = 1\n",
    "            else:\n",
    "                k1 = k1 + a[m2]\n",
    "                m2 = m2 - 1\n",
    "                t = 1\n",
    "        if t == 1:\n",
    "            if a[m1]>=a[m2]:\n",
    "                k2 = k2+a[m1]\n",
    "                m1 = m1+1\n",
    "                t = 0\n",
    "            else:\n",
    "                k2 = k2 + a[m2]\n",
    "                m2 = m2 - 1\n",
    "                t = 0\n",
    "    print ([k1, k2])\n",
    "    \n",
    "        \n",
    "    "
   ]
  },
  {
   "cell_type": "code",
   "execution_count": 69,
   "id": "e40a5b53",
   "metadata": {},
   "outputs": [
    {
     "name": "stdout",
     "output_type": "stream",
     "text": [
      "[14, 15]\n"
     ]
    }
   ],
   "source": [
    "goldDistribution([4, 2, 9, 5, 2, 7])"
   ]
  },
  {
   "cell_type": "markdown",
   "id": "64139061",
   "metadata": {},
   "source": [
    "https://edabit.com/challenge/r6TSNwkLZ2DgsoKiH"
   ]
  },
  {
   "cell_type": "code",
   "execution_count": 75,
   "id": "9dc6389a",
   "metadata": {},
   "outputs": [],
   "source": [
    "def oddishOrEvenish(t):\n",
    "    c = t\n",
    "    k = 0\n",
    "    b = 0\n",
    "    while c!=0:\n",
    "        b =c%10\n",
    "        k =k + b\n",
    "        c =(c-b)/10            \n",
    "    if k%2 == 1:\n",
    "        return ('Oddish')\n",
    "    else:\n",
    "        return ('Evenish')"
   ]
  },
  {
   "cell_type": "code",
   "execution_count": 78,
   "id": "f85c8f16",
   "metadata": {},
   "outputs": [
    {
     "name": "stdout",
     "output_type": "stream",
     "text": [
      "Passed\n",
      "Passed\n",
      "Passed\n",
      "Passed\n",
      "Passed\n",
      "Passed\n",
      "Passed\n"
     ]
    }
   ],
   "source": [
    "Test.assertEquals(oddishOrEvenish(43), \"Oddish\");\n",
    "Test.assertEquals(oddishOrEvenish(373), \"Oddish\");\n",
    "Test.assertEquals(oddishOrEvenish(55551), \"Oddish\");\n",
    "Test.assertEquals(oddishOrEvenish(694), \"Oddish\");\n",
    "Test.assertEquals(oddishOrEvenish(4433), \"Evenish\");\n",
    "Test.assertEquals(oddishOrEvenish(11), \"Evenish\");\n",
    "Test.assertEquals(oddishOrEvenish(211112), \"Evenish\");"
   ]
  },
  {
   "cell_type": "markdown",
   "id": "d117031e",
   "metadata": {},
   "source": [
    "https://edabit.com/challenge/pyxXekyofGasXX2me"
   ]
  },
  {
   "cell_type": "code",
   "execution_count": 80,
   "id": "e6a38efa",
   "metadata": {},
   "outputs": [],
   "source": [
    "def isDisarium(t):\n",
    "    a = t\n",
    "    c = t\n",
    "    k = 0\n",
    "    b = 0\n",
    "    l = 0\n",
    "    while c!=0:\n",
    "        b =c%10\n",
    "        k =k + 1\n",
    "        c =(c-b)/10 \n",
    "    c=a\n",
    "    while c!=0:\n",
    "        b =c%10\n",
    "        l = l + b**k\n",
    "        k =k - 1\n",
    "        c =(c-b)/10\n",
    "    c=a\n",
    "    if c == l:\n",
    "        return ('true')\n",
    "    else:\n",
    "        return ('false')"
   ]
  },
  {
   "cell_type": "markdown",
   "id": "ce985679",
   "metadata": {},
   "source": [
    "Нерабочие тесты, вот пара моих тестов ниже"
   ]
  },
  {
   "cell_type": "code",
   "execution_count": 89,
   "id": "1947a212",
   "metadata": {},
   "outputs": [
    {
     "data": {
      "text/plain": [
       "'false'"
      ]
     },
     "execution_count": 89,
     "metadata": {},
     "output_type": "execute_result"
    }
   ],
   "source": [
    "isDisarium(75) #false"
   ]
  },
  {
   "cell_type": "code",
   "execution_count": 90,
   "id": "063b7536",
   "metadata": {},
   "outputs": [
    {
     "data": {
      "text/plain": [
       "'true'"
      ]
     },
     "execution_count": 90,
     "metadata": {},
     "output_type": "execute_result"
    }
   ],
   "source": [
    "isDisarium(135) #true"
   ]
  },
  {
   "cell_type": "code",
   "execution_count": 91,
   "id": "1d077774",
   "metadata": {},
   "outputs": [
    {
     "data": {
      "text/plain": [
       "'true'"
      ]
     },
     "execution_count": 91,
     "metadata": {},
     "output_type": "execute_result"
    }
   ],
   "source": [
    "isDisarium(518) #true"
   ]
  },
  {
   "cell_type": "code",
   "execution_count": 92,
   "id": "40a551cf",
   "metadata": {},
   "outputs": [
    {
     "data": {
      "text/plain": [
       "'false'"
      ]
     },
     "execution_count": 92,
     "metadata": {},
     "output_type": "execute_result"
    }
   ],
   "source": [
    "isDisarium(466)#false"
   ]
  },
  {
   "cell_type": "code",
   "execution_count": null,
   "id": "a560b4ee",
   "metadata": {},
   "outputs": [],
   "source": []
  }
 ],
 "metadata": {
  "kernelspec": {
   "display_name": "Python 3 (ipykernel)",
   "language": "python",
   "name": "python3"
  },
  "language_info": {
   "codemirror_mode": {
    "name": "ipython",
    "version": 3
   },
   "file_extension": ".py",
   "mimetype": "text/x-python",
   "name": "python",
   "nbconvert_exporter": "python",
   "pygments_lexer": "ipython3",
   "version": "3.9.12"
  }
 },
 "nbformat": 4,
 "nbformat_minor": 5
}
